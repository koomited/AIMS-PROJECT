{
  "cells": [
    {
      "cell_type": "markdown",
      "metadata": {},
      "source": [
        "# Libraries"
      ]
    },
    {
      "cell_type": "code",
      "execution_count": 1,
      "metadata": {},
      "outputs": [
        {
          "name": "stderr",
          "output_type": "stream",
          "text": [
            "/home/koomi_aims_ac_za/koomi/research/venv/lib/python3.10/site-packages/tqdm/auto.py:21: TqdmWarning: IProgress not found. Please update jupyter and ipywidgets. See https://ipywidgets.readthedocs.io/en/stable/user_install.html\n",
            "  from .autonotebook import tqdm as notebook_tqdm\n"
          ]
        }
      ],
      "source": [
        "import xarray as xr\n",
        "from datetime import datetime\n",
        "\n",
        "import torch\n",
        "\n",
        "from aurora import AuroraSmall, Batch, Metadata, rollout\n",
        "import matplotlib.pyplot as plt\n",
        "\n",
        "from pathlib import Path\n",
        "\n",
        "import cdsapi\n",
        "import numpy as np\n",
        "from sklearn.metrics import root_mean_squared_error"
      ]
    },
    {
      "cell_type": "markdown",
      "metadata": {},
      "source": [
        "# Manage memories issues"
      ]
    },
    {
      "cell_type": "code",
      "execution_count": 2,
      "metadata": {},
      "outputs": [],
      "source": [
        "\n",
        "torch.cuda.empty_cache()\n",
        "import os\n",
        "os.environ[\"PYTORCH_CUDA_ALLOC_CONF\"] = \"max_split_size_mb:1024\""
      ]
    },
    {
      "cell_type": "markdown",
      "metadata": {
        "id": "cq12r41BVFys"
      },
      "source": [
        "# Downloading the Data"
      ]
    },
    {
      "cell_type": "markdown",
      "metadata": {},
      "source": [
        "pip uninstall torch torchvision torchaudio\n",
        "pip install torch torchvision torchaudio --index-url https://download.pytorch.org/whl/cu121\n"
      ]
    },
    {
      "cell_type": "code",
      "execution_count": 3,
      "metadata": {},
      "outputs": [],
      "source": [
        "# !pip install cdsapi\n",
        "# !pip install torch\n",
        "# import os\n",
        "# # os.environ[\"PYTORCH_CUDA_ALLOC_CONF\"] = \"expandable_segments:True\"\n",
        "# # os.environ[\"PYTORCH_CUDA_ALLOC_CONF\"] = \"max_split_size_mb:1024\""
      ]
    },
    {
      "cell_type": "code",
      "execution_count": 4,
      "metadata": {
        "colab": {
          "base_uri": "https://localhost:8080/",
          "height": 852,
          "referenced_widgets": [
            "64f537fda0464fb2b7ec5e64fca2dbca",
            "45aa2d3c80e54eae85a0d6659949b45c",
            "2baf9b9fd1fd4a37a85076993a50b509",
            "86ec9795a7064fe4a23c168914a710ec",
            "77f9819c787a46ac8470a3e37ac82719",
            "09d508fe1b75426ebf8a760bc733f50b",
            "3245a52044bd431aa9d76d94090cb76f",
            "1d6ecc9874834c018728ea5e814058da",
            "5e3a590ba9934c248737af518a5d4507",
            "9e5ad0a89eae42ee9066aceb7b67b7ad",
            "1d7e466a33a04a6c8a9fa162d557c7de",
            "15e58259de694db0a62d0be392c5ccec",
            "761c45a2bbaf49238f02f340851dba37",
            "db0723afcf6f4bdaa4a223466a0c0d7c",
            "81bba871e44644b1ac91645025dd73ec",
            "e41f09b225ed450795e1335382300df0",
            "ff368a12f1714a8386a99b41c26462c3",
            "3f8f86b1c50e439780b3d28ac11a0ae0",
            "fa5078a8e7fc40388bd0ebb50d281d24",
            "219eb0d6759145e8b2061344a355ffd9",
            "68358bfdd4154ba2a3865b242b478e96",
            "4b54036b158241308cbf65dacd2e0e45",
            "b02995007a8741d3aa4f58f2869251db",
            "d9e8d7fe923d4ef9929ebee39400acd2",
            "06250e9178b9491c85a874538cf57f19",
            "9b9e4a12431b45af8003f311db478d7e",
            "78a76ff011c34233988de4440d9a65ec",
            "d194468bc28d4cdf9d7333c75f2bf980",
            "1cfb5483e51f4442b376cdb582cc42e2",
            "6fc2d491c6854c92bf72085106f08df7",
            "2662f0db46c243bdbfadf502cc1c613a",
            "0742e3cf50f34393937e312d3ebbf14a",
            "497dff2e3f7f416d9d50a303af44d895"
          ]
        },
        "id": "XfYIIMlVvFmq",
        "outputId": "5af588b2-8cc9-4a8f-b096-ec85922b1a46"
      },
      "outputs": [
        {
          "name": "stderr",
          "output_type": "stream",
          "text": [
            "2025-02-16 17:14:06,388 INFO [2024-09-26T00:00:00] Watch our [Forum](https://forum.ecmwf.int/) for Announcements, news and other discussed topics.\n",
            "2025-02-16 17:14:06,389 WARNING [2024-06-16T00:00:00] CDS API syntax is changed and some keys or parameter names may have also changed. To avoid requests failing, please use the \"Show API request code\" tool on the dataset Download Form to check you are using the correct syntax for your API request.\n"
          ]
        },
        {
          "name": "stdout",
          "output_type": "stream",
          "text": [
            "Static variables downloaded!\n",
            "Surface-level variables downloaded!\n",
            "Atmospheric variables downloaded!\n"
          ]
        }
      ],
      "source": [
        "\n",
        "\n",
        "# Data will be downloaded here.\n",
        "download_path = Path(\"data\")\n",
        "\n",
        "c = cdsapi.Client()\n",
        "\n",
        "download_path = download_path.expanduser()\n",
        "download_path.mkdir(parents=True, exist_ok=True)\n",
        "\n",
        "# Download the static variables.\n",
        "if not (download_path / \"static.nc\").exists():\n",
        "    c.retrieve(\n",
        "        \"reanalysis-era5-single-levels\",\n",
        "        {\n",
        "            \"product_type\": \"reanalysis\",\n",
        "            \"variable\": [\n",
        "                \"geopotential\",\n",
        "                \"land_sea_mask\",\n",
        "                \"soil_type\",\n",
        "            ],\n",
        "            \"year\": \"2023\",\n",
        "            \"month\": \"01\",\n",
        "            \"day\": \"01\",\n",
        "            \"time\": \"00:00\",\n",
        "            \"format\": \"netcdf\",\n",
        "        },\n",
        "        str(download_path / \"static.nc\"),\n",
        "    )\n",
        "print(\"Static variables downloaded!\")\n",
        "\n",
        "# Download the surface-level variables.\n",
        "if not (download_path / \"2023-01-01-surface-level.nc\").exists():\n",
        "    c.retrieve(\n",
        "        \"reanalysis-era5-single-levels\",\n",
        "        {\n",
        "            \"product_type\": \"reanalysis\",\n",
        "            \"variable\": [\n",
        "                \"2m_temperature\",\n",
        "                \"10m_u_component_of_wind\",\n",
        "                \"10m_v_component_of_wind\",\n",
        "                \"mean_sea_level_pressure\",\n",
        "            ],\n",
        "            \"year\": \"2023\",\n",
        "            \"month\": \"01\",\n",
        "            \"day\": \"01\",\n",
        "            \"time\": [\"00:00\", \"06:00\", \"12:00\", \"18:00\"],\n",
        "            \"format\": \"netcdf\",\n",
        "        },\n",
        "        str(download_path / \"2023-01-01-surface-level.nc\"),\n",
        "    )\n",
        "print(\"Surface-level variables downloaded!\")\n",
        "\n",
        "# Download the atmospheric variables.\n",
        "if not (download_path / \"2023-01-01-atmospheric.nc\").exists():\n",
        "    c.retrieve(\n",
        "        \"reanalysis-era5-pressure-levels\",\n",
        "        {\n",
        "            \"product_type\": \"reanalysis\",\n",
        "            \"variable\": [\n",
        "                \"temperature\",\n",
        "                \"u_component_of_wind\",\n",
        "                \"v_component_of_wind\",\n",
        "                \"specific_humidity\",\n",
        "                \"geopotential\",\n",
        "            ],\n",
        "            \"pressure_level\": [\n",
        "                \"50\",\n",
        "                \"100\",\n",
        "                \"150\",\n",
        "                \"200\",\n",
        "                \"250\",\n",
        "                \"300\",\n",
        "                \"400\",\n",
        "                \"500\",\n",
        "                \"600\",\n",
        "                \"700\",\n",
        "                \"850\",\n",
        "                \"925\",\n",
        "                \"1000\",\n",
        "            ],\n",
        "            \"year\": \"2023\",\n",
        "            \"month\": \"01\",\n",
        "            \"day\": \"01\",\n",
        "            \"time\": [\"00:00\", \"06:00\", \"12:00\", \"18:00\"],\n",
        "            \"format\": \"netcdf\",\n",
        "        },\n",
        "        str(download_path / \"2023-01-01-atmospheric.nc\"),\n",
        "    )\n",
        "print(\"Atmospheric variables downloaded!\")"
      ]
    },
    {
      "cell_type": "markdown",
      "metadata": {
        "id": "rDpc3fL9d-E4"
      },
      "source": [
        "# Preparing a Batch"
      ]
    },
    {
      "cell_type": "code",
      "execution_count": 13,
      "metadata": {
        "id": "w9uHb1SovLYf"
      },
      "outputs": [],
      "source": [
        "import torch\n",
        "import xarray as xr\n",
        "import aurora\n",
        "from aurora import Batch, Metadata\n",
        "\n",
        "static_vars_ds = xr.open_dataset(download_path / \"static.nc\", engine=\"netcdf4\")\n",
        "surf_vars_ds = xr.open_dataset(download_path / \"2023-01-01-surface-level.nc\", engine=\"netcdf4\")\n",
        "atmos_vars_ds = xr.open_dataset(download_path / \"2023-01-01-atmospheric.nc\", engine=\"netcdf4\")\n",
        "\n",
        "i = 3  # Select this time index in the downloaded data.\n",
        "\n",
        "batch = Batch(\n",
        "    surf_vars={\n",
        "        # First select time points `i` and `i - 1`. Afterwards, `[None]` inserts a\n",
        "        # batch dimension of size one.\n",
        "        \"2t\": torch.from_numpy(surf_vars_ds[\"t2m\"].values[[i - 1, i]][None]),\n",
        "        \"10u\": torch.from_numpy(surf_vars_ds[\"u10\"].values[[i - 1, i]][None]),\n",
        "        \"10v\": torch.from_numpy(surf_vars_ds[\"v10\"].values[[i - 1, i]][None]),\n",
        "        \"msl\": torch.from_numpy(surf_vars_ds[\"msl\"].values[[i - 1, i]][None]),\n",
        "    },\n",
        "    static_vars={\n",
        "        # The static variables are constant, so we just get them for the first time.\n",
        "        \"z\": torch.from_numpy(static_vars_ds[\"z\"].values[0]),\n",
        "        \"slt\": torch.from_numpy(static_vars_ds[\"slt\"].values[0]),\n",
        "        \"lsm\": torch.from_numpy(static_vars_ds[\"lsm\"].values[0]),\n",
        "    },\n",
        "    atmos_vars={\n",
        "        \"t\": torch.from_numpy(atmos_vars_ds[\"t\"].values[[i - 1, i]][None]),\n",
        "        \"u\": torch.from_numpy(atmos_vars_ds[\"u\"].values[[i - 1, i]][None]),\n",
        "        \"v\": torch.from_numpy(atmos_vars_ds[\"v\"].values[[i - 1, i]][None]),\n",
        "        \"q\": torch.from_numpy(atmos_vars_ds[\"q\"].values[[i - 1, i]][None]),\n",
        "        \"z\": torch.from_numpy(atmos_vars_ds[\"z\"].values[[i - 1, i]][None]),\n",
        "    },\n",
        "    metadata=Metadata(\n",
        "        lat=torch.from_numpy(surf_vars_ds.latitude.values),\n",
        "        lon=torch.from_numpy(surf_vars_ds.longitude.values),\n",
        "        # Converting to `datetime64[s]` ensures that the output of `tolist()` gives\n",
        "        # `datetime.datetime`s. Note that this needs to be a tuple of length one:\n",
        "        # one value for every batch element.\n",
        "        time=(surf_vars_ds.valid_time.values.astype(\"datetime64[s]\").tolist()[i],),\n",
        "        atmos_levels=tuple(int(level) for level in atmos_vars_ds.pressure_level.values),\n",
        "    ),\n",
        ")"
      ]
    },
    {
      "cell_type": "code",
      "execution_count": 14,
      "metadata": {},
      "outputs": [
        {
          "data": {
            "text/plain": [
              "(datetime.datetime(2023, 1, 1, 18, 0),)"
            ]
          },
          "execution_count": 14,
          "metadata": {},
          "output_type": "execute_result"
        }
      ],
      "source": [
        "batch.metadata.time"
      ]
    },
    {
      "cell_type": "markdown",
      "metadata": {
        "id": "OYa7rP-3eC6P"
      },
      "source": [
        "# Loading and Running the Model"
      ]
    },
    {
      "cell_type": "code",
      "execution_count": 7,
      "metadata": {
        "colab": {
          "base_uri": "https://localhost:8080/",
          "height": 178,
          "referenced_widgets": [
            "1c018dcf8e694521854f9ec1bd2db2b7",
            "630bb76a1bcb4c36a9dfd136b01c24ef",
            "3e5307ece3c1430fb1a805eab1f42729",
            "5b762cf2f8d24ec0a1827918ab7bf5ce",
            "df9f510307574caaa8218117ddbd7091",
            "822424fab6174ae0a92a65a256abc5fc",
            "31f7da5fdc6a4aafa619f7f1324650fe",
            "3cac4179bf964666b747a42229ac7745",
            "80955776364944e1a9941cf0b972b138",
            "ff5f9847c7014d16b78d382c90767e51",
            "4f487928bcbf47ab9f596a8ad28b6503"
          ]
        },
        "id": "3N6CXxDfd_3y",
        "outputId": "37f65bc9-4053-4aad-8070-2d4548072066"
      },
      "outputs": [
        {
          "data": {
            "text/plain": [
              "<All keys matched successfully>"
            ]
          },
          "execution_count": 7,
          "metadata": {},
          "output_type": "execute_result"
        }
      ],
      "source": [
        "model = AuroraSmall()\n",
        "\n",
        "model.load_state_dict(torch.load('model/aurora.pth'))"
      ]
    },
    {
      "cell_type": "markdown",
      "metadata": {},
      "source": [
        "## Make some predictions"
      ]
    },
    {
      "cell_type": "code",
      "execution_count": 8,
      "metadata": {
        "id": "pakGla_tSTvS"
      },
      "outputs": [],
      "source": [
        "model.eval()\n",
        "model = model.to(\"cuda\")\n",
        "\n",
        "with torch.inference_mode():\n",
        "    preds = [pred.to(\"cpu\") for pred in rollout(model, batch, steps=2)]\n",
        "\n",
        "model = model.to(\"cpu\")"
      ]
    },
    {
      "cell_type": "code",
      "execution_count": 9,
      "metadata": {},
      "outputs": [
        {
          "data": {
            "text/plain": [
              "torch.Size([720, 1440])"
            ]
          },
          "execution_count": 9,
          "metadata": {},
          "output_type": "execute_result"
        }
      ],
      "source": [
        "batch.surf_vars[\"2t\"][0, 0][:-1, :].shape"
      ]
    },
    {
      "cell_type": "code",
      "execution_count": 10,
      "metadata": {},
      "outputs": [
        {
          "data": {
            "text/plain": [
              "torch.Size([720, 1440])"
            ]
          },
          "execution_count": 10,
          "metadata": {},
          "output_type": "execute_result"
        }
      ],
      "source": [
        "preds[1].surf_vars[\"2t\"].squeeze().shape"
      ]
    },
    {
      "cell_type": "code",
      "execution_count": 13,
      "metadata": {},
      "outputs": [
        {
          "data": {
            "text/plain": [
              "(720, 1440)"
            ]
          },
          "execution_count": 13,
          "metadata": {},
          "output_type": "execute_result"
        }
      ],
      "source": [
        "preds[0].surf_vars[\"2t\"][0, 0].numpy().shape"
      ]
    },
    {
      "cell_type": "markdown",
      "metadata": {},
      "source": [
        "# Plot prediction"
      ]
    },
    {
      "cell_type": "markdown",
      "metadata": {},
      "source": [
        "## Surface variables"
      ]
    },
    {
      "cell_type": "markdown",
      "metadata": {},
      "source": [
        "# Temperature"
      ]
    },
    {
      "cell_type": "markdown",
      "metadata": {},
      "source": [
        "### Two-meter temperature in K: 2t"
      ]
    },
    {
      "cell_type": "code",
      "execution_count": null,
      "metadata": {
        "id": "S340jgYugh0c"
      },
      "outputs": [],
      "source": [
        "fig, ax = plt.subplots(2, 2, figsize=(10, 6.5), dpi=500)\n",
        "\n",
        "for i in range(ax.shape[0]):\n",
        "    pred = preds[i] \n",
        "    prediction = pred.surf_vars[\"2t\"][0, 0].numpy()\n",
        "    actual = surf_vars_ds[\"t2m\"][1 + i].values [:-1, :]\n",
        "    rmse = root_mean_squared_error(actual.squeeze(), prediction.squeeze() )\n",
        "    print(f\"RMSE: {rmse}\")\n",
        "\n",
        "    ax[i, 0].imshow(pred.surf_vars[\"2t\"][0, 0].numpy() - 273.15, vmin=-50, vmax=50)\n",
        "    ax[i, 0].set_ylabel(str(pred.metadata.time[0]))\n",
        "    if i == 0:\n",
        "        ax[i, 0].set_title(\"Aurora Prediction\")\n",
        "    ax[i, 0].set_xticks([])\n",
        "    ax[i, 0].set_yticks([])\n",
        "\n",
        "    ax[i, 1].imshow(surf_vars_ds[\"t2m\"][1 + i].values - 273.15, vmin=-50, vmax=50)\n",
        "    if i == 0:\n",
        "        ax[i, 1].set_title(\"ERA5\")\n",
        "    ax[i, 1].set_xticks([])\n",
        "    ax[i, 1].set_yticks([])\n",
        "plt.tight_layout()\n",
        "plt.savefig(\"aurora-prediction-world/aurora-prediction-t2m-world.pdf\")\n",
        "plt.savefig(\"aurora-prediction-world/aurora-prediction-t2m-world.png\")"
      ]
    },
    {
      "cell_type": "markdown",
      "metadata": {},
      "source": [
        "### Ten-meter eastward wind speed in m/s :U10"
      ]
    },
    {
      "cell_type": "code",
      "execution_count": 29,
      "metadata": {},
      "outputs": [],
      "source": [
        "def plot_predictions(predict_data, actual_data, var_type:str,\n",
        "                     pred_var_name:str, actual_var_name:str, \n",
        "                     nrows:int=2, ncols:int=2,\n",
        "                     figsize=(10, 6.5), atmos_level_idx=0, \n",
        "                     save_path=\"aurora-prediction-world\"):\n",
        "\n",
        "\n",
        "    fig, ax = plt.subplots(nrows, ncols, figsize=figsize, dpi=500)\n",
        "\n",
        "    for i in range(ax.shape[0]):\n",
        "        pred = predict_data[i]\n",
        "        if var_type==\"surface\":\n",
        "            ax[i, 0].imshow(pred.surf_vars[pred_var_name][0, 0].numpy())\n",
        "            prediction = pred.surf_vars[pred_var_name][0, 0].numpy()\n",
        "            actual = actual_data[actual_var_name][1 + i].values\n",
        "            print(prediction.shape, actual.shape)\n",
        "        elif var_type==\"atmosphere\":\n",
        "            ax[i, 0].imshow(pred.atmos_vars[actual_var_name].squeeze()[atmos_level_idx,:,:].numpy())\n",
        "        elif var_type==\"static\":\n",
        "            ax[i, 0].imshow(pred.static_vars[pred_var_name].numpy())\n",
        "            \n",
        "        ax[i, 0].set_ylabel(str(pred.metadata.time[0]))\n",
        "        if i == 0:\n",
        "            ax[i, 0].set_title(\"Aurora Prediction\")\n",
        "        ax[i, 0].set_xticks([])\n",
        "        ax[i, 0].set_yticks([])\n",
        "        if var_type==\"atmosphere\":\n",
        "            ax[i, 1].imshow(actual_data[actual_var_name][i,atmos_level_idx,:,:].values)\n",
        "        elif var_type==\"static\":\n",
        "            ax[i, 1].imshow(actual_data[actual_var_name].squeeze().values)\n",
        "        else:\n",
        "            ax[i, 1].imshow(actual_data[actual_var_name][1 + i].values)\n",
        "        if i == 0:\n",
        "            ax[i, 1].set_title(\"ERA5\")\n",
        "        ax[i, 1].set_xticks([])\n",
        "        ax[i, 1].set_yticks([])\n",
        "\n",
        "    plt.tight_layout()\n",
        "    plt.savefig(f\"{save_path}/aurora-prediction-{actual_var_name}-world.pdf\")\n",
        "    plt.savefig(f\"{save_path}/aurora-prediction-{actual_var_name}-world.png\")\n",
        "    plt.show()"
      ]
    },
    {
      "cell_type": "code",
      "execution_count": 11,
      "metadata": {},
      "outputs": [],
      "source": [
        "def compute_rmse(predict_data, actual_data, var_type:str,\n",
        "                     pred_var_name:str, actual_var_name:str\n",
        "                     , atmos_level_idx=0):\n",
        "\n",
        "\n",
        "    for i in range(2):\n",
        "        pred = predict_data[i]\n",
        "        if var_type==\"surface\":\n",
        "            prediction = pred.surf_vars[pred_var_name][0, 0].numpy()\n",
        "            actual = actual_data[actual_var_name][1 + i].values[:-1, :]\n",
        "            rmse = root_mean_squared_error(actual.squeeze(), prediction.squeeze() )\n",
        "            print(f\"RMSE: {rmse}\")\n",
        "        elif var_type==\"atmosphere\":\n",
        "            prediction = pred.atmos_vars[actual_var_name].squeeze()[atmos_level_idx,:,:].numpy().squeeze()\n",
        "            actual = actual_data[actual_var_name][i,atmos_level_idx,:,:].values[:-1,:]\n",
        "            # print(prediction.shape, actual.shape)\n",
        "            rmse = root_mean_squared_error(actual.squeeze(), prediction.squeeze() )\n",
        "            print(f\"RMSE: {rmse}\")\n",
        "        "
      ]
    },
    {
      "cell_type": "code",
      "execution_count": 41,
      "metadata": {},
      "outputs": [
        {
          "data": {
            "text/plain": [
              "(4, 721, 1440)"
            ]
          },
          "execution_count": 41,
          "metadata": {},
          "output_type": "execute_result"
        }
      ],
      "source": [
        "surf_vars_ds['u10'].shape"
      ]
    },
    {
      "cell_type": "code",
      "execution_count": 30,
      "metadata": {},
      "outputs": [],
      "source": [
        "# def plot_predictions(predict_data, actual_data, var_type:str,\n",
        "#                      pred_var_name:str, actual_var_name:str, \n",
        "#                      nrows:int=2, ncols:int=2,\n",
        "#                      figsize=(10, 6.5), atmos_level_idx=0, \n",
        "#                      save_path=\"aurora-prediction-sa\"):\n",
        "\n",
        "\n",
        "#     fig, ax = plt.subplots(nrows, ncols, figsize=figsize, dpi=500)\n",
        "\n",
        "#     for i in range(ax.shape[0]):\n",
        "#         pred = predict_data[i]\n",
        "#         if var_type==\"surface\":\n",
        "#             ax[i, 0].imshow(pred.surf_vars[pred_var_name][0, 0].numpy())\n",
        "#             actual = actual_data[actual_var_name][1 + i].values\n",
        "#             prediction = pred.surf_vars[pred_var_name][0, 0].numpy()\n",
        "#             print(actual.shape, prediction.shape)\n",
        "#             print(f\"RMSE: {root_mean_squared_error(actual.flatten(), prediction.flatten()) }\")\n",
        "            \n",
        "#         elif var_type==\"atmosphere\":\n",
        "#             ax[i, 0].imshow(pred.atmos_vars[actual_var_name].squeeze()[atmos_level_idx,:,:].numpy())\n",
        "#             actual = actual_data[actual_var_name][i,atmos_level_idx,:,:].values\n",
        "#             prediction = pred.atmos_vars[actual_var_name].squeeze()[atmos_level_idx,:,:]\n",
        "#             # print(actual.shape, prediction.shape)\n",
        "#             print(f\"RMSE: {root_mean_squared_error(actual.flatten(), prediction.flatten()) }\")\n",
        "#         elif var_type==\"static\":\n",
        "#             ax[i, 0].imshow(pred.static_vars[pred_var_name].numpy())\n",
        "            \n",
        "#         ax[i, 0].set_ylabel(str(pred.metadata.time[0]))\n",
        "#         if i == 0:\n",
        "#             ax[i, 0].set_title(\"Aurora Prediction\")\n",
        "#         ax[i, 0].set_xticks([])\n",
        "#         ax[i, 0].set_yticks([])\n",
        "#         if var_type==\"atmosphere\":\n",
        "#             ax[i, 1].imshow(actual_data[actual_var_name][i,atmos_level_idx,:,:].values)\n",
        "#         elif var_type==\"static\":\n",
        "#             ax[i, 1].imshow(actual_data[actual_var_name].squeeze().values)\n",
        "#         else:\n",
        "#             ax[i, 1].imshow(actual_data[actual_var_name][1 + i].values)\n",
        "#         if i == 0:\n",
        "#             ax[i, 1].set_title(\"ERA5\")\n",
        "#         ax[i, 1].set_xticks([])\n",
        "#         ax[i, 1].set_yticks([])\n",
        "\n",
        "#     plt.tight_layout()\n",
        "#     plt.savefig(f\"{save_path}/aurora-prediction-{actual_var_name}-sa.pdf\")\n",
        "#     plt.savefig(f\"{save_path}/aurora-prediction-{actual_var_name}-sa.png\")\n",
        "#     plt.show()"
      ]
    },
    {
      "cell_type": "markdown",
      "metadata": {},
      "source": [
        "### Ten-meter eastward wind speed in m/s :U10"
      ]
    },
    {
      "cell_type": "code",
      "execution_count": null,
      "metadata": {},
      "outputs": [],
      "source": [
        "plot_predictions(predict_data=preds, actual_data=surf_vars_ds,\n",
        "                 var_type=\"surface\",pred_var_name=\"10u\",\n",
        "                 actual_var_name=\"u10\")"
      ]
    },
    {
      "cell_type": "code",
      "execution_count": 43,
      "metadata": {},
      "outputs": [
        {
          "name": "stdout",
          "output_type": "stream",
          "text": [
            "RMSE: 1.817961573600769\n",
            "RMSE: 1.874889612197876\n"
          ]
        }
      ],
      "source": [
        "compute_rmse(predict_data=preds, actual_data=surf_vars_ds,\n",
        "                 var_type=\"surface\",pred_var_name=\"10u\",\n",
        "                 actual_var_name=\"u10\")"
      ]
    },
    {
      "cell_type": "markdown",
      "metadata": {},
      "source": [
        "###  Ten-meter southward wind speed in m/s: V10"
      ]
    },
    {
      "cell_type": "code",
      "execution_count": null,
      "metadata": {},
      "outputs": [],
      "source": [
        "plot_predictions(predict_data=preds, actual_data=surf_vars_ds,\n",
        "                 var_type=\"surface\",pred_var_name=\"10v\",\n",
        "                 actual_var_name=\"v10\")"
      ]
    },
    {
      "cell_type": "code",
      "execution_count": 44,
      "metadata": {},
      "outputs": [
        {
          "name": "stdout",
          "output_type": "stream",
          "text": [
            "RMSE: 2.1021015644073486\n",
            "RMSE: 2.1307461261749268\n"
          ]
        }
      ],
      "source": [
        "compute_rmse(predict_data=preds, actual_data=surf_vars_ds,\n",
        "                 var_type=\"surface\",pred_var_name=\"10v\",\n",
        "                 actual_var_name=\"v10\")"
      ]
    },
    {
      "cell_type": "markdown",
      "metadata": {},
      "source": [
        "### Mean sea-level pressure in Pa :msl"
      ]
    },
    {
      "cell_type": "code",
      "execution_count": null,
      "metadata": {},
      "outputs": [],
      "source": [
        "plot_predictions(predict_data=preds, actual_data=surf_vars_ds,\n",
        "                 var_type=\"surface\",pred_var_name=\"msl\",\n",
        "                 actual_var_name=\"msl\")"
      ]
    },
    {
      "cell_type": "code",
      "execution_count": 45,
      "metadata": {},
      "outputs": [
        {
          "name": "stdout",
          "output_type": "stream",
          "text": [
            "RMSE: 247.57044982910156\n",
            "RMSE: 240.0634307861328\n"
          ]
        }
      ],
      "source": [
        "compute_rmse(predict_data=preds, actual_data=surf_vars_ds,\n",
        "                 var_type=\"surface\",pred_var_name=\"msl\",\n",
        "                 actual_var_name=\"msl\")"
      ]
    },
    {
      "cell_type": "markdown",
      "metadata": {},
      "source": [
        "\"50\",\n",
        "                \"100\",\n",
        "                \"150\",\n",
        "                \"200\",\n",
        "                \"250\",\n",
        "                \"300\",\n",
        "                \"400\",\n",
        "                \"500\",\n",
        "                \"600\",\n",
        "                \"700\",\n",
        "                \"850\",\n",
        "                \"925\",\n",
        "                \"1000\","
      ]
    },
    {
      "cell_type": "markdown",
      "metadata": {},
      "source": [
        "## Atmospheric variables: level 50 hPa"
      ]
    },
    {
      "cell_type": "markdown",
      "metadata": {},
      "source": [
        "### Temperature in K : t"
      ]
    },
    {
      "cell_type": "markdown",
      "metadata": {},
      "source": [
        "#### level 50 hPa"
      ]
    },
    {
      "cell_type": "code",
      "execution_count": null,
      "metadata": {},
      "outputs": [],
      "source": [
        "plot_predictions(predict_data=preds, actual_data=atmos_vars_ds,\n",
        "                 var_type=\"atmosphere\",pred_var_name=\"t\",\n",
        "                 actual_var_name=\"t\")"
      ]
    },
    {
      "cell_type": "code",
      "execution_count": 48,
      "metadata": {},
      "outputs": [
        {
          "name": "stdout",
          "output_type": "stream",
          "text": [
            "RMSE: 2.0920660495758057\n",
            "RMSE: 2.1481926441192627\n"
          ]
        }
      ],
      "source": [
        "compute_rmse(predict_data=preds, actual_data=atmos_vars_ds,\n",
        "                 var_type=\"atmosphere\",pred_var_name=\"t\",\n",
        "                 actual_var_name=\"t\")"
      ]
    },
    {
      "cell_type": "markdown",
      "metadata": {},
      "source": [
        "### Eastward wind speed in m/s u"
      ]
    },
    {
      "cell_type": "code",
      "execution_count": null,
      "metadata": {},
      "outputs": [],
      "source": [
        "plot_predictions(predict_data=preds, actual_data=atmos_vars_ds,\n",
        "                 var_type=\"atmosphere\",pred_var_name=\"u\",\n",
        "                 actual_var_name=\"u\")"
      ]
    },
    {
      "cell_type": "code",
      "execution_count": 51,
      "metadata": {},
      "outputs": [
        {
          "name": "stdout",
          "output_type": "stream",
          "text": [
            "RMSE: 3.001601457595825\n",
            "RMSE: 2.939556837081909\n"
          ]
        }
      ],
      "source": [
        "compute_rmse(predict_data=preds, actual_data=atmos_vars_ds,\n",
        "                 var_type=\"atmosphere\",pred_var_name=\"u\",\n",
        "                 actual_var_name=\"u\")"
      ]
    },
    {
      "cell_type": "markdown",
      "metadata": {},
      "source": [
        "### Southward wind speed in m/s :v"
      ]
    },
    {
      "cell_type": "code",
      "execution_count": null,
      "metadata": {},
      "outputs": [],
      "source": [
        "plot_predictions(predict_data=preds, actual_data=atmos_vars_ds,\n",
        "                 var_type=\"atmosphere\",pred_var_name=\"v\",\n",
        "                 actual_var_name=\"v\")"
      ]
    },
    {
      "cell_type": "code",
      "execution_count": 52,
      "metadata": {},
      "outputs": [
        {
          "name": "stdout",
          "output_type": "stream",
          "text": [
            "RMSE: 3.569167137145996\n",
            "RMSE: 3.5166592597961426\n"
          ]
        }
      ],
      "source": [
        "compute_rmse(predict_data=preds, actual_data=atmos_vars_ds,\n",
        "                 var_type=\"atmosphere\",pred_var_name=\"v\",\n",
        "                 actual_var_name=\"v\")"
      ]
    },
    {
      "cell_type": "markdown",
      "metadata": {},
      "source": [
        "### Specific humidity in kg / kg: q"
      ]
    },
    {
      "cell_type": "code",
      "execution_count": null,
      "metadata": {},
      "outputs": [],
      "source": [
        "plot_predictions(predict_data=preds, actual_data=atmos_vars_ds,\n",
        "                 var_type=\"atmosphere\",pred_var_name=\"q\",\n",
        "                 actual_var_name=\"q\")"
      ]
    },
    {
      "cell_type": "code",
      "execution_count": 53,
      "metadata": {},
      "outputs": [
        {
          "name": "stdout",
          "output_type": "stream",
          "text": [
            "RMSE: 0.0008446378633379936\n",
            "RMSE: 0.0008559309644624591\n"
          ]
        }
      ],
      "source": [
        "compute_rmse(predict_data=preds, actual_data=atmos_vars_ds,\n",
        "                 var_type=\"atmosphere\",pred_var_name=\"q\",\n",
        "                 actual_var_name=\"q\")"
      ]
    },
    {
      "cell_type": "markdown",
      "metadata": {},
      "source": [
        "### Geopotential in m^2 / s^2 : z"
      ]
    },
    {
      "cell_type": "code",
      "execution_count": null,
      "metadata": {},
      "outputs": [],
      "source": [
        "plot_predictions(predict_data=preds, actual_data=atmos_vars_ds,\n",
        "                 var_type=\"atmosphere\",pred_var_name=\"z\",\n",
        "                 actual_var_name=\"z\")"
      ]
    },
    {
      "cell_type": "code",
      "execution_count": 57,
      "metadata": {},
      "outputs": [
        {
          "name": "stdout",
          "output_type": "stream",
          "text": [
            "RMSE: 291.06475830078125\n",
            "RMSE: 289.85662841796875\n"
          ]
        }
      ],
      "source": [
        "compute_rmse(predict_data=preds, actual_data=atmos_vars_ds,\n",
        "                 var_type=\"atmosphere\",pred_var_name=\"z\",\n",
        "                 actual_var_name=\"z\")"
      ]
    },
    {
      "cell_type": "markdown",
      "metadata": {},
      "source": [
        "## Atmospheric variables Here"
      ]
    },
    {
      "cell_type": "markdown",
      "metadata": {},
      "source": [
        "### Temperature in K : t"
      ]
    },
    {
      "cell_type": "code",
      "execution_count": null,
      "metadata": {},
      "outputs": [],
      "source": [
        "# atmos_vars_ds[\"t\"][0, 0,:,:].shape"
      ]
    },
    {
      "cell_type": "markdown",
      "metadata": {},
      "source": [
        "#### 50 hPa"
      ]
    },
    {
      "cell_type": "code",
      "execution_count": 12,
      "metadata": {},
      "outputs": [
        {
          "name": "stdout",
          "output_type": "stream",
          "text": [
            "RMSE: 2.0920660495758057\n",
            "RMSE: 2.1481926441192627\n"
          ]
        }
      ],
      "source": [
        "compute_rmse(predict_data=preds, actual_data=atmos_vars_ds,\n",
        "                 var_type=\"atmosphere\",pred_var_name=\"t\",\n",
        "                 actual_var_name=\"t\",  atmos_level_idx=0)"
      ]
    },
    {
      "cell_type": "markdown",
      "metadata": {},
      "source": [
        "#### 100 hPa"
      ]
    },
    {
      "cell_type": "code",
      "execution_count": 15,
      "metadata": {},
      "outputs": [
        {
          "name": "stdout",
          "output_type": "stream",
          "text": [
            "RMSE: 2.0740132331848145\n",
            "RMSE: 2.029637575149536\n"
          ]
        }
      ],
      "source": [
        "compute_rmse(predict_data=preds, actual_data=atmos_vars_ds,\n",
        "                 var_type=\"atmosphere\",pred_var_name=\"t\",\n",
        "                 actual_var_name=\"t\",  atmos_level_idx=1)"
      ]
    },
    {
      "cell_type": "markdown",
      "metadata": {},
      "source": [
        "#### 150 hPa"
      ]
    },
    {
      "cell_type": "code",
      "execution_count": 16,
      "metadata": {},
      "outputs": [
        {
          "name": "stdout",
          "output_type": "stream",
          "text": [
            "RMSE: 2.0451931953430176\n",
            "RMSE: 1.9522432088851929\n"
          ]
        }
      ],
      "source": [
        "compute_rmse(predict_data=preds, actual_data=atmos_vars_ds,\n",
        "                 var_type=\"atmosphere\",pred_var_name=\"t\",\n",
        "                 actual_var_name=\"t\",  atmos_level_idx=2)"
      ]
    },
    {
      "cell_type": "markdown",
      "metadata": {},
      "source": [
        "#### 200 hPa"
      ]
    },
    {
      "cell_type": "code",
      "execution_count": 17,
      "metadata": {},
      "outputs": [
        {
          "name": "stdout",
          "output_type": "stream",
          "text": [
            "RMSE: 1.84940767288208\n",
            "RMSE: 1.829189419746399\n"
          ]
        }
      ],
      "source": [
        "compute_rmse(predict_data=preds, actual_data=atmos_vars_ds,\n",
        "                 var_type=\"atmosphere\",pred_var_name=\"t\",\n",
        "                 actual_var_name=\"t\",  atmos_level_idx=3)"
      ]
    },
    {
      "cell_type": "markdown",
      "metadata": {},
      "source": [
        "#### 250 hPa"
      ]
    },
    {
      "cell_type": "code",
      "execution_count": 18,
      "metadata": {},
      "outputs": [
        {
          "name": "stdout",
          "output_type": "stream",
          "text": [
            "RMSE: 1.8717749118804932\n",
            "RMSE: 1.8396955728530884\n"
          ]
        }
      ],
      "source": [
        "compute_rmse(predict_data=preds, actual_data=atmos_vars_ds,\n",
        "                 var_type=\"atmosphere\",pred_var_name=\"t\",\n",
        "                 actual_var_name=\"t\",  atmos_level_idx=4)"
      ]
    },
    {
      "cell_type": "markdown",
      "metadata": {},
      "source": [
        "#### 300 hPa"
      ]
    },
    {
      "cell_type": "code",
      "execution_count": 19,
      "metadata": {},
      "outputs": [
        {
          "name": "stdout",
          "output_type": "stream",
          "text": [
            "RMSE: 1.8998870849609375\n",
            "RMSE: 1.8664212226867676\n"
          ]
        }
      ],
      "source": [
        "compute_rmse(predict_data=preds, actual_data=atmos_vars_ds,\n",
        "                 var_type=\"atmosphere\",pred_var_name=\"t\",\n",
        "                 actual_var_name=\"t\",  atmos_level_idx=5)"
      ]
    },
    {
      "cell_type": "markdown",
      "metadata": {},
      "source": [
        "#### 400 hPa"
      ]
    },
    {
      "cell_type": "code",
      "execution_count": 20,
      "metadata": {},
      "outputs": [
        {
          "name": "stdout",
          "output_type": "stream",
          "text": [
            "RMSE: 1.8117555379867554\n",
            "RMSE: 1.7846431732177734\n"
          ]
        }
      ],
      "source": [
        "compute_rmse(predict_data=preds, actual_data=atmos_vars_ds,\n",
        "                 var_type=\"atmosphere\",pred_var_name=\"t\",\n",
        "                 actual_var_name=\"t\",  atmos_level_idx=6)"
      ]
    },
    {
      "cell_type": "markdown",
      "metadata": {},
      "source": [
        "#### 500 hPa"
      ]
    },
    {
      "cell_type": "code",
      "execution_count": 21,
      "metadata": {},
      "outputs": [
        {
          "name": "stdout",
          "output_type": "stream",
          "text": [
            "RMSE: 1.6874185800552368\n",
            "RMSE: 1.6812981367111206\n"
          ]
        }
      ],
      "source": [
        "compute_rmse(predict_data=preds, actual_data=atmos_vars_ds,\n",
        "                 var_type=\"atmosphere\",pred_var_name=\"t\",\n",
        "                 actual_var_name=\"t\",  atmos_level_idx=7)"
      ]
    },
    {
      "cell_type": "markdown",
      "metadata": {},
      "source": [
        "#### 600hPa"
      ]
    },
    {
      "cell_type": "code",
      "execution_count": 22,
      "metadata": {},
      "outputs": [
        {
          "name": "stdout",
          "output_type": "stream",
          "text": [
            "RMSE: 2.072596549987793\n",
            "RMSE: 2.0446369647979736\n"
          ]
        }
      ],
      "source": [
        "compute_rmse(predict_data=preds, actual_data=atmos_vars_ds,\n",
        "                 var_type=\"atmosphere\",pred_var_name=\"t\",\n",
        "                 actual_var_name=\"t\",  atmos_level_idx=8)"
      ]
    },
    {
      "cell_type": "markdown",
      "metadata": {},
      "source": [
        "#### 700 hPa"
      ]
    },
    {
      "cell_type": "code",
      "execution_count": 23,
      "metadata": {},
      "outputs": [
        {
          "name": "stdout",
          "output_type": "stream",
          "text": [
            "RMSE: 2.199442148208618\n",
            "RMSE: 2.1573781967163086\n"
          ]
        }
      ],
      "source": [
        "compute_rmse(predict_data=preds, actual_data=atmos_vars_ds,\n",
        "                 var_type=\"atmosphere\",pred_var_name=\"t\",\n",
        "                 actual_var_name=\"t\",  atmos_level_idx=9)"
      ]
    },
    {
      "cell_type": "markdown",
      "metadata": {},
      "source": [
        "#### 850 hPa"
      ]
    },
    {
      "cell_type": "code",
      "execution_count": 24,
      "metadata": {},
      "outputs": [
        {
          "name": "stdout",
          "output_type": "stream",
          "text": [
            "RMSE: 1.619502305984497\n",
            "RMSE: 1.586127758026123\n"
          ]
        }
      ],
      "source": [
        "compute_rmse(predict_data=preds, actual_data=atmos_vars_ds,\n",
        "                 var_type=\"atmosphere\",pred_var_name=\"t\",\n",
        "                 actual_var_name=\"t\",  atmos_level_idx=10)"
      ]
    },
    {
      "cell_type": "markdown",
      "metadata": {},
      "source": [
        "#### 925 hPa"
      ]
    },
    {
      "cell_type": "code",
      "execution_count": 25,
      "metadata": {},
      "outputs": [
        {
          "name": "stdout",
          "output_type": "stream",
          "text": [
            "RMSE: 1.381637692451477\n",
            "RMSE: 1.35204017162323\n"
          ]
        }
      ],
      "source": [
        "compute_rmse(predict_data=preds, actual_data=atmos_vars_ds,\n",
        "                 var_type=\"atmosphere\",pred_var_name=\"t\",\n",
        "                 actual_var_name=\"t\",  atmos_level_idx=11)"
      ]
    },
    {
      "cell_type": "markdown",
      "metadata": {},
      "source": [
        "#### 1000 hPa"
      ]
    },
    {
      "cell_type": "code",
      "execution_count": 26,
      "metadata": {},
      "outputs": [
        {
          "name": "stdout",
          "output_type": "stream",
          "text": [
            "RMSE: 1.3388876914978027\n",
            "RMSE: 1.2976595163345337\n"
          ]
        }
      ],
      "source": [
        "compute_rmse(predict_data=preds, actual_data=atmos_vars_ds,\n",
        "                 var_type=\"atmosphere\",pred_var_name=\"t\",\n",
        "                 actual_var_name=\"t\",  atmos_level_idx=12)"
      ]
    },
    {
      "cell_type": "markdown",
      "metadata": {},
      "source": [
        "### Eastward wind speed in m/s u"
      ]
    },
    {
      "cell_type": "markdown",
      "metadata": {},
      "source": [
        "#### level 50 hPa"
      ]
    },
    {
      "cell_type": "code",
      "execution_count": 28,
      "metadata": {},
      "outputs": [
        {
          "name": "stdout",
          "output_type": "stream",
          "text": [
            "RMSE: 3.001601457595825\n",
            "RMSE: 2.939556837081909\n"
          ]
        }
      ],
      "source": [
        "compute_rmse(predict_data=preds, actual_data=atmos_vars_ds,\n",
        "                 var_type=\"atmosphere\",pred_var_name=\"u\",\n",
        "                 actual_var_name=\"u\",  atmos_level_idx=0)"
      ]
    },
    {
      "cell_type": "markdown",
      "metadata": {},
      "source": [
        "#### level 100 hPa"
      ]
    },
    {
      "cell_type": "code",
      "execution_count": 29,
      "metadata": {},
      "outputs": [
        {
          "name": "stdout",
          "output_type": "stream",
          "text": [
            "RMSE: 3.9355554580688477\n",
            "RMSE: 3.979006290435791\n"
          ]
        }
      ],
      "source": [
        "compute_rmse(predict_data=preds, actual_data=atmos_vars_ds,\n",
        "                 var_type=\"atmosphere\",pred_var_name=\"u\",\n",
        "                 actual_var_name=\"u\",  atmos_level_idx=1)"
      ]
    },
    {
      "cell_type": "markdown",
      "metadata": {},
      "source": [
        "#### level 150 hPa"
      ]
    },
    {
      "cell_type": "code",
      "execution_count": 30,
      "metadata": {},
      "outputs": [
        {
          "name": "stdout",
          "output_type": "stream",
          "text": [
            "RMSE: 3.7765324115753174\n",
            "RMSE: 3.812119245529175\n"
          ]
        }
      ],
      "source": [
        "compute_rmse(predict_data=preds, actual_data=atmos_vars_ds,\n",
        "                 var_type=\"atmosphere\",pred_var_name=\"u\",\n",
        "                 actual_var_name=\"u\",  atmos_level_idx=2)"
      ]
    },
    {
      "cell_type": "markdown",
      "metadata": {},
      "source": [
        "#### level 200 hPa"
      ]
    },
    {
      "cell_type": "code",
      "execution_count": 31,
      "metadata": {},
      "outputs": [
        {
          "name": "stdout",
          "output_type": "stream",
          "text": [
            "RMSE: 3.9241600036621094\n",
            "RMSE: 3.8595988750457764\n"
          ]
        }
      ],
      "source": [
        "compute_rmse(predict_data=preds, actual_data=atmos_vars_ds,\n",
        "                 var_type=\"atmosphere\",pred_var_name=\"u\",\n",
        "                 actual_var_name=\"u\",  atmos_level_idx=3)"
      ]
    },
    {
      "cell_type": "markdown",
      "metadata": {},
      "source": [
        "#### level 250 hPa"
      ]
    },
    {
      "cell_type": "code",
      "execution_count": 32,
      "metadata": {},
      "outputs": [
        {
          "name": "stdout",
          "output_type": "stream",
          "text": [
            "RMSE: 4.43596076965332\n",
            "RMSE: 4.246740818023682\n"
          ]
        }
      ],
      "source": [
        "compute_rmse(predict_data=preds, actual_data=atmos_vars_ds,\n",
        "                 var_type=\"atmosphere\",pred_var_name=\"u\",\n",
        "                 actual_var_name=\"u\",  atmos_level_idx=4)"
      ]
    },
    {
      "cell_type": "markdown",
      "metadata": {},
      "source": [
        "#### level 300 hPa"
      ]
    },
    {
      "cell_type": "code",
      "execution_count": 33,
      "metadata": {},
      "outputs": [
        {
          "name": "stdout",
          "output_type": "stream",
          "text": [
            "RMSE: 5.430654525756836\n",
            "RMSE: 5.174124717712402\n"
          ]
        }
      ],
      "source": [
        "compute_rmse(predict_data=preds, actual_data=atmos_vars_ds,\n",
        "                 var_type=\"atmosphere\",pred_var_name=\"u\",\n",
        "                 actual_var_name=\"u\",  atmos_level_idx=5)"
      ]
    },
    {
      "cell_type": "markdown",
      "metadata": {},
      "source": [
        "#### level 400 hPa"
      ]
    },
    {
      "cell_type": "code",
      "execution_count": 34,
      "metadata": {},
      "outputs": [
        {
          "name": "stdout",
          "output_type": "stream",
          "text": [
            "RMSE: 6.67393684387207\n",
            "RMSE: 6.484992027282715\n"
          ]
        }
      ],
      "source": [
        "compute_rmse(predict_data=preds, actual_data=atmos_vars_ds,\n",
        "                 var_type=\"atmosphere\",pred_var_name=\"u\",\n",
        "                 actual_var_name=\"u\",  atmos_level_idx=6)"
      ]
    },
    {
      "cell_type": "markdown",
      "metadata": {},
      "source": [
        "#### level 500 hPa"
      ]
    },
    {
      "cell_type": "code",
      "execution_count": 35,
      "metadata": {},
      "outputs": [
        {
          "name": "stdout",
          "output_type": "stream",
          "text": [
            "RMSE: 7.471036911010742\n",
            "RMSE: 7.332739353179932\n"
          ]
        }
      ],
      "source": [
        "compute_rmse(predict_data=preds, actual_data=atmos_vars_ds,\n",
        "                 var_type=\"atmosphere\",pred_var_name=\"u\",\n",
        "                 actual_var_name=\"u\",  atmos_level_idx=7)"
      ]
    },
    {
      "cell_type": "markdown",
      "metadata": {},
      "source": [
        "#### level 600 hPa"
      ]
    },
    {
      "cell_type": "code",
      "execution_count": 36,
      "metadata": {},
      "outputs": [
        {
          "name": "stdout",
          "output_type": "stream",
          "text": [
            "RMSE: 7.175195217132568\n",
            "RMSE: 6.968274116516113\n"
          ]
        }
      ],
      "source": [
        "compute_rmse(predict_data=preds, actual_data=atmos_vars_ds,\n",
        "                 var_type=\"atmosphere\",pred_var_name=\"u\",\n",
        "                 actual_var_name=\"u\",  atmos_level_idx=8)"
      ]
    },
    {
      "cell_type": "markdown",
      "metadata": {},
      "source": [
        "#### level 700 hPa"
      ]
    },
    {
      "cell_type": "code",
      "execution_count": 37,
      "metadata": {},
      "outputs": [
        {
          "name": "stdout",
          "output_type": "stream",
          "text": [
            "RMSE: 5.891188621520996\n",
            "RMSE: 5.742167949676514\n"
          ]
        }
      ],
      "source": [
        "compute_rmse(predict_data=preds, actual_data=atmos_vars_ds,\n",
        "                 var_type=\"atmosphere\",pred_var_name=\"u\",\n",
        "                 actual_var_name=\"u\",  atmos_level_idx=9)"
      ]
    },
    {
      "cell_type": "markdown",
      "metadata": {},
      "source": [
        "#### level 850 hPa"
      ]
    },
    {
      "cell_type": "code",
      "execution_count": 38,
      "metadata": {},
      "outputs": [
        {
          "name": "stdout",
          "output_type": "stream",
          "text": [
            "RMSE: 4.485922813415527\n",
            "RMSE: 4.428341865539551\n"
          ]
        }
      ],
      "source": [
        "compute_rmse(predict_data=preds, actual_data=atmos_vars_ds,\n",
        "                 var_type=\"atmosphere\",pred_var_name=\"u\",\n",
        "                 actual_var_name=\"u\",  atmos_level_idx=10)"
      ]
    },
    {
      "cell_type": "markdown",
      "metadata": {},
      "source": [
        "#### level 925 hPa"
      ]
    },
    {
      "cell_type": "code",
      "execution_count": 39,
      "metadata": {},
      "outputs": [
        {
          "name": "stdout",
          "output_type": "stream",
          "text": [
            "RMSE: 3.4981534481048584\n",
            "RMSE: 3.5055737495422363\n"
          ]
        }
      ],
      "source": [
        "compute_rmse(predict_data=preds, actual_data=atmos_vars_ds,\n",
        "                 var_type=\"atmosphere\",pred_var_name=\"u\",\n",
        "                 actual_var_name=\"u\",  atmos_level_idx=11)"
      ]
    },
    {
      "cell_type": "markdown",
      "metadata": {},
      "source": [
        "#### level 1000 hPa"
      ]
    },
    {
      "cell_type": "code",
      "execution_count": 40,
      "metadata": {},
      "outputs": [
        {
          "name": "stdout",
          "output_type": "stream",
          "text": [
            "RMSE: 2.83966064453125\n",
            "RMSE: 2.912980079650879\n"
          ]
        }
      ],
      "source": [
        "compute_rmse(predict_data=preds, actual_data=atmos_vars_ds,\n",
        "                 var_type=\"atmosphere\",pred_var_name=\"u\",\n",
        "                 actual_var_name=\"u\",  atmos_level_idx=12)"
      ]
    },
    {
      "cell_type": "markdown",
      "metadata": {},
      "source": [
        "### Southward wind speed in m/s :v"
      ]
    },
    {
      "cell_type": "markdown",
      "metadata": {},
      "source": [
        "#### level 50 hPa"
      ]
    },
    {
      "cell_type": "code",
      "execution_count": 42,
      "metadata": {},
      "outputs": [
        {
          "name": "stdout",
          "output_type": "stream",
          "text": [
            "RMSE: 3.569167137145996\n",
            "RMSE: 3.5166592597961426\n"
          ]
        }
      ],
      "source": [
        "compute_rmse(predict_data=preds, actual_data=atmos_vars_ds,\n",
        "                 var_type=\"atmosphere\",pred_var_name=\"v\",\n",
        "                 actual_var_name=\"v\",  atmos_level_idx=0)"
      ]
    },
    {
      "cell_type": "markdown",
      "metadata": {},
      "source": [
        "#### level 100 hPa"
      ]
    },
    {
      "cell_type": "code",
      "execution_count": 43,
      "metadata": {},
      "outputs": [
        {
          "name": "stdout",
          "output_type": "stream",
          "text": [
            "RMSE: 4.728123188018799\n",
            "RMSE: 4.621150016784668\n"
          ]
        }
      ],
      "source": [
        "compute_rmse(predict_data=preds, actual_data=atmos_vars_ds,\n",
        "                 var_type=\"atmosphere\",pred_var_name=\"v\",\n",
        "                 actual_var_name=\"v\",  atmos_level_idx=1)"
      ]
    },
    {
      "cell_type": "markdown",
      "metadata": {},
      "source": [
        "#### level 150 hPa"
      ]
    },
    {
      "cell_type": "code",
      "execution_count": 44,
      "metadata": {},
      "outputs": [
        {
          "name": "stdout",
          "output_type": "stream",
          "text": [
            "RMSE: 4.49578332901001\n",
            "RMSE: 4.340094089508057\n"
          ]
        }
      ],
      "source": [
        "compute_rmse(predict_data=preds, actual_data=atmos_vars_ds,\n",
        "                 var_type=\"atmosphere\",pred_var_name=\"v\",\n",
        "                 actual_var_name=\"v\",  atmos_level_idx=2)"
      ]
    },
    {
      "cell_type": "markdown",
      "metadata": {},
      "source": [
        "#### level 200 hPa"
      ]
    },
    {
      "cell_type": "code",
      "execution_count": 45,
      "metadata": {},
      "outputs": [
        {
          "name": "stdout",
          "output_type": "stream",
          "text": [
            "RMSE: 4.598994731903076\n",
            "RMSE: 4.4869794845581055\n"
          ]
        }
      ],
      "source": [
        "compute_rmse(predict_data=preds, actual_data=atmos_vars_ds,\n",
        "                 var_type=\"atmosphere\",pred_var_name=\"v\",\n",
        "                 actual_var_name=\"v\",  atmos_level_idx=3)"
      ]
    },
    {
      "cell_type": "markdown",
      "metadata": {},
      "source": [
        "#### level 250 hPa"
      ]
    },
    {
      "cell_type": "code",
      "execution_count": 46,
      "metadata": {},
      "outputs": [
        {
          "name": "stdout",
          "output_type": "stream",
          "text": [
            "RMSE: 5.187765121459961\n",
            "RMSE: 5.099845886230469\n"
          ]
        }
      ],
      "source": [
        "compute_rmse(predict_data=preds, actual_data=atmos_vars_ds,\n",
        "                 var_type=\"atmosphere\",pred_var_name=\"v\",\n",
        "                 actual_var_name=\"v\",  atmos_level_idx=4)"
      ]
    },
    {
      "cell_type": "markdown",
      "metadata": {},
      "source": [
        "#### level 300 hPa"
      ]
    },
    {
      "cell_type": "code",
      "execution_count": 47,
      "metadata": {},
      "outputs": [
        {
          "name": "stdout",
          "output_type": "stream",
          "text": [
            "RMSE: 6.170310020446777\n",
            "RMSE: 6.148120880126953\n"
          ]
        }
      ],
      "source": [
        "compute_rmse(predict_data=preds, actual_data=atmos_vars_ds,\n",
        "                 var_type=\"atmosphere\",pred_var_name=\"v\",\n",
        "                 actual_var_name=\"v\",  atmos_level_idx=5)"
      ]
    },
    {
      "cell_type": "markdown",
      "metadata": {},
      "source": [
        "#### level 400 hPa"
      ]
    },
    {
      "cell_type": "code",
      "execution_count": 48,
      "metadata": {},
      "outputs": [
        {
          "name": "stdout",
          "output_type": "stream",
          "text": [
            "RMSE: 7.746775150299072\n",
            "RMSE: 7.602512836456299\n"
          ]
        }
      ],
      "source": [
        "compute_rmse(predict_data=preds, actual_data=atmos_vars_ds,\n",
        "                 var_type=\"atmosphere\",pred_var_name=\"v\",\n",
        "                 actual_var_name=\"v\",  atmos_level_idx=6)"
      ]
    },
    {
      "cell_type": "markdown",
      "metadata": {},
      "source": [
        "#### level 500 hPa"
      ]
    },
    {
      "cell_type": "code",
      "execution_count": 49,
      "metadata": {},
      "outputs": [
        {
          "name": "stdout",
          "output_type": "stream",
          "text": [
            "RMSE: 8.98614501953125\n",
            "RMSE: 8.909662246704102\n"
          ]
        }
      ],
      "source": [
        "compute_rmse(predict_data=preds, actual_data=atmos_vars_ds,\n",
        "                 var_type=\"atmosphere\",pred_var_name=\"v\",\n",
        "                 actual_var_name=\"v\",  atmos_level_idx=7)"
      ]
    },
    {
      "cell_type": "markdown",
      "metadata": {},
      "source": [
        "#### level 600 hPa"
      ]
    },
    {
      "cell_type": "code",
      "execution_count": 50,
      "metadata": {},
      "outputs": [
        {
          "name": "stdout",
          "output_type": "stream",
          "text": [
            "RMSE: 8.604951858520508\n",
            "RMSE: 8.528301239013672\n"
          ]
        }
      ],
      "source": [
        "compute_rmse(predict_data=preds, actual_data=atmos_vars_ds,\n",
        "                 var_type=\"atmosphere\",pred_var_name=\"v\",\n",
        "                 actual_var_name=\"v\",  atmos_level_idx=8)"
      ]
    },
    {
      "cell_type": "markdown",
      "metadata": {},
      "source": [
        "#### level 700 hPa"
      ]
    },
    {
      "cell_type": "code",
      "execution_count": 51,
      "metadata": {},
      "outputs": [
        {
          "name": "stdout",
          "output_type": "stream",
          "text": [
            "RMSE: 6.979715347290039\n",
            "RMSE: 6.837281703948975\n"
          ]
        }
      ],
      "source": [
        "compute_rmse(predict_data=preds, actual_data=atmos_vars_ds,\n",
        "                 var_type=\"atmosphere\",pred_var_name=\"v\",\n",
        "                 actual_var_name=\"v\",  atmos_level_idx=9)"
      ]
    },
    {
      "cell_type": "markdown",
      "metadata": {},
      "source": [
        "#### level 850 hPa"
      ]
    },
    {
      "cell_type": "code",
      "execution_count": 52,
      "metadata": {},
      "outputs": [
        {
          "name": "stdout",
          "output_type": "stream",
          "text": [
            "RMSE: 5.270954132080078\n",
            "RMSE: 4.885626792907715\n"
          ]
        }
      ],
      "source": [
        "compute_rmse(predict_data=preds, actual_data=atmos_vars_ds,\n",
        "                 var_type=\"atmosphere\",pred_var_name=\"v\",\n",
        "                 actual_var_name=\"v\",  atmos_level_idx=10)"
      ]
    },
    {
      "cell_type": "markdown",
      "metadata": {},
      "source": [
        "#### level 925 hPa"
      ]
    },
    {
      "cell_type": "code",
      "execution_count": 53,
      "metadata": {},
      "outputs": [
        {
          "name": "stdout",
          "output_type": "stream",
          "text": [
            "RMSE: 4.237135410308838\n",
            "RMSE: 4.061747074127197\n"
          ]
        }
      ],
      "source": [
        "compute_rmse(predict_data=preds, actual_data=atmos_vars_ds,\n",
        "                 var_type=\"atmosphere\",pred_var_name=\"v\",\n",
        "                 actual_var_name=\"v\",  atmos_level_idx=11)"
      ]
    },
    {
      "cell_type": "markdown",
      "metadata": {},
      "source": [
        "#### level 1000 hPa"
      ]
    },
    {
      "cell_type": "code",
      "execution_count": 54,
      "metadata": {},
      "outputs": [
        {
          "name": "stdout",
          "output_type": "stream",
          "text": [
            "RMSE: 3.181900978088379\n",
            "RMSE: 3.08113956451416\n"
          ]
        }
      ],
      "source": [
        "compute_rmse(predict_data=preds, actual_data=atmos_vars_ds,\n",
        "                 var_type=\"atmosphere\",pred_var_name=\"v\",\n",
        "                 actual_var_name=\"v\",  atmos_level_idx=12)"
      ]
    },
    {
      "cell_type": "markdown",
      "metadata": {},
      "source": [
        "### Specific humidity in kg / kg: q"
      ]
    },
    {
      "cell_type": "code",
      "execution_count": null,
      "metadata": {},
      "outputs": [],
      "source": [
        "plot_predictions(predict_data=preds, actual_data=atmos_vars_ds,\n",
        "                 var_type=\"atmosphere\",pred_var_name=\"q\",\n",
        "                 actual_var_name=\"q\")"
      ]
    },
    {
      "cell_type": "markdown",
      "metadata": {},
      "source": [
        "#### level 50 hPa"
      ]
    },
    {
      "cell_type": "code",
      "execution_count": 55,
      "metadata": {},
      "outputs": [
        {
          "name": "stdout",
          "output_type": "stream",
          "text": [
            "RMSE: 0.0008446378633379936\n",
            "RMSE: 0.0008559309644624591\n"
          ]
        }
      ],
      "source": [
        "compute_rmse(predict_data=preds, actual_data=atmos_vars_ds,\n",
        "                 var_type=\"atmosphere\",pred_var_name=\"q\",\n",
        "                 actual_var_name=\"q\",  atmos_level_idx=0)"
      ]
    },
    {
      "cell_type": "markdown",
      "metadata": {},
      "source": [
        "#### level 100 hPa"
      ]
    },
    {
      "cell_type": "code",
      "execution_count": 56,
      "metadata": {},
      "outputs": [
        {
          "name": "stdout",
          "output_type": "stream",
          "text": [
            "RMSE: 0.001074400031939149\n",
            "RMSE: 0.0010652674827724695\n"
          ]
        }
      ],
      "source": [
        "compute_rmse(predict_data=preds, actual_data=atmos_vars_ds,\n",
        "                 var_type=\"atmosphere\",pred_var_name=\"q\",\n",
        "                 actual_var_name=\"q\",  atmos_level_idx=1)"
      ]
    },
    {
      "cell_type": "markdown",
      "metadata": {},
      "source": [
        "#### level 150 hPa"
      ]
    },
    {
      "cell_type": "code",
      "execution_count": 57,
      "metadata": {},
      "outputs": [
        {
          "name": "stdout",
          "output_type": "stream",
          "text": [
            "RMSE: 0.001432903460226953\n",
            "RMSE: 0.0014139467384666204\n"
          ]
        }
      ],
      "source": [
        "compute_rmse(predict_data=preds, actual_data=atmos_vars_ds,\n",
        "                 var_type=\"atmosphere\",pred_var_name=\"q\",\n",
        "                 actual_var_name=\"q\",  atmos_level_idx=2)"
      ]
    },
    {
      "cell_type": "markdown",
      "metadata": {},
      "source": [
        "#### level 200 hPa"
      ]
    },
    {
      "cell_type": "code",
      "execution_count": 58,
      "metadata": {},
      "outputs": [
        {
          "name": "stdout",
          "output_type": "stream",
          "text": [
            "RMSE: 0.0011342363432049751\n",
            "RMSE: 0.0011136909015476704\n"
          ]
        }
      ],
      "source": [
        "compute_rmse(predict_data=preds, actual_data=atmos_vars_ds,\n",
        "                 var_type=\"atmosphere\",pred_var_name=\"q\",\n",
        "                 actual_var_name=\"q\",  atmos_level_idx=3)"
      ]
    },
    {
      "cell_type": "markdown",
      "metadata": {},
      "source": [
        "#### level 250 hPa"
      ]
    },
    {
      "cell_type": "code",
      "execution_count": 59,
      "metadata": {},
      "outputs": [
        {
          "name": "stdout",
          "output_type": "stream",
          "text": [
            "RMSE: 0.0008233403787016869\n",
            "RMSE: 0.0008050221367739141\n"
          ]
        }
      ],
      "source": [
        "compute_rmse(predict_data=preds, actual_data=atmos_vars_ds,\n",
        "                 var_type=\"atmosphere\",pred_var_name=\"q\",\n",
        "                 actual_var_name=\"q\",  atmos_level_idx=4)"
      ]
    },
    {
      "cell_type": "markdown",
      "metadata": {},
      "source": [
        "#### level 300 hPa"
      ]
    },
    {
      "cell_type": "code",
      "execution_count": 60,
      "metadata": {},
      "outputs": [
        {
          "name": "stdout",
          "output_type": "stream",
          "text": [
            "RMSE: 0.0005479204701259732\n",
            "RMSE: 0.0005312551511451602\n"
          ]
        }
      ],
      "source": [
        "compute_rmse(predict_data=preds, actual_data=atmos_vars_ds,\n",
        "                 var_type=\"atmosphere\",pred_var_name=\"q\",\n",
        "                 actual_var_name=\"q\",  atmos_level_idx=5)"
      ]
    },
    {
      "cell_type": "markdown",
      "metadata": {},
      "source": [
        "#### level 400 hPa"
      ]
    },
    {
      "cell_type": "code",
      "execution_count": 61,
      "metadata": {},
      "outputs": [
        {
          "name": "stdout",
          "output_type": "stream",
          "text": [
            "RMSE: 0.00028506628586910665\n",
            "RMSE: 0.00027309206780046225\n"
          ]
        }
      ],
      "source": [
        "compute_rmse(predict_data=preds, actual_data=atmos_vars_ds,\n",
        "                 var_type=\"atmosphere\",pred_var_name=\"q\",\n",
        "                 actual_var_name=\"q\",  atmos_level_idx=6)"
      ]
    },
    {
      "cell_type": "markdown",
      "metadata": {},
      "source": [
        "#### level 500 hPa"
      ]
    },
    {
      "cell_type": "code",
      "execution_count": 62,
      "metadata": {},
      "outputs": [
        {
          "name": "stdout",
          "output_type": "stream",
          "text": [
            "RMSE: 8.717219316167757e-05\n",
            "RMSE: 8.357532351510599e-05\n"
          ]
        }
      ],
      "source": [
        "compute_rmse(predict_data=preds, actual_data=atmos_vars_ds,\n",
        "                 var_type=\"atmosphere\",pred_var_name=\"q\",\n",
        "                 actual_var_name=\"q\",  atmos_level_idx=7)"
      ]
    },
    {
      "cell_type": "markdown",
      "metadata": {},
      "source": [
        "#### level 600 hPa"
      ]
    },
    {
      "cell_type": "code",
      "execution_count": 63,
      "metadata": {},
      "outputs": [
        {
          "name": "stdout",
          "output_type": "stream",
          "text": [
            "RMSE: 3.679320798255503e-05\n",
            "RMSE: 3.471858144621365e-05\n"
          ]
        }
      ],
      "source": [
        "compute_rmse(predict_data=preds, actual_data=atmos_vars_ds,\n",
        "                 var_type=\"atmosphere\",pred_var_name=\"q\",\n",
        "                 actual_var_name=\"q\",  atmos_level_idx=8)"
      ]
    },
    {
      "cell_type": "markdown",
      "metadata": {},
      "source": [
        "#### level 700 hPa"
      ]
    },
    {
      "cell_type": "code",
      "execution_count": 64,
      "metadata": {},
      "outputs": [
        {
          "name": "stdout",
          "output_type": "stream",
          "text": [
            "RMSE: 9.202824912790675e-06\n",
            "RMSE: 8.869243174558505e-06\n"
          ]
        }
      ],
      "source": [
        "compute_rmse(predict_data=preds, actual_data=atmos_vars_ds,\n",
        "                 var_type=\"atmosphere\",pred_var_name=\"q\",\n",
        "                 actual_var_name=\"q\",  atmos_level_idx=9)"
      ]
    },
    {
      "cell_type": "markdown",
      "metadata": {},
      "source": [
        "#### level 850 hPa"
      ]
    },
    {
      "cell_type": "code",
      "execution_count": 65,
      "metadata": {},
      "outputs": [
        {
          "name": "stdout",
          "output_type": "stream",
          "text": [
            "RMSE: 1.3984246152176638e-06\n",
            "RMSE: 1.3578185189544456e-06\n"
          ]
        }
      ],
      "source": [
        "compute_rmse(predict_data=preds, actual_data=atmos_vars_ds,\n",
        "                 var_type=\"atmosphere\",pred_var_name=\"q\",\n",
        "                 actual_var_name=\"q\",  atmos_level_idx=10)"
      ]
    },
    {
      "cell_type": "markdown",
      "metadata": {},
      "source": [
        "#### level 925 hPa"
      ]
    },
    {
      "cell_type": "code",
      "execution_count": 66,
      "metadata": {},
      "outputs": [
        {
          "name": "stdout",
          "output_type": "stream",
          "text": [
            "RMSE: 2.5568132855369186e-07\n",
            "RMSE: 2.421190004042728e-07\n"
          ]
        }
      ],
      "source": [
        "compute_rmse(predict_data=preds, actual_data=atmos_vars_ds,\n",
        "                 var_type=\"atmosphere\",pred_var_name=\"q\",\n",
        "                 actual_var_name=\"q\",  atmos_level_idx=11)"
      ]
    },
    {
      "cell_type": "markdown",
      "metadata": {},
      "source": [
        "#### level 1000 hPa"
      ]
    },
    {
      "cell_type": "code",
      "execution_count": 67,
      "metadata": {},
      "outputs": [
        {
          "name": "stdout",
          "output_type": "stream",
          "text": [
            "RMSE: 3.123763292478543e-08\n",
            "RMSE: 3.303113160768589e-08\n"
          ]
        }
      ],
      "source": [
        "compute_rmse(predict_data=preds, actual_data=atmos_vars_ds,\n",
        "                 var_type=\"atmosphere\",pred_var_name=\"q\",\n",
        "                 actual_var_name=\"q\",  atmos_level_idx=12)"
      ]
    },
    {
      "cell_type": "markdown",
      "metadata": {},
      "source": [
        "### Geopotential in m^2 / s^2 : z"
      ]
    },
    {
      "cell_type": "code",
      "execution_count": 68,
      "metadata": {},
      "outputs": [
        {
          "ename": "NameError",
          "evalue": "name 'plot_predictions' is not defined",
          "output_type": "error",
          "traceback": [
            "\u001b[0;31m---------------------------------------------------------------------------\u001b[0m",
            "\u001b[0;31mNameError\u001b[0m                                 Traceback (most recent call last)",
            "Cell \u001b[0;32mIn[68], line 1\u001b[0m\n\u001b[0;32m----> 1\u001b[0m \u001b[43mplot_predictions\u001b[49m(predict_data\u001b[38;5;241m=\u001b[39mpreds, actual_data\u001b[38;5;241m=\u001b[39matmos_vars_ds,\n\u001b[1;32m      2\u001b[0m                  var_type\u001b[38;5;241m=\u001b[39m\u001b[38;5;124m\"\u001b[39m\u001b[38;5;124matmosphere\u001b[39m\u001b[38;5;124m\"\u001b[39m,pred_var_name\u001b[38;5;241m=\u001b[39m\u001b[38;5;124m\"\u001b[39m\u001b[38;5;124mz\u001b[39m\u001b[38;5;124m\"\u001b[39m,\n\u001b[1;32m      3\u001b[0m                  actual_var_name\u001b[38;5;241m=\u001b[39m\u001b[38;5;124m\"\u001b[39m\u001b[38;5;124mz\u001b[39m\u001b[38;5;124m\"\u001b[39m)\n",
            "\u001b[0;31mNameError\u001b[0m: name 'plot_predictions' is not defined"
          ]
        }
      ],
      "source": [
        "plot_predictions(predict_data=preds, actual_data=atmos_vars_ds,\n",
        "                 var_type=\"atmosphere\",pred_var_name=\"z\",\n",
        "                 actual_var_name=\"z\")"
      ]
    },
    {
      "cell_type": "markdown",
      "metadata": {},
      "source": [
        "#### level 50 hPa"
      ]
    },
    {
      "cell_type": "code",
      "execution_count": 69,
      "metadata": {},
      "outputs": [
        {
          "name": "stdout",
          "output_type": "stream",
          "text": [
            "RMSE: 291.06475830078125\n",
            "RMSE: 289.85662841796875\n"
          ]
        }
      ],
      "source": [
        "compute_rmse(predict_data=preds, actual_data=atmos_vars_ds,\n",
        "                 var_type=\"atmosphere\",pred_var_name=\"z\",\n",
        "                 actual_var_name=\"z\",  atmos_level_idx=0)"
      ]
    },
    {
      "cell_type": "markdown",
      "metadata": {},
      "source": [
        "#### level 100 hPa"
      ]
    },
    {
      "cell_type": "code",
      "execution_count": 70,
      "metadata": {},
      "outputs": [
        {
          "name": "stdout",
          "output_type": "stream",
          "text": [
            "RMSE: 276.332763671875\n",
            "RMSE: 275.6212158203125\n"
          ]
        }
      ],
      "source": [
        "compute_rmse(predict_data=preds, actual_data=atmos_vars_ds,\n",
        "                 var_type=\"atmosphere\",pred_var_name=\"z\",\n",
        "                 actual_var_name=\"z\",  atmos_level_idx=1)"
      ]
    },
    {
      "cell_type": "markdown",
      "metadata": {},
      "source": [
        "#### level 150 hPa"
      ]
    },
    {
      "cell_type": "code",
      "execution_count": 71,
      "metadata": {},
      "outputs": [
        {
          "name": "stdout",
          "output_type": "stream",
          "text": [
            "RMSE: 265.16552734375\n",
            "RMSE: 265.6465148925781\n"
          ]
        }
      ],
      "source": [
        "compute_rmse(predict_data=preds, actual_data=atmos_vars_ds,\n",
        "                 var_type=\"atmosphere\",pred_var_name=\"z\",\n",
        "                 actual_var_name=\"z\",  atmos_level_idx=2)"
      ]
    },
    {
      "cell_type": "markdown",
      "metadata": {},
      "source": [
        "#### level 200 hPa"
      ]
    },
    {
      "cell_type": "code",
      "execution_count": 72,
      "metadata": {},
      "outputs": [
        {
          "name": "stdout",
          "output_type": "stream",
          "text": [
            "RMSE: 270.0309753417969\n",
            "RMSE: 269.1618957519531\n"
          ]
        }
      ],
      "source": [
        "compute_rmse(predict_data=preds, actual_data=atmos_vars_ds,\n",
        "                 var_type=\"atmosphere\",pred_var_name=\"z\",\n",
        "                 actual_var_name=\"z\",  atmos_level_idx=3)"
      ]
    },
    {
      "cell_type": "markdown",
      "metadata": {},
      "source": [
        "#### level 250 hPa"
      ]
    },
    {
      "cell_type": "code",
      "execution_count": 73,
      "metadata": {},
      "outputs": [
        {
          "name": "stdout",
          "output_type": "stream",
          "text": [
            "RMSE: 297.63250732421875\n",
            "RMSE: 294.71173095703125\n"
          ]
        }
      ],
      "source": [
        "compute_rmse(predict_data=preds, actual_data=atmos_vars_ds,\n",
        "                 var_type=\"atmosphere\",pred_var_name=\"z\",\n",
        "                 actual_var_name=\"z\",  atmos_level_idx=4)"
      ]
    },
    {
      "cell_type": "markdown",
      "metadata": {},
      "source": [
        "#### level 300 hPa"
      ]
    },
    {
      "cell_type": "code",
      "execution_count": 74,
      "metadata": {},
      "outputs": [
        {
          "name": "stdout",
          "output_type": "stream",
          "text": [
            "RMSE: 347.76708984375\n",
            "RMSE: 342.8077392578125\n"
          ]
        }
      ],
      "source": [
        "compute_rmse(predict_data=preds, actual_data=atmos_vars_ds,\n",
        "                 var_type=\"atmosphere\",pred_var_name=\"z\",\n",
        "                 actual_var_name=\"z\",  atmos_level_idx=5)"
      ]
    },
    {
      "cell_type": "markdown",
      "metadata": {},
      "source": [
        "#### level 400 hPa"
      ]
    },
    {
      "cell_type": "code",
      "execution_count": 75,
      "metadata": {},
      "outputs": [
        {
          "name": "stdout",
          "output_type": "stream",
          "text": [
            "RMSE: 419.0919189453125\n",
            "RMSE: 412.1568603515625\n"
          ]
        }
      ],
      "source": [
        "compute_rmse(predict_data=preds, actual_data=atmos_vars_ds,\n",
        "                 var_type=\"atmosphere\",pred_var_name=\"z\",\n",
        "                 actual_var_name=\"z\",  atmos_level_idx=6)"
      ]
    },
    {
      "cell_type": "markdown",
      "metadata": {},
      "source": [
        "#### level 500 hPa"
      ]
    },
    {
      "cell_type": "code",
      "execution_count": 76,
      "metadata": {},
      "outputs": [
        {
          "name": "stdout",
          "output_type": "stream",
          "text": [
            "RMSE: 470.06549072265625\n",
            "RMSE: 461.8978271484375\n"
          ]
        }
      ],
      "source": [
        "compute_rmse(predict_data=preds, actual_data=atmos_vars_ds,\n",
        "                 var_type=\"atmosphere\",pred_var_name=\"z\",\n",
        "                 actual_var_name=\"z\",  atmos_level_idx=7)"
      ]
    },
    {
      "cell_type": "markdown",
      "metadata": {},
      "source": [
        "#### level 600 hPa"
      ]
    },
    {
      "cell_type": "code",
      "execution_count": 77,
      "metadata": {},
      "outputs": [
        {
          "name": "stdout",
          "output_type": "stream",
          "text": [
            "RMSE: 448.3521728515625\n",
            "RMSE: 441.4215393066406\n"
          ]
        }
      ],
      "source": [
        "compute_rmse(predict_data=preds, actual_data=atmos_vars_ds,\n",
        "                 var_type=\"atmosphere\",pred_var_name=\"z\",\n",
        "                 actual_var_name=\"z\",  atmos_level_idx=8)"
      ]
    },
    {
      "cell_type": "markdown",
      "metadata": {},
      "source": [
        "#### level 700 hPa"
      ]
    },
    {
      "cell_type": "code",
      "execution_count": 78,
      "metadata": {},
      "outputs": [
        {
          "name": "stdout",
          "output_type": "stream",
          "text": [
            "RMSE: 385.0717468261719\n",
            "RMSE: 378.998046875\n"
          ]
        }
      ],
      "source": [
        "compute_rmse(predict_data=preds, actual_data=atmos_vars_ds,\n",
        "                 var_type=\"atmosphere\",pred_var_name=\"z\",\n",
        "                 actual_var_name=\"z\",  atmos_level_idx=9)"
      ]
    },
    {
      "cell_type": "markdown",
      "metadata": {},
      "source": [
        "#### level 850 hPa"
      ]
    },
    {
      "cell_type": "code",
      "execution_count": 79,
      "metadata": {},
      "outputs": [
        {
          "name": "stdout",
          "output_type": "stream",
          "text": [
            "RMSE: 328.4762268066406\n",
            "RMSE: 319.1805725097656\n"
          ]
        }
      ],
      "source": [
        "compute_rmse(predict_data=preds, actual_data=atmos_vars_ds,\n",
        "                 var_type=\"atmosphere\",pred_var_name=\"z\",\n",
        "                 actual_var_name=\"z\",  atmos_level_idx=10)"
      ]
    },
    {
      "cell_type": "markdown",
      "metadata": {},
      "source": [
        "#### level 925 hPa"
      ]
    },
    {
      "cell_type": "code",
      "execution_count": 80,
      "metadata": {},
      "outputs": [
        {
          "name": "stdout",
          "output_type": "stream",
          "text": [
            "RMSE: 285.10797119140625\n",
            "RMSE: 276.75860595703125\n"
          ]
        }
      ],
      "source": [
        "compute_rmse(predict_data=preds, actual_data=atmos_vars_ds,\n",
        "                 var_type=\"atmosphere\",pred_var_name=\"z\",\n",
        "                 actual_var_name=\"z\",  atmos_level_idx=11)"
      ]
    },
    {
      "cell_type": "markdown",
      "metadata": {},
      "source": [
        "#### level 1000 hPa"
      ]
    },
    {
      "cell_type": "code",
      "execution_count": 81,
      "metadata": {},
      "outputs": [
        {
          "name": "stdout",
          "output_type": "stream",
          "text": [
            "RMSE: 232.45883178710938\n",
            "RMSE: 235.89382934570312\n"
          ]
        },
        {
          "ename": "",
          "evalue": "",
          "output_type": "error",
          "traceback": [
            "\u001b[1;31mThe Kernel crashed while executing code in the current cell or a previous cell. \n",
            "\u001b[1;31mPlease review the code in the cell(s) to identify a possible cause of the failure. \n",
            "\u001b[1;31mClick <a href='https://aka.ms/vscodeJupyterKernelCrash'>here</a> for more info. \n",
            "\u001b[1;31mView Jupyter <a href='command:jupyter.viewOutput'>log</a> for further details."
          ]
        }
      ],
      "source": [
        "compute_rmse(predict_data=preds, actual_data=atmos_vars_ds,\n",
        "                 var_type=\"atmosphere\",pred_var_name=\"z\",\n",
        "                 actual_var_name=\"z\",  atmos_level_idx=12)"
      ]
    },
    {
      "cell_type": "code",
      "execution_count": null,
      "metadata": {},
      "outputs": [],
      "source": [
        "# preds[0].atmos_vars[\"t\"].shape"
      ]
    },
    {
      "cell_type": "code",
      "execution_count": null,
      "metadata": {},
      "outputs": [],
      "source": [
        "# preds[0].atmos_vars[\"t\"].squeeze()[0,:,:].shape"
      ]
    },
    {
      "cell_type": "code",
      "execution_count": null,
      "metadata": {},
      "outputs": [],
      "source": [
        "# preds[0].static_vars[\"z\"].shape"
      ]
    },
    {
      "cell_type": "code",
      "execution_count": null,
      "metadata": {},
      "outputs": [],
      "source": [
        "# static_vars_ds[\"z\"].shape"
      ]
    },
    {
      "cell_type": "markdown",
      "metadata": {},
      "source": [
        "###  Land-sea mask: lsm"
      ]
    },
    {
      "cell_type": "code",
      "execution_count": null,
      "metadata": {},
      "outputs": [],
      "source": [
        "plot_predictions(predict_data=preds, actual_data=static_vars_ds,\n",
        "                 var_type=\"static\",pred_var_name=\"lsm\",\n",
        "                 actual_var_name=\"lsm\")"
      ]
    },
    {
      "cell_type": "markdown",
      "metadata": {},
      "source": [
        "### Surface-level geopotential in m^2 / s^2:  z"
      ]
    },
    {
      "cell_type": "code",
      "execution_count": null,
      "metadata": {},
      "outputs": [],
      "source": [
        "plot_predictions(predict_data=preds, actual_data=static_vars_ds,\n",
        "                 var_type=\"static\",pred_var_name=\"z\",\n",
        "                 actual_var_name=\"z\")"
      ]
    },
    {
      "cell_type": "markdown",
      "metadata": {},
      "source": [
        "### Soil type: slt"
      ]
    },
    {
      "cell_type": "code",
      "execution_count": null,
      "metadata": {},
      "outputs": [],
      "source": [
        "plot_predictions(predict_data=preds, actual_data=static_vars_ds,\n",
        "                 var_type=\"static\",pred_var_name=\"slt\",\n",
        "                 actual_var_name=\"slt\")"
      ]
    },
    {
      "cell_type": "markdown",
      "metadata": {},
      "source": [
        "### Temperature in K:t"
      ]
    },
    {
      "cell_type": "code",
      "execution_count": 19,
      "metadata": {},
      "outputs": [
        {
          "name": "stdout",
          "output_type": "stream",
          "text": [
            "RMSE: 1.8998870849609375\n",
            "RMSE: 1.8664212226867676\n"
          ]
        }
      ],
      "source": [
        "compute_rmse(predict_data=preds, actual_data=atmos_vars_ds,\n",
        "                 var_type=\"atmosphere\",pred_var_name=\"t\",\n",
        "                 actual_var_name=\"t\",  atmos_level_idx=5)"
      ]
    },
    {
      "cell_type": "code",
      "execution_count": 7,
      "metadata": {},
      "outputs": [],
      "source": [
        "# plot_predictions(predict_data=preds, actual_data=static_vars_ds,\n",
        "#                  var_type=\"static\",pred_var_name=\"lsm\",\n",
        "#                  actual_var_name=\"lsm\")"
      ]
    },
    {
      "cell_type": "code",
      "execution_count": null,
      "metadata": {},
      "outputs": [],
      "source": []
    },
    {
      "cell_type": "code",
      "execution_count": 8,
      "metadata": {},
      "outputs": [],
      "source": [
        "# plot_predictions(predict_data=preds, actual_data=static_vars_ds,\n",
        "#                  var_type=\"static\",pred_var_name=\"z\",\n",
        "#                  actual_var_name=\"z\")"
      ]
    },
    {
      "cell_type": "code",
      "execution_count": null,
      "metadata": {},
      "outputs": [],
      "source": []
    },
    {
      "cell_type": "code",
      "execution_count": 9,
      "metadata": {},
      "outputs": [],
      "source": [
        "# plot_predictions(predict_data=preds, actual_data=static_vars_ds,\n",
        "#                  var_type=\"static\",pred_var_name=\"slt\",\n",
        "#                  actual_var_name=\"slt\")"
      ]
    },
    {
      "cell_type": "code",
      "execution_count": null,
      "metadata": {},
      "outputs": [],
      "source": []
    },
    {
      "cell_type": "code",
      "execution_count": null,
      "metadata": {},
      "outputs": [],
      "source": []
    },
    {
      "cell_type": "code",
      "execution_count": 36,
      "metadata": {},
      "outputs": [],
      "source": [
        "# torch.save(model.state_dict(), \"model/aurora.pth\")"
      ]
    },
    {
      "cell_type": "markdown",
      "metadata": {},
      "source": [
        "## Load model"
      ]
    },
    {
      "cell_type": "code",
      "execution_count": null,
      "metadata": {},
      "outputs": [],
      "source": [
        "# model = AuroraSmall()\n",
        "\n",
        "# model.load_state_dict(torch.load('model/aurora.pth'))"
      ]
    }
  ],
  "metadata": {
    "accelerator": "GPU",
    "colab": {
      "gpuType": "T4",
      "provenance": []
    },
    "kernelspec": {
      "display_name": "venv",
      "language": "python",
      "name": "python3"
    },
    "language_info": {
      "codemirror_mode": {
        "name": "ipython",
        "version": 3
      },
      "file_extension": ".py",
      "mimetype": "text/x-python",
      "name": "python",
      "nbconvert_exporter": "python",
      "pygments_lexer": "ipython3",
      "version": "3.10.15"
    },
    "widgets": {
      "application/vnd.jupyter.widget-state+json": {
        "06250e9178b9491c85a874538cf57f19": {
          "model_module": "@jupyter-widgets/controls",
          "model_module_version": "1.5.0",
          "model_name": "FloatProgressModel",
          "state": {
            "_dom_classes": [],
            "_model_module": "@jupyter-widgets/controls",
            "_model_module_version": "1.5.0",
            "_model_name": "FloatProgressModel",
            "_view_count": null,
            "_view_module": "@jupyter-widgets/controls",
            "_view_module_version": "1.5.0",
            "_view_name": "ProgressView",
            "bar_style": "",
            "description": "",
            "description_tooltip": null,
            "layout": "IPY_MODEL_6fc2d491c6854c92bf72085106f08df7",
            "max": 441723557,
            "min": 0,
            "orientation": "horizontal",
            "style": "IPY_MODEL_2662f0db46c243bdbfadf502cc1c613a",
            "value": 441723557
          }
        },
        "0742e3cf50f34393937e312d3ebbf14a": {
          "model_module": "@jupyter-widgets/base",
          "model_module_version": "1.2.0",
          "model_name": "LayoutModel",
          "state": {
            "_model_module": "@jupyter-widgets/base",
            "_model_module_version": "1.2.0",
            "_model_name": "LayoutModel",
            "_view_count": null,
            "_view_module": "@jupyter-widgets/base",
            "_view_module_version": "1.2.0",
            "_view_name": "LayoutView",
            "align_content": null,
            "align_items": null,
            "align_self": null,
            "border": null,
            "bottom": null,
            "display": null,
            "flex": null,
            "flex_flow": null,
            "grid_area": null,
            "grid_auto_columns": null,
            "grid_auto_flow": null,
            "grid_auto_rows": null,
            "grid_column": null,
            "grid_gap": null,
            "grid_row": null,
            "grid_template_areas": null,
            "grid_template_columns": null,
            "grid_template_rows": null,
            "height": null,
            "justify_content": null,
            "justify_items": null,
            "left": null,
            "margin": null,
            "max_height": null,
            "max_width": null,
            "min_height": null,
            "min_width": null,
            "object_fit": null,
            "object_position": null,
            "order": null,
            "overflow": null,
            "overflow_x": null,
            "overflow_y": null,
            "padding": null,
            "right": null,
            "top": null,
            "visibility": null,
            "width": null
          }
        },
        "09d508fe1b75426ebf8a760bc733f50b": {
          "model_module": "@jupyter-widgets/base",
          "model_module_version": "1.2.0",
          "model_name": "LayoutModel",
          "state": {
            "_model_module": "@jupyter-widgets/base",
            "_model_module_version": "1.2.0",
            "_model_name": "LayoutModel",
            "_view_count": null,
            "_view_module": "@jupyter-widgets/base",
            "_view_module_version": "1.2.0",
            "_view_name": "LayoutView",
            "align_content": null,
            "align_items": null,
            "align_self": null,
            "border": null,
            "bottom": null,
            "display": null,
            "flex": null,
            "flex_flow": null,
            "grid_area": null,
            "grid_auto_columns": null,
            "grid_auto_flow": null,
            "grid_auto_rows": null,
            "grid_column": null,
            "grid_gap": null,
            "grid_row": null,
            "grid_template_areas": null,
            "grid_template_columns": null,
            "grid_template_rows": null,
            "height": null,
            "justify_content": null,
            "justify_items": null,
            "left": null,
            "margin": null,
            "max_height": null,
            "max_width": null,
            "min_height": null,
            "min_width": null,
            "object_fit": null,
            "object_position": null,
            "order": null,
            "overflow": null,
            "overflow_x": null,
            "overflow_y": null,
            "padding": null,
            "right": null,
            "top": null,
            "visibility": null,
            "width": null
          }
        },
        "15e58259de694db0a62d0be392c5ccec": {
          "model_module": "@jupyter-widgets/controls",
          "model_module_version": "1.5.0",
          "model_name": "HBoxModel",
          "state": {
            "_dom_classes": [],
            "_model_module": "@jupyter-widgets/controls",
            "_model_module_version": "1.5.0",
            "_model_name": "HBoxModel",
            "_view_count": null,
            "_view_module": "@jupyter-widgets/controls",
            "_view_module_version": "1.5.0",
            "_view_name": "HBoxView",
            "box_style": "",
            "children": [
              "IPY_MODEL_761c45a2bbaf49238f02f340851dba37",
              "IPY_MODEL_db0723afcf6f4bdaa4a223466a0c0d7c",
              "IPY_MODEL_81bba871e44644b1ac91645025dd73ec"
            ],
            "layout": "IPY_MODEL_e41f09b225ed450795e1335382300df0"
          }
        },
        "1c018dcf8e694521854f9ec1bd2db2b7": {
          "model_module": "@jupyter-widgets/controls",
          "model_module_version": "1.5.0",
          "model_name": "HBoxModel",
          "state": {
            "_dom_classes": [],
            "_model_module": "@jupyter-widgets/controls",
            "_model_module_version": "1.5.0",
            "_model_name": "HBoxModel",
            "_view_count": null,
            "_view_module": "@jupyter-widgets/controls",
            "_view_module_version": "1.5.0",
            "_view_name": "HBoxView",
            "box_style": "",
            "children": [
              "IPY_MODEL_630bb76a1bcb4c36a9dfd136b01c24ef",
              "IPY_MODEL_3e5307ece3c1430fb1a805eab1f42729",
              "IPY_MODEL_5b762cf2f8d24ec0a1827918ab7bf5ce"
            ],
            "layout": "IPY_MODEL_df9f510307574caaa8218117ddbd7091"
          }
        },
        "1cfb5483e51f4442b376cdb582cc42e2": {
          "model_module": "@jupyter-widgets/controls",
          "model_module_version": "1.5.0",
          "model_name": "DescriptionStyleModel",
          "state": {
            "_model_module": "@jupyter-widgets/controls",
            "_model_module_version": "1.5.0",
            "_model_name": "DescriptionStyleModel",
            "_view_count": null,
            "_view_module": "@jupyter-widgets/base",
            "_view_module_version": "1.2.0",
            "_view_name": "StyleView",
            "description_width": ""
          }
        },
        "1d6ecc9874834c018728ea5e814058da": {
          "model_module": "@jupyter-widgets/base",
          "model_module_version": "1.2.0",
          "model_name": "LayoutModel",
          "state": {
            "_model_module": "@jupyter-widgets/base",
            "_model_module_version": "1.2.0",
            "_model_name": "LayoutModel",
            "_view_count": null,
            "_view_module": "@jupyter-widgets/base",
            "_view_module_version": "1.2.0",
            "_view_name": "LayoutView",
            "align_content": null,
            "align_items": null,
            "align_self": null,
            "border": null,
            "bottom": null,
            "display": null,
            "flex": null,
            "flex_flow": null,
            "grid_area": null,
            "grid_auto_columns": null,
            "grid_auto_flow": null,
            "grid_auto_rows": null,
            "grid_column": null,
            "grid_gap": null,
            "grid_row": null,
            "grid_template_areas": null,
            "grid_template_columns": null,
            "grid_template_rows": null,
            "height": null,
            "justify_content": null,
            "justify_items": null,
            "left": null,
            "margin": null,
            "max_height": null,
            "max_width": null,
            "min_height": null,
            "min_width": null,
            "object_fit": null,
            "object_position": null,
            "order": null,
            "overflow": null,
            "overflow_x": null,
            "overflow_y": null,
            "padding": null,
            "right": null,
            "top": null,
            "visibility": null,
            "width": null
          }
        },
        "1d7e466a33a04a6c8a9fa162d557c7de": {
          "model_module": "@jupyter-widgets/controls",
          "model_module_version": "1.5.0",
          "model_name": "DescriptionStyleModel",
          "state": {
            "_model_module": "@jupyter-widgets/controls",
            "_model_module_version": "1.5.0",
            "_model_name": "DescriptionStyleModel",
            "_view_count": null,
            "_view_module": "@jupyter-widgets/base",
            "_view_module_version": "1.2.0",
            "_view_name": "StyleView",
            "description_width": ""
          }
        },
        "219eb0d6759145e8b2061344a355ffd9": {
          "model_module": "@jupyter-widgets/controls",
          "model_module_version": "1.5.0",
          "model_name": "ProgressStyleModel",
          "state": {
            "_model_module": "@jupyter-widgets/controls",
            "_model_module_version": "1.5.0",
            "_model_name": "ProgressStyleModel",
            "_view_count": null,
            "_view_module": "@jupyter-widgets/base",
            "_view_module_version": "1.2.0",
            "_view_name": "StyleView",
            "bar_color": null,
            "description_width": ""
          }
        },
        "2662f0db46c243bdbfadf502cc1c613a": {
          "model_module": "@jupyter-widgets/controls",
          "model_module_version": "1.5.0",
          "model_name": "ProgressStyleModel",
          "state": {
            "_model_module": "@jupyter-widgets/controls",
            "_model_module_version": "1.5.0",
            "_model_name": "ProgressStyleModel",
            "_view_count": null,
            "_view_module": "@jupyter-widgets/base",
            "_view_module_version": "1.2.0",
            "_view_name": "StyleView",
            "bar_color": null,
            "description_width": ""
          }
        },
        "2baf9b9fd1fd4a37a85076993a50b509": {
          "model_module": "@jupyter-widgets/controls",
          "model_module_version": "1.5.0",
          "model_name": "FloatProgressModel",
          "state": {
            "_dom_classes": [],
            "_model_module": "@jupyter-widgets/controls",
            "_model_module_version": "1.5.0",
            "_model_name": "FloatProgressModel",
            "_view_count": null,
            "_view_module": "@jupyter-widgets/controls",
            "_view_module_version": "1.5.0",
            "_view_name": "ProgressView",
            "bar_style": "",
            "description": "",
            "description_tooltip": null,
            "layout": "IPY_MODEL_1d6ecc9874834c018728ea5e814058da",
            "max": 3497606,
            "min": 0,
            "orientation": "horizontal",
            "style": "IPY_MODEL_5e3a590ba9934c248737af518a5d4507",
            "value": 3497606
          }
        },
        "31f7da5fdc6a4aafa619f7f1324650fe": {
          "model_module": "@jupyter-widgets/controls",
          "model_module_version": "1.5.0",
          "model_name": "DescriptionStyleModel",
          "state": {
            "_model_module": "@jupyter-widgets/controls",
            "_model_module_version": "1.5.0",
            "_model_name": "DescriptionStyleModel",
            "_view_count": null,
            "_view_module": "@jupyter-widgets/base",
            "_view_module_version": "1.2.0",
            "_view_name": "StyleView",
            "description_width": ""
          }
        },
        "3245a52044bd431aa9d76d94090cb76f": {
          "model_module": "@jupyter-widgets/controls",
          "model_module_version": "1.5.0",
          "model_name": "DescriptionStyleModel",
          "state": {
            "_model_module": "@jupyter-widgets/controls",
            "_model_module_version": "1.5.0",
            "_model_name": "DescriptionStyleModel",
            "_view_count": null,
            "_view_module": "@jupyter-widgets/base",
            "_view_module_version": "1.2.0",
            "_view_name": "StyleView",
            "description_width": ""
          }
        },
        "3cac4179bf964666b747a42229ac7745": {
          "model_module": "@jupyter-widgets/base",
          "model_module_version": "1.2.0",
          "model_name": "LayoutModel",
          "state": {
            "_model_module": "@jupyter-widgets/base",
            "_model_module_version": "1.2.0",
            "_model_name": "LayoutModel",
            "_view_count": null,
            "_view_module": "@jupyter-widgets/base",
            "_view_module_version": "1.2.0",
            "_view_name": "LayoutView",
            "align_content": null,
            "align_items": null,
            "align_self": null,
            "border": null,
            "bottom": null,
            "display": null,
            "flex": null,
            "flex_flow": null,
            "grid_area": null,
            "grid_auto_columns": null,
            "grid_auto_flow": null,
            "grid_auto_rows": null,
            "grid_column": null,
            "grid_gap": null,
            "grid_row": null,
            "grid_template_areas": null,
            "grid_template_columns": null,
            "grid_template_rows": null,
            "height": null,
            "justify_content": null,
            "justify_items": null,
            "left": null,
            "margin": null,
            "max_height": null,
            "max_width": null,
            "min_height": null,
            "min_width": null,
            "object_fit": null,
            "object_position": null,
            "order": null,
            "overflow": null,
            "overflow_x": null,
            "overflow_y": null,
            "padding": null,
            "right": null,
            "top": null,
            "visibility": null,
            "width": null
          }
        },
        "3e5307ece3c1430fb1a805eab1f42729": {
          "model_module": "@jupyter-widgets/controls",
          "model_module_version": "1.5.0",
          "model_name": "FloatProgressModel",
          "state": {
            "_dom_classes": [],
            "_model_module": "@jupyter-widgets/controls",
            "_model_module_version": "1.5.0",
            "_model_name": "FloatProgressModel",
            "_view_count": null,
            "_view_module": "@jupyter-widgets/controls",
            "_view_module_version": "1.5.0",
            "_view_name": "ProgressView",
            "bar_style": "success",
            "description": "",
            "description_tooltip": null,
            "layout": "IPY_MODEL_3cac4179bf964666b747a42229ac7745",
            "max": 5025579446,
            "min": 0,
            "orientation": "horizontal",
            "style": "IPY_MODEL_80955776364944e1a9941cf0b972b138",
            "value": 5025579446
          }
        },
        "3f8f86b1c50e439780b3d28ac11a0ae0": {
          "model_module": "@jupyter-widgets/controls",
          "model_module_version": "1.5.0",
          "model_name": "DescriptionStyleModel",
          "state": {
            "_model_module": "@jupyter-widgets/controls",
            "_model_module_version": "1.5.0",
            "_model_name": "DescriptionStyleModel",
            "_view_count": null,
            "_view_module": "@jupyter-widgets/base",
            "_view_module_version": "1.2.0",
            "_view_name": "StyleView",
            "description_width": ""
          }
        },
        "45aa2d3c80e54eae85a0d6659949b45c": {
          "model_module": "@jupyter-widgets/controls",
          "model_module_version": "1.5.0",
          "model_name": "HTMLModel",
          "state": {
            "_dom_classes": [],
            "_model_module": "@jupyter-widgets/controls",
            "_model_module_version": "1.5.0",
            "_model_name": "HTMLModel",
            "_view_count": null,
            "_view_module": "@jupyter-widgets/controls",
            "_view_module_version": "1.5.0",
            "_view_name": "HTMLView",
            "description": "",
            "description_tooltip": null,
            "layout": "IPY_MODEL_09d508fe1b75426ebf8a760bc733f50b",
            "placeholder": "​",
            "style": "IPY_MODEL_3245a52044bd431aa9d76d94090cb76f",
            "value": "f81ceec1bc0af88009581eecb5664e3a.nc:  90%"
          }
        },
        "497dff2e3f7f416d9d50a303af44d895": {
          "model_module": "@jupyter-widgets/controls",
          "model_module_version": "1.5.0",
          "model_name": "DescriptionStyleModel",
          "state": {
            "_model_module": "@jupyter-widgets/controls",
            "_model_module_version": "1.5.0",
            "_model_name": "DescriptionStyleModel",
            "_view_count": null,
            "_view_module": "@jupyter-widgets/base",
            "_view_module_version": "1.2.0",
            "_view_name": "StyleView",
            "description_width": ""
          }
        },
        "4b54036b158241308cbf65dacd2e0e45": {
          "model_module": "@jupyter-widgets/controls",
          "model_module_version": "1.5.0",
          "model_name": "DescriptionStyleModel",
          "state": {
            "_model_module": "@jupyter-widgets/controls",
            "_model_module_version": "1.5.0",
            "_model_name": "DescriptionStyleModel",
            "_view_count": null,
            "_view_module": "@jupyter-widgets/base",
            "_view_module_version": "1.2.0",
            "_view_name": "StyleView",
            "description_width": ""
          }
        },
        "4f487928bcbf47ab9f596a8ad28b6503": {
          "model_module": "@jupyter-widgets/controls",
          "model_module_version": "1.5.0",
          "model_name": "DescriptionStyleModel",
          "state": {
            "_model_module": "@jupyter-widgets/controls",
            "_model_module_version": "1.5.0",
            "_model_name": "DescriptionStyleModel",
            "_view_count": null,
            "_view_module": "@jupyter-widgets/base",
            "_view_module_version": "1.2.0",
            "_view_name": "StyleView",
            "description_width": ""
          }
        },
        "5b762cf2f8d24ec0a1827918ab7bf5ce": {
          "model_module": "@jupyter-widgets/controls",
          "model_module_version": "1.5.0",
          "model_name": "HTMLModel",
          "state": {
            "_dom_classes": [],
            "_model_module": "@jupyter-widgets/controls",
            "_model_module_version": "1.5.0",
            "_model_name": "HTMLModel",
            "_view_count": null,
            "_view_module": "@jupyter-widgets/controls",
            "_view_module_version": "1.5.0",
            "_view_name": "HTMLView",
            "description": "",
            "description_tooltip": null,
            "layout": "IPY_MODEL_ff5f9847c7014d16b78d382c90767e51",
            "placeholder": "​",
            "style": "IPY_MODEL_4f487928bcbf47ab9f596a8ad28b6503",
            "value": " 5.03G/5.03G [02:19&lt;00:00, 36.5MB/s]"
          }
        },
        "5e3a590ba9934c248737af518a5d4507": {
          "model_module": "@jupyter-widgets/controls",
          "model_module_version": "1.5.0",
          "model_name": "ProgressStyleModel",
          "state": {
            "_model_module": "@jupyter-widgets/controls",
            "_model_module_version": "1.5.0",
            "_model_name": "ProgressStyleModel",
            "_view_count": null,
            "_view_module": "@jupyter-widgets/base",
            "_view_module_version": "1.2.0",
            "_view_name": "StyleView",
            "bar_color": null,
            "description_width": ""
          }
        },
        "630bb76a1bcb4c36a9dfd136b01c24ef": {
          "model_module": "@jupyter-widgets/controls",
          "model_module_version": "1.5.0",
          "model_name": "HTMLModel",
          "state": {
            "_dom_classes": [],
            "_model_module": "@jupyter-widgets/controls",
            "_model_module_version": "1.5.0",
            "_model_name": "HTMLModel",
            "_view_count": null,
            "_view_module": "@jupyter-widgets/controls",
            "_view_module_version": "1.5.0",
            "_view_name": "HTMLView",
            "description": "",
            "description_tooltip": null,
            "layout": "IPY_MODEL_822424fab6174ae0a92a65a256abc5fc",
            "placeholder": "​",
            "style": "IPY_MODEL_31f7da5fdc6a4aafa619f7f1324650fe",
            "value": "aurora-0.25-pretrained.ckpt: 100%"
          }
        },
        "64f537fda0464fb2b7ec5e64fca2dbca": {
          "model_module": "@jupyter-widgets/controls",
          "model_module_version": "1.5.0",
          "model_name": "HBoxModel",
          "state": {
            "_dom_classes": [],
            "_model_module": "@jupyter-widgets/controls",
            "_model_module_version": "1.5.0",
            "_model_name": "HBoxModel",
            "_view_count": null,
            "_view_module": "@jupyter-widgets/controls",
            "_view_module_version": "1.5.0",
            "_view_name": "HBoxView",
            "box_style": "",
            "children": [
              "IPY_MODEL_45aa2d3c80e54eae85a0d6659949b45c",
              "IPY_MODEL_2baf9b9fd1fd4a37a85076993a50b509",
              "IPY_MODEL_86ec9795a7064fe4a23c168914a710ec"
            ],
            "layout": "IPY_MODEL_77f9819c787a46ac8470a3e37ac82719"
          }
        },
        "68358bfdd4154ba2a3865b242b478e96": {
          "model_module": "@jupyter-widgets/base",
          "model_module_version": "1.2.0",
          "model_name": "LayoutModel",
          "state": {
            "_model_module": "@jupyter-widgets/base",
            "_model_module_version": "1.2.0",
            "_model_name": "LayoutModel",
            "_view_count": null,
            "_view_module": "@jupyter-widgets/base",
            "_view_module_version": "1.2.0",
            "_view_name": "LayoutView",
            "align_content": null,
            "align_items": null,
            "align_self": null,
            "border": null,
            "bottom": null,
            "display": null,
            "flex": null,
            "flex_flow": null,
            "grid_area": null,
            "grid_auto_columns": null,
            "grid_auto_flow": null,
            "grid_auto_rows": null,
            "grid_column": null,
            "grid_gap": null,
            "grid_row": null,
            "grid_template_areas": null,
            "grid_template_columns": null,
            "grid_template_rows": null,
            "height": null,
            "justify_content": null,
            "justify_items": null,
            "left": null,
            "margin": null,
            "max_height": null,
            "max_width": null,
            "min_height": null,
            "min_width": null,
            "object_fit": null,
            "object_position": null,
            "order": null,
            "overflow": null,
            "overflow_x": null,
            "overflow_y": null,
            "padding": null,
            "right": null,
            "top": null,
            "visibility": null,
            "width": null
          }
        },
        "6fc2d491c6854c92bf72085106f08df7": {
          "model_module": "@jupyter-widgets/base",
          "model_module_version": "1.2.0",
          "model_name": "LayoutModel",
          "state": {
            "_model_module": "@jupyter-widgets/base",
            "_model_module_version": "1.2.0",
            "_model_name": "LayoutModel",
            "_view_count": null,
            "_view_module": "@jupyter-widgets/base",
            "_view_module_version": "1.2.0",
            "_view_name": "LayoutView",
            "align_content": null,
            "align_items": null,
            "align_self": null,
            "border": null,
            "bottom": null,
            "display": null,
            "flex": null,
            "flex_flow": null,
            "grid_area": null,
            "grid_auto_columns": null,
            "grid_auto_flow": null,
            "grid_auto_rows": null,
            "grid_column": null,
            "grid_gap": null,
            "grid_row": null,
            "grid_template_areas": null,
            "grid_template_columns": null,
            "grid_template_rows": null,
            "height": null,
            "justify_content": null,
            "justify_items": null,
            "left": null,
            "margin": null,
            "max_height": null,
            "max_width": null,
            "min_height": null,
            "min_width": null,
            "object_fit": null,
            "object_position": null,
            "order": null,
            "overflow": null,
            "overflow_x": null,
            "overflow_y": null,
            "padding": null,
            "right": null,
            "top": null,
            "visibility": null,
            "width": null
          }
        },
        "761c45a2bbaf49238f02f340851dba37": {
          "model_module": "@jupyter-widgets/controls",
          "model_module_version": "1.5.0",
          "model_name": "HTMLModel",
          "state": {
            "_dom_classes": [],
            "_model_module": "@jupyter-widgets/controls",
            "_model_module_version": "1.5.0",
            "_model_name": "HTMLModel",
            "_view_count": null,
            "_view_module": "@jupyter-widgets/controls",
            "_view_module_version": "1.5.0",
            "_view_name": "HTMLView",
            "description": "",
            "description_tooltip": null,
            "layout": "IPY_MODEL_ff368a12f1714a8386a99b41c26462c3",
            "placeholder": "​",
            "style": "IPY_MODEL_3f8f86b1c50e439780b3d28ac11a0ae0",
            "value": "7aabef1e1210417975c992bb5f757a74.nc:  96%"
          }
        },
        "77f9819c787a46ac8470a3e37ac82719": {
          "model_module": "@jupyter-widgets/base",
          "model_module_version": "1.2.0",
          "model_name": "LayoutModel",
          "state": {
            "_model_module": "@jupyter-widgets/base",
            "_model_module_version": "1.2.0",
            "_model_name": "LayoutModel",
            "_view_count": null,
            "_view_module": "@jupyter-widgets/base",
            "_view_module_version": "1.2.0",
            "_view_name": "LayoutView",
            "align_content": null,
            "align_items": null,
            "align_self": null,
            "border": null,
            "bottom": null,
            "display": null,
            "flex": null,
            "flex_flow": null,
            "grid_area": null,
            "grid_auto_columns": null,
            "grid_auto_flow": null,
            "grid_auto_rows": null,
            "grid_column": null,
            "grid_gap": null,
            "grid_row": null,
            "grid_template_areas": null,
            "grid_template_columns": null,
            "grid_template_rows": null,
            "height": null,
            "justify_content": null,
            "justify_items": null,
            "left": null,
            "margin": null,
            "max_height": null,
            "max_width": null,
            "min_height": null,
            "min_width": null,
            "object_fit": null,
            "object_position": null,
            "order": null,
            "overflow": null,
            "overflow_x": null,
            "overflow_y": null,
            "padding": null,
            "right": null,
            "top": null,
            "visibility": "hidden",
            "width": null
          }
        },
        "78a76ff011c34233988de4440d9a65ec": {
          "model_module": "@jupyter-widgets/base",
          "model_module_version": "1.2.0",
          "model_name": "LayoutModel",
          "state": {
            "_model_module": "@jupyter-widgets/base",
            "_model_module_version": "1.2.0",
            "_model_name": "LayoutModel",
            "_view_count": null,
            "_view_module": "@jupyter-widgets/base",
            "_view_module_version": "1.2.0",
            "_view_name": "LayoutView",
            "align_content": null,
            "align_items": null,
            "align_self": null,
            "border": null,
            "bottom": null,
            "display": null,
            "flex": null,
            "flex_flow": null,
            "grid_area": null,
            "grid_auto_columns": null,
            "grid_auto_flow": null,
            "grid_auto_rows": null,
            "grid_column": null,
            "grid_gap": null,
            "grid_row": null,
            "grid_template_areas": null,
            "grid_template_columns": null,
            "grid_template_rows": null,
            "height": null,
            "justify_content": null,
            "justify_items": null,
            "left": null,
            "margin": null,
            "max_height": null,
            "max_width": null,
            "min_height": null,
            "min_width": null,
            "object_fit": null,
            "object_position": null,
            "order": null,
            "overflow": null,
            "overflow_x": null,
            "overflow_y": null,
            "padding": null,
            "right": null,
            "top": null,
            "visibility": "hidden",
            "width": null
          }
        },
        "80955776364944e1a9941cf0b972b138": {
          "model_module": "@jupyter-widgets/controls",
          "model_module_version": "1.5.0",
          "model_name": "ProgressStyleModel",
          "state": {
            "_model_module": "@jupyter-widgets/controls",
            "_model_module_version": "1.5.0",
            "_model_name": "ProgressStyleModel",
            "_view_count": null,
            "_view_module": "@jupyter-widgets/base",
            "_view_module_version": "1.2.0",
            "_view_name": "StyleView",
            "bar_color": null,
            "description_width": ""
          }
        },
        "81bba871e44644b1ac91645025dd73ec": {
          "model_module": "@jupyter-widgets/controls",
          "model_module_version": "1.5.0",
          "model_name": "HTMLModel",
          "state": {
            "_dom_classes": [],
            "_model_module": "@jupyter-widgets/controls",
            "_model_module_version": "1.5.0",
            "_model_name": "HTMLModel",
            "_view_count": null,
            "_view_module": "@jupyter-widgets/controls",
            "_view_module_version": "1.5.0",
            "_view_name": "HTMLView",
            "description": "",
            "description_tooltip": null,
            "layout": "IPY_MODEL_68358bfdd4154ba2a3865b242b478e96",
            "placeholder": "​",
            "style": "IPY_MODEL_4b54036b158241308cbf65dacd2e0e45",
            "value": " 25.0M/26.2M [00:03&lt;00:00, 17.2MB/s]"
          }
        },
        "822424fab6174ae0a92a65a256abc5fc": {
          "model_module": "@jupyter-widgets/base",
          "model_module_version": "1.2.0",
          "model_name": "LayoutModel",
          "state": {
            "_model_module": "@jupyter-widgets/base",
            "_model_module_version": "1.2.0",
            "_model_name": "LayoutModel",
            "_view_count": null,
            "_view_module": "@jupyter-widgets/base",
            "_view_module_version": "1.2.0",
            "_view_name": "LayoutView",
            "align_content": null,
            "align_items": null,
            "align_self": null,
            "border": null,
            "bottom": null,
            "display": null,
            "flex": null,
            "flex_flow": null,
            "grid_area": null,
            "grid_auto_columns": null,
            "grid_auto_flow": null,
            "grid_auto_rows": null,
            "grid_column": null,
            "grid_gap": null,
            "grid_row": null,
            "grid_template_areas": null,
            "grid_template_columns": null,
            "grid_template_rows": null,
            "height": null,
            "justify_content": null,
            "justify_items": null,
            "left": null,
            "margin": null,
            "max_height": null,
            "max_width": null,
            "min_height": null,
            "min_width": null,
            "object_fit": null,
            "object_position": null,
            "order": null,
            "overflow": null,
            "overflow_x": null,
            "overflow_y": null,
            "padding": null,
            "right": null,
            "top": null,
            "visibility": null,
            "width": null
          }
        },
        "86ec9795a7064fe4a23c168914a710ec": {
          "model_module": "@jupyter-widgets/controls",
          "model_module_version": "1.5.0",
          "model_name": "HTMLModel",
          "state": {
            "_dom_classes": [],
            "_model_module": "@jupyter-widgets/controls",
            "_model_module_version": "1.5.0",
            "_model_name": "HTMLModel",
            "_view_count": null,
            "_view_module": "@jupyter-widgets/controls",
            "_view_module_version": "1.5.0",
            "_view_name": "HTMLView",
            "description": "",
            "description_tooltip": null,
            "layout": "IPY_MODEL_9e5ad0a89eae42ee9066aceb7b67b7ad",
            "placeholder": "​",
            "style": "IPY_MODEL_1d7e466a33a04a6c8a9fa162d557c7de",
            "value": " 3.00M/3.34M [00:01&lt;00:00, 2.27MB/s]"
          }
        },
        "9b9e4a12431b45af8003f311db478d7e": {
          "model_module": "@jupyter-widgets/controls",
          "model_module_version": "1.5.0",
          "model_name": "HTMLModel",
          "state": {
            "_dom_classes": [],
            "_model_module": "@jupyter-widgets/controls",
            "_model_module_version": "1.5.0",
            "_model_name": "HTMLModel",
            "_view_count": null,
            "_view_module": "@jupyter-widgets/controls",
            "_view_module_version": "1.5.0",
            "_view_name": "HTMLView",
            "description": "",
            "description_tooltip": null,
            "layout": "IPY_MODEL_0742e3cf50f34393937e312d3ebbf14a",
            "placeholder": "​",
            "style": "IPY_MODEL_497dff2e3f7f416d9d50a303af44d895",
            "value": " 421M/421M [05:30&lt;00:00, 1.64MB/s]"
          }
        },
        "9e5ad0a89eae42ee9066aceb7b67b7ad": {
          "model_module": "@jupyter-widgets/base",
          "model_module_version": "1.2.0",
          "model_name": "LayoutModel",
          "state": {
            "_model_module": "@jupyter-widgets/base",
            "_model_module_version": "1.2.0",
            "_model_name": "LayoutModel",
            "_view_count": null,
            "_view_module": "@jupyter-widgets/base",
            "_view_module_version": "1.2.0",
            "_view_name": "LayoutView",
            "align_content": null,
            "align_items": null,
            "align_self": null,
            "border": null,
            "bottom": null,
            "display": null,
            "flex": null,
            "flex_flow": null,
            "grid_area": null,
            "grid_auto_columns": null,
            "grid_auto_flow": null,
            "grid_auto_rows": null,
            "grid_column": null,
            "grid_gap": null,
            "grid_row": null,
            "grid_template_areas": null,
            "grid_template_columns": null,
            "grid_template_rows": null,
            "height": null,
            "justify_content": null,
            "justify_items": null,
            "left": null,
            "margin": null,
            "max_height": null,
            "max_width": null,
            "min_height": null,
            "min_width": null,
            "object_fit": null,
            "object_position": null,
            "order": null,
            "overflow": null,
            "overflow_x": null,
            "overflow_y": null,
            "padding": null,
            "right": null,
            "top": null,
            "visibility": null,
            "width": null
          }
        },
        "b02995007a8741d3aa4f58f2869251db": {
          "model_module": "@jupyter-widgets/controls",
          "model_module_version": "1.5.0",
          "model_name": "HBoxModel",
          "state": {
            "_dom_classes": [],
            "_model_module": "@jupyter-widgets/controls",
            "_model_module_version": "1.5.0",
            "_model_name": "HBoxModel",
            "_view_count": null,
            "_view_module": "@jupyter-widgets/controls",
            "_view_module_version": "1.5.0",
            "_view_name": "HBoxView",
            "box_style": "",
            "children": [
              "IPY_MODEL_d9e8d7fe923d4ef9929ebee39400acd2",
              "IPY_MODEL_06250e9178b9491c85a874538cf57f19",
              "IPY_MODEL_9b9e4a12431b45af8003f311db478d7e"
            ],
            "layout": "IPY_MODEL_78a76ff011c34233988de4440d9a65ec"
          }
        },
        "d194468bc28d4cdf9d7333c75f2bf980": {
          "model_module": "@jupyter-widgets/base",
          "model_module_version": "1.2.0",
          "model_name": "LayoutModel",
          "state": {
            "_model_module": "@jupyter-widgets/base",
            "_model_module_version": "1.2.0",
            "_model_name": "LayoutModel",
            "_view_count": null,
            "_view_module": "@jupyter-widgets/base",
            "_view_module_version": "1.2.0",
            "_view_name": "LayoutView",
            "align_content": null,
            "align_items": null,
            "align_self": null,
            "border": null,
            "bottom": null,
            "display": null,
            "flex": null,
            "flex_flow": null,
            "grid_area": null,
            "grid_auto_columns": null,
            "grid_auto_flow": null,
            "grid_auto_rows": null,
            "grid_column": null,
            "grid_gap": null,
            "grid_row": null,
            "grid_template_areas": null,
            "grid_template_columns": null,
            "grid_template_rows": null,
            "height": null,
            "justify_content": null,
            "justify_items": null,
            "left": null,
            "margin": null,
            "max_height": null,
            "max_width": null,
            "min_height": null,
            "min_width": null,
            "object_fit": null,
            "object_position": null,
            "order": null,
            "overflow": null,
            "overflow_x": null,
            "overflow_y": null,
            "padding": null,
            "right": null,
            "top": null,
            "visibility": null,
            "width": null
          }
        },
        "d9e8d7fe923d4ef9929ebee39400acd2": {
          "model_module": "@jupyter-widgets/controls",
          "model_module_version": "1.5.0",
          "model_name": "HTMLModel",
          "state": {
            "_dom_classes": [],
            "_model_module": "@jupyter-widgets/controls",
            "_model_module_version": "1.5.0",
            "_model_name": "HTMLModel",
            "_view_count": null,
            "_view_module": "@jupyter-widgets/controls",
            "_view_module_version": "1.5.0",
            "_view_name": "HTMLView",
            "description": "",
            "description_tooltip": null,
            "layout": "IPY_MODEL_d194468bc28d4cdf9d7333c75f2bf980",
            "placeholder": "​",
            "style": "IPY_MODEL_1cfb5483e51f4442b376cdb582cc42e2",
            "value": "2c0d6d5113822c954908d938733dfbf8.nc: 100%"
          }
        },
        "db0723afcf6f4bdaa4a223466a0c0d7c": {
          "model_module": "@jupyter-widgets/controls",
          "model_module_version": "1.5.0",
          "model_name": "FloatProgressModel",
          "state": {
            "_dom_classes": [],
            "_model_module": "@jupyter-widgets/controls",
            "_model_module_version": "1.5.0",
            "_model_name": "FloatProgressModel",
            "_view_count": null,
            "_view_module": "@jupyter-widgets/controls",
            "_view_module_version": "1.5.0",
            "_view_name": "ProgressView",
            "bar_style": "",
            "description": "",
            "description_tooltip": null,
            "layout": "IPY_MODEL_fa5078a8e7fc40388bd0ebb50d281d24",
            "max": 27434757,
            "min": 0,
            "orientation": "horizontal",
            "style": "IPY_MODEL_219eb0d6759145e8b2061344a355ffd9",
            "value": 27434757
          }
        },
        "df9f510307574caaa8218117ddbd7091": {
          "model_module": "@jupyter-widgets/base",
          "model_module_version": "1.2.0",
          "model_name": "LayoutModel",
          "state": {
            "_model_module": "@jupyter-widgets/base",
            "_model_module_version": "1.2.0",
            "_model_name": "LayoutModel",
            "_view_count": null,
            "_view_module": "@jupyter-widgets/base",
            "_view_module_version": "1.2.0",
            "_view_name": "LayoutView",
            "align_content": null,
            "align_items": null,
            "align_self": null,
            "border": null,
            "bottom": null,
            "display": null,
            "flex": null,
            "flex_flow": null,
            "grid_area": null,
            "grid_auto_columns": null,
            "grid_auto_flow": null,
            "grid_auto_rows": null,
            "grid_column": null,
            "grid_gap": null,
            "grid_row": null,
            "grid_template_areas": null,
            "grid_template_columns": null,
            "grid_template_rows": null,
            "height": null,
            "justify_content": null,
            "justify_items": null,
            "left": null,
            "margin": null,
            "max_height": null,
            "max_width": null,
            "min_height": null,
            "min_width": null,
            "object_fit": null,
            "object_position": null,
            "order": null,
            "overflow": null,
            "overflow_x": null,
            "overflow_y": null,
            "padding": null,
            "right": null,
            "top": null,
            "visibility": null,
            "width": null
          }
        },
        "e41f09b225ed450795e1335382300df0": {
          "model_module": "@jupyter-widgets/base",
          "model_module_version": "1.2.0",
          "model_name": "LayoutModel",
          "state": {
            "_model_module": "@jupyter-widgets/base",
            "_model_module_version": "1.2.0",
            "_model_name": "LayoutModel",
            "_view_count": null,
            "_view_module": "@jupyter-widgets/base",
            "_view_module_version": "1.2.0",
            "_view_name": "LayoutView",
            "align_content": null,
            "align_items": null,
            "align_self": null,
            "border": null,
            "bottom": null,
            "display": null,
            "flex": null,
            "flex_flow": null,
            "grid_area": null,
            "grid_auto_columns": null,
            "grid_auto_flow": null,
            "grid_auto_rows": null,
            "grid_column": null,
            "grid_gap": null,
            "grid_row": null,
            "grid_template_areas": null,
            "grid_template_columns": null,
            "grid_template_rows": null,
            "height": null,
            "justify_content": null,
            "justify_items": null,
            "left": null,
            "margin": null,
            "max_height": null,
            "max_width": null,
            "min_height": null,
            "min_width": null,
            "object_fit": null,
            "object_position": null,
            "order": null,
            "overflow": null,
            "overflow_x": null,
            "overflow_y": null,
            "padding": null,
            "right": null,
            "top": null,
            "visibility": "hidden",
            "width": null
          }
        },
        "fa5078a8e7fc40388bd0ebb50d281d24": {
          "model_module": "@jupyter-widgets/base",
          "model_module_version": "1.2.0",
          "model_name": "LayoutModel",
          "state": {
            "_model_module": "@jupyter-widgets/base",
            "_model_module_version": "1.2.0",
            "_model_name": "LayoutModel",
            "_view_count": null,
            "_view_module": "@jupyter-widgets/base",
            "_view_module_version": "1.2.0",
            "_view_name": "LayoutView",
            "align_content": null,
            "align_items": null,
            "align_self": null,
            "border": null,
            "bottom": null,
            "display": null,
            "flex": null,
            "flex_flow": null,
            "grid_area": null,
            "grid_auto_columns": null,
            "grid_auto_flow": null,
            "grid_auto_rows": null,
            "grid_column": null,
            "grid_gap": null,
            "grid_row": null,
            "grid_template_areas": null,
            "grid_template_columns": null,
            "grid_template_rows": null,
            "height": null,
            "justify_content": null,
            "justify_items": null,
            "left": null,
            "margin": null,
            "max_height": null,
            "max_width": null,
            "min_height": null,
            "min_width": null,
            "object_fit": null,
            "object_position": null,
            "order": null,
            "overflow": null,
            "overflow_x": null,
            "overflow_y": null,
            "padding": null,
            "right": null,
            "top": null,
            "visibility": null,
            "width": null
          }
        },
        "ff368a12f1714a8386a99b41c26462c3": {
          "model_module": "@jupyter-widgets/base",
          "model_module_version": "1.2.0",
          "model_name": "LayoutModel",
          "state": {
            "_model_module": "@jupyter-widgets/base",
            "_model_module_version": "1.2.0",
            "_model_name": "LayoutModel",
            "_view_count": null,
            "_view_module": "@jupyter-widgets/base",
            "_view_module_version": "1.2.0",
            "_view_name": "LayoutView",
            "align_content": null,
            "align_items": null,
            "align_self": null,
            "border": null,
            "bottom": null,
            "display": null,
            "flex": null,
            "flex_flow": null,
            "grid_area": null,
            "grid_auto_columns": null,
            "grid_auto_flow": null,
            "grid_auto_rows": null,
            "grid_column": null,
            "grid_gap": null,
            "grid_row": null,
            "grid_template_areas": null,
            "grid_template_columns": null,
            "grid_template_rows": null,
            "height": null,
            "justify_content": null,
            "justify_items": null,
            "left": null,
            "margin": null,
            "max_height": null,
            "max_width": null,
            "min_height": null,
            "min_width": null,
            "object_fit": null,
            "object_position": null,
            "order": null,
            "overflow": null,
            "overflow_x": null,
            "overflow_y": null,
            "padding": null,
            "right": null,
            "top": null,
            "visibility": null,
            "width": null
          }
        },
        "ff5f9847c7014d16b78d382c90767e51": {
          "model_module": "@jupyter-widgets/base",
          "model_module_version": "1.2.0",
          "model_name": "LayoutModel",
          "state": {
            "_model_module": "@jupyter-widgets/base",
            "_model_module_version": "1.2.0",
            "_model_name": "LayoutModel",
            "_view_count": null,
            "_view_module": "@jupyter-widgets/base",
            "_view_module_version": "1.2.0",
            "_view_name": "LayoutView",
            "align_content": null,
            "align_items": null,
            "align_self": null,
            "border": null,
            "bottom": null,
            "display": null,
            "flex": null,
            "flex_flow": null,
            "grid_area": null,
            "grid_auto_columns": null,
            "grid_auto_flow": null,
            "grid_auto_rows": null,
            "grid_column": null,
            "grid_gap": null,
            "grid_row": null,
            "grid_template_areas": null,
            "grid_template_columns": null,
            "grid_template_rows": null,
            "height": null,
            "justify_content": null,
            "justify_items": null,
            "left": null,
            "margin": null,
            "max_height": null,
            "max_width": null,
            "min_height": null,
            "min_width": null,
            "object_fit": null,
            "object_position": null,
            "order": null,
            "overflow": null,
            "overflow_x": null,
            "overflow_y": null,
            "padding": null,
            "right": null,
            "top": null,
            "visibility": null,
            "width": null
          }
        }
      }
    }
  },
  "nbformat": 4,
  "nbformat_minor": 0
}
