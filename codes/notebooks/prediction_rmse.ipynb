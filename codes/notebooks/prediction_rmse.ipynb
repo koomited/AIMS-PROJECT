{
 "cells": [
  {
   "cell_type": "markdown",
   "metadata": {},
   "source": [
    "# Libraries"
   ]
  },
  {
   "cell_type": "code",
   "execution_count": 1,
   "metadata": {},
   "outputs": [
    {
     "name": "stderr",
     "output_type": "stream",
     "text": [
      "/home/koomi_aims_ac_za/koomi/research/venv/lib/python3.10/site-packages/tqdm/auto.py:21: TqdmWarning: IProgress not found. Please update jupyter and ipywidgets. See https://ipywidgets.readthedocs.io/en/stable/user_install.html\n",
      "  from .autonotebook import tqdm as notebook_tqdm\n"
     ]
    }
   ],
   "source": [
    "import xarray as xr\n",
    "from datetime import datetime\n",
    "\n",
    "import torch\n",
    "\n",
    "from aurora import AuroraSmall, Batch, Metadata, rollout\n",
    "import matplotlib.pyplot as plt\n",
    "\n",
    "from pathlib import Path\n",
    "\n",
    "import cdsapi\n",
    "import numpy as np\n",
    "from sklearn.metrics import root_mean_squared_error\n",
    "import gcsfs\n",
    "\n",
    "from torch.utils.data import Dataset\n",
    "from aurora import Batch, Metadata\n",
    "import os"
   ]
  },
  {
   "cell_type": "code",
   "execution_count": 2,
   "metadata": {},
   "outputs": [
    {
     "name": "stderr",
     "output_type": "stream",
     "text": [
      "/home/koomi_aims_ac_za/koomi/research/venv/lib/python3.10/site-packages/torch/cuda/__init__.py:129: UserWarning: CUDA initialization: The NVIDIA driver on your system is too old (found version 11040). Please update your GPU driver by downloading and installing a new version from the URL: http://www.nvidia.com/Download/index.aspx Alternatively, go to: https://pytorch.org to install a PyTorch version that has been compiled with your version of the CUDA driver. (Triggered internally at /pytorch/c10/cuda/CUDAFunctions.cpp:109.)\n",
      "  return torch._C._cuda_getDeviceCount() > 0\n"
     ]
    },
    {
     "data": {
      "text/plain": [
       "False"
      ]
     },
     "execution_count": 2,
     "metadata": {},
     "output_type": "execute_result"
    }
   ],
   "source": [
    "torch.cuda.is_available()"
   ]
  },
  {
   "cell_type": "code",
   "execution_count": 1,
   "metadata": {},
   "outputs": [
    {
     "name": "stdout",
     "output_type": "stream",
     "text": [
      "False\n"
     ]
    },
    {
     "name": "stderr",
     "output_type": "stream",
     "text": [
      "/home/koomi_aims_ac_za/koomi/research/venv/lib/python3.10/site-packages/torch/cuda/__init__.py:129: UserWarning: CUDA initialization: The NVIDIA driver on your system is too old (found version 11040). Please update your GPU driver by downloading and installing a new version from the URL: http://www.nvidia.com/Download/index.aspx Alternatively, go to: https://pytorch.org to install a PyTorch version that has been compiled with your version of the CUDA driver. (Triggered internally at /pytorch/c10/cuda/CUDAFunctions.cpp:109.)\n",
      "  return torch._C._cuda_getDeviceCount() > 0\n"
     ]
    }
   ],
   "source": [
    "import torch\n",
    "print(torch.cuda.is_available())\n"
   ]
  },
  {
   "cell_type": "code",
   "execution_count": 2,
   "metadata": {},
   "outputs": [
    {
     "name": "stdout",
     "output_type": "stream",
     "text": [
      "2.6.0+cu124\n",
      "False\n"
     ]
    }
   ],
   "source": [
    "import torch\n",
    "print(torch.__version__)\n",
    "print(torch.cuda.is_available())\n"
   ]
  },
  {
   "cell_type": "markdown",
   "metadata": {},
   "source": [
    "# Clear memory"
   ]
  },
  {
   "cell_type": "code",
   "execution_count": 3,
   "metadata": {},
   "outputs": [],
   "source": [
    "# torch.cuda.empty_cache()\n",
    "\n",
    "# os.environ[\"PYTORCH_CUDA_ALLOC_CONF\"] = \"max_split_size_mb:1024\"\n",
    "\n",
    "# torch.cuda.memory_allocated()"
   ]
  },
  {
   "cell_type": "code",
   "execution_count": 4,
   "metadata": {},
   "outputs": [],
   "source": [
    "\n",
    "# os.environ[\"CUDA_LAUNCH_BLOCKING\"] = \"1\""
   ]
  },
  {
   "cell_type": "code",
   "execution_count": 5,
   "metadata": {},
   "outputs": [],
   "source": [
    "# torch.backends.cuda.enable_mem_efficient_sdp(False)\n",
    "# torch.backends.cuda.enable_flash_sdp(False)\n",
    "# torch.backends.cuda.enable_math_sdp(True)"
   ]
  },
  {
   "cell_type": "markdown",
   "metadata": {},
   "source": [
    "# Load the model"
   ]
  },
  {
   "cell_type": "code",
   "execution_count": 6,
   "metadata": {},
   "outputs": [
    {
     "data": {
      "text/plain": [
       "<All keys matched successfully>"
      ]
     },
     "execution_count": 6,
     "metadata": {},
     "output_type": "execute_result"
    }
   ],
   "source": [
    "model = AuroraSmall()\n",
    "\n",
    "model.load_state_dict(torch.load('../model/aurora.pth'))"
   ]
  },
  {
   "cell_type": "code",
   "execution_count": 7,
   "metadata": {},
   "outputs": [],
   "source": [
    "# # model.half()\n",
    "# tensor = torch.tensor.half()"
   ]
  },
  {
   "cell_type": "markdown",
   "metadata": {},
   "source": [
    "# Data"
   ]
  },
  {
   "cell_type": "markdown",
   "metadata": {},
   "source": [
    "## World"
   ]
  },
  {
   "cell_type": "code",
   "execution_count": 8,
   "metadata": {},
   "outputs": [],
   "source": [
    "fs = gcsfs.GCSFileSystem(token=\"anon\")\n",
    "\n",
    "store = fs.get_mapper('gs://weatherbench2/datasets/era5/1959-2023_01_10-wb13-6h-1440x721_with_derived_variables.zarr')\n",
    "full_era5 = xr.open_zarr(store=store, consolidated=True, chunks=None)\n",
    "# df_2022 = ds.sel({'time':np.arange('2022-01-01','2023-01-11',dtype='datetime64[ns]')})"
   ]
  },
  {
   "cell_type": "markdown",
   "metadata": {},
   "source": [
    "### Subset data from 2022"
   ]
  },
  {
   "cell_type": "code",
   "execution_count": 9,
   "metadata": {},
   "outputs": [],
   "source": [
    "start_time = '2022-01-01'\n",
    "end_time = '2023-01-31'\n",
    "data_inner_steps = 6  # process every 6th hour\n",
    "\n",
    "sliced_era5_world = (\n",
    "    full_era5\n",
    "    # [['geopotential', 'specific_humidity', 'temperature', 'u_component_of_wind', 'v_component_of_wind']]\n",
    "    # .pipe(\n",
    "    #     xarray_utils.selective_temporal_shift,\n",
    "    #     variables=model.forcing_variables,\n",
    "    #     time_shift='24 hours',\n",
    "    # )\n",
    "    .sel(time=slice(start_time, end_time, data_inner_steps))\n",
    "    # .compute()\n",
    ")"
   ]
  },
  {
   "cell_type": "markdown",
   "metadata": {},
   "source": [
    "### Surface variables"
   ]
  },
  {
   "cell_type": "code",
   "execution_count": 10,
   "metadata": {},
   "outputs": [],
   "source": [
    "# List of surface variable names\n",
    "surface_vars = ['2m_temperature', '10m_u_component_of_wind', '10m_v_component_of_wind', 'mean_sea_level_pressure']\n",
    "\n",
    "# Select surface variables\n",
    "surf_vars_ds = sliced_era5_world[surface_vars]\n"
   ]
  },
  {
   "cell_type": "markdown",
   "metadata": {},
   "source": [
    "### Atmospherique variables"
   ]
  },
  {
   "cell_type": "code",
   "execution_count": 11,
   "metadata": {},
   "outputs": [],
   "source": [
    "atmostpheric_variables = [\"temperature\", \"u_component_of_wind\", \"v_component_of_wind\", \"specific_humidity\", \"geopotential\"]\n",
    "atmos_vars_ds = sliced_era5_world[atmostpheric_variables]"
   ]
  },
  {
   "cell_type": "markdown",
   "metadata": {},
   "source": [
    "## Static variables"
   ]
  },
  {
   "cell_type": "code",
   "execution_count": 12,
   "metadata": {},
   "outputs": [],
   "source": [
    "static_variables = [\"land_sea_mask\", \"soil_type\", \"geopotential_at_surface\"]\n",
    "static_vars_ds = sliced_era5_world[static_variables]"
   ]
  },
  {
   "cell_type": "code",
   "execution_count": 13,
   "metadata": {},
   "outputs": [],
   "source": [
    "# surf_vars_ds"
   ]
  },
  {
   "cell_type": "code",
   "execution_count": 14,
   "metadata": {},
   "outputs": [],
   "source": [
    "# static_vars_ds[\"geopotential_at_surface\"].values.shape"
   ]
  },
  {
   "cell_type": "markdown",
   "metadata": {},
   "source": [
    "## Create batches"
   ]
  },
  {
   "cell_type": "code",
   "execution_count": 15,
   "metadata": {},
   "outputs": [],
   "source": [
    "\n",
    "class ERA5ZarrDataset(Dataset):\n",
    "    def __init__(self, surf_vars_ds, atmos_vars_ds, static_vars_ds, sequence_length):\n",
    "        self.surf_vars_ds = surf_vars_ds\n",
    "        self.atmos_vars_ds = atmos_vars_ds\n",
    "        self.static_vars_ds = static_vars_ds\n",
    "        self.sequence_length = sequence_length\n",
    "        self.time_indices = range(sequence_length, len(surf_vars_ds.time))\n",
    "\n",
    "    def __len__(self):\n",
    "        return len(self.time_indices)\n",
    "\n",
    "    def __getitem__(self, idx):\n",
    "        i = self.time_indices[idx]\n",
    "        # time_slice = slice(i - self.sequence_length, i)\n",
    "\n",
    "        surf_vars = {\n",
    "            \"2t\": torch.from_numpy(self.surf_vars_ds[\"2m_temperature\"].values[[i - 1, i]][None]),\n",
    "            \"10u\": torch.from_numpy(self.surf_vars_ds[\"10m_u_component_of_wind\"].values[[i - 1, i]][None]),\n",
    "            \"10v\": torch.from_numpy(self.surf_vars_ds[\"10m_v_component_of_wind\"].values[[i - 1, i]][None]),\n",
    "            \"msl\": torch.from_numpy(self.surf_vars_ds[\"mean_sea_level_pressure\"].values[[i - 1, i]][None]),\n",
    "        }\n",
    "\n",
    "        static_vars = {\n",
    "            \"z\": torch.from_numpy(self.static_vars_ds[\"geopotential_at_surface\"].values),\n",
    "            \"slt\": torch.from_numpy(self.static_vars_ds[\"soil_type\"].values),\n",
    "            \"lsm\": torch.from_numpy(self.static_vars_ds[\"land_sea_mask\"].values),\n",
    "        }\n",
    "\n",
    "        atmos_vars = {\n",
    "            \"t\": torch.from_numpy(self.atmos_vars_ds[\"temperature\"].values[[i - 1, i]][None]),\n",
    "            \"u\": torch.from_numpy(self.atmos_vars_ds[\"u_component_of_wind\"].values[[i - 1, i]][None]),\n",
    "            \"v\": torch.from_numpy(self.atmos_vars_ds[\"v_component_of_wind\"].values[[i - 1, i]][None]),\n",
    "            \"q\": torch.from_numpy(self.atmos_vars_ds[\"specific_humidity\"].values[[i - 1, i]][None]),\n",
    "            \"z\": torch.from_numpy(self.atmos_vars_ds[\"geopotential\"].values[[i - 1, i]][None]),\n",
    "        }\n",
    "\n",
    "        metadata=Metadata(\n",
    "        lat=torch.from_numpy(self.surf_vars_ds.latitude.values),\n",
    "        lon=torch.from_numpy(self.surf_vars_ds.longitude.values),\n",
    "        time=(self.surf_vars_ds.time.values.astype(\"datetime64[s]\").tolist()[i],),\n",
    "        atmos_levels=tuple(int(level) for level in self.atmos_vars_ds.level.values)\n",
    "    )\n",
    "\n",
    "\n",
    "        return Batch(surf_vars=surf_vars, static_vars=static_vars, atmos_vars=atmos_vars, metadata=metadata)\n"
   ]
  },
  {
   "cell_type": "code",
   "execution_count": 16,
   "metadata": {},
   "outputs": [],
   "source": [
    "#   metadata=Metadata(\n",
    "#         lat=torch.from_numpy(surf_vars_ds.latitude.values),\n",
    "#         lon=torch.from_numpy(surf_vars_ds.longitude.values),\n",
    "#         # Converting to `datetime64[s]` ensures that the output of `tolist()` gives\n",
    "#         # `datetime.datetime`s. Note that this needs to be a tuple of length one:\n",
    "#         # one value for every batch element.\n",
    "#         time=(surf_vars_ds.valid_time.values.astype(\"datetime64[s]\").tolist()[i],),\n",
    "#         atmos_levels=tuple(int(level) for level in atmos_vars_ds.pressure_level.values),\n",
    "#     ),\n",
    "# )"
   ]
  },
  {
   "cell_type": "code",
   "execution_count": 17,
   "metadata": {},
   "outputs": [],
   "source": [
    "\n",
    "# class ERA5ZarrDataset(Dataset):\n",
    "#     def __init__(self, surf_vars_ds, atmos_vars_ds, static_vars_ds, sequence_length):\n",
    "#         self.surf_vars_ds = surf_vars_ds\n",
    "#         self.atmos_vars_ds = atmos_vars_ds\n",
    "#         self.static_vars_ds = static_vars_ds\n",
    "#         self.sequence_length = sequence_length\n",
    "#         self.time_indices = range(sequence_length, len(surf_vars_ds.time))\n",
    "\n",
    "#     def __len__(self):\n",
    "#         return len(self.time_indices)\n",
    "\n",
    "#     def __getitem__(self, idx):\n",
    "#         i = self.time_indices[idx]\n",
    "#         time_slice = slice(i - self.sequence_length, i)\n",
    "\n",
    "#         surf_vars = {\n",
    "#             \"2t\": torch.from_numpy(self.surf_vars_ds[\"2m_temperature\"].isel(time=time_slice).values[None]),\n",
    "#             \"10u\": torch.from_numpy(self.surf_vars_ds[\"10m_u_component_of_wind\"].isel(time=time_slice).values[None]),\n",
    "#             \"10v\": torch.from_numpy(self.surf_vars_ds[\"10m_v_component_of_wind\"].isel(time=time_slice).values[None]),\n",
    "#             \"msl\": torch.from_numpy(self.surf_vars_ds[\"mean_sea_level_pressure\"].isel(time=time_slice).values[None]),\n",
    "#         }\n",
    "\n",
    "#         static_vars = {\n",
    "#             \"z\": torch.from_numpy(self.static_vars_ds[\"geopotential_at_surface\"].values),\n",
    "#             \"slt\": torch.from_numpy(self.static_vars_ds[\"soil_type\"].values),\n",
    "#             \"lsm\": torch.from_numpy(self.static_vars_ds[\"land_sea_mask\"].values),\n",
    "#         }\n",
    "\n",
    "#         atmos_vars = {\n",
    "#             \"t\": torch.from_numpy(self.atmos_vars_ds[\"temperature\"].isel(time=time_slice).values[None]),\n",
    "#             \"u\": torch.from_numpy(self.atmos_vars_ds[\"u_component_of_wind\"].isel(time=time_slice).values[None]),\n",
    "#             \"v\": torch.from_numpy(self.atmos_vars_ds[\"v_component_of_wind\"].isel(time=time_slice).values[None]),\n",
    "#             \"q\": torch.from_numpy(self.atmos_vars_ds[\"specific_humidity\"].isel(time=time_slice).values[None]),\n",
    "#             \"z\": torch.from_numpy(self.atmos_vars_ds[\"geopotential\"].isel(time=time_slice).values[None]),\n",
    "#         }\n",
    "\n",
    "#         metadata = Metadata(\n",
    "#             lat=torch.from_numpy(self.surf_vars_ds.latitude.values),\n",
    "#             lon=torch.from_numpy(self.surf_vars_ds.longitude.values),\n",
    "#             time=tuple(self.surf_vars_ds.time.isel(time=time_slice).values.astype(\"datetime64[s]\").tolist(),),\n",
    "#             atmos_levels=tuple(int(level) for level in self.atmos_vars_ds.level.values),\n",
    "#         )\n",
    "\n",
    "#         return Batch(surf_vars=surf_vars, static_vars=static_vars, atmos_vars=atmos_vars, metadata=metadata)\n"
   ]
  },
  {
   "cell_type": "markdown",
   "metadata": {},
   "source": []
  },
  {
   "cell_type": "code",
   "execution_count": 18,
   "metadata": {},
   "outputs": [],
   "source": [
    "world_batches = ERA5ZarrDataset(surf_vars_ds, atmos_vars_ds, static_vars_ds,0)"
   ]
  },
  {
   "cell_type": "code",
   "execution_count": 19,
   "metadata": {},
   "outputs": [],
   "source": [
    "# world_batches"
   ]
  },
  {
   "cell_type": "markdown",
   "metadata": {},
   "source": [
    "### South Africa Data"
   ]
  },
  {
   "cell_type": "code",
   "execution_count": 20,
   "metadata": {},
   "outputs": [],
   "source": [
    "# sa_area = [\n",
    "#     -22.12,  # North latitude\n",
    "#     15.125,   # West longitude\n",
    "#     -37.875,  # South latitude\n",
    "#     34.875    # East longitude\n",
    "# ]\n",
    "\n",
    "# lat_min, lon_min, lat_max, lon_max = sa_area"
   ]
  },
  {
   "cell_type": "code",
   "execution_count": 21,
   "metadata": {},
   "outputs": [],
   "source": [
    "start_time = '2022-01-01'\n",
    "end_time = '2023-01-31'\n",
    "data_inner_steps = 6  # process every 6th hour\n",
    "\n",
    "# Adjusted latitude and longitude to get exactly 64 x 80 grid points\n",
    "lat_max = -22.00  # Keep latitude unchanged (64 rows are correct)\n",
    "lat_min = -37.75  # Keep latitude unchanged\n",
    "\n",
    "lon_min = 15.25   # Keep longitude start the same\n",
    "lon_max = 35.00   # Increase longitude slightly to add 1 extra column\n",
    "\n",
    "sliced_era5_SA = (\n",
    "    full_era5\n",
    "    .sel(\n",
    "        time=slice(start_time, end_time, data_inner_steps),\n",
    "        latitude=slice(lat_max, lat_min),\n",
    "        longitude=slice(lon_min, lon_max)  # Expanding max longitude\n",
    "    )\n",
    ")\n"
   ]
  },
  {
   "cell_type": "code",
   "execution_count": 22,
   "metadata": {},
   "outputs": [],
   "source": [
    "surf_vars_ds_SA = sliced_era5_SA[surface_vars]\n",
    "atmos_vars_ds_SA = sliced_era5_SA[atmostpheric_variables]\n",
    "static_vars_ds_SA = sliced_era5_SA[static_variables]"
   ]
  },
  {
   "cell_type": "code",
   "execution_count": 23,
   "metadata": {},
   "outputs": [],
   "source": [
    "SA_batches = ERA5ZarrDataset(surf_vars_ds_SA, atmos_vars_ds_SA, static_vars_ds_SA,0)"
   ]
  },
  {
   "cell_type": "markdown",
   "metadata": {},
   "source": [
    "## Predictions Function"
   ]
  },
  {
   "cell_type": "code",
   "execution_count": 24,
   "metadata": {},
   "outputs": [],
   "source": [
    "def predict_fn(model, batch):\n",
    "    model.eval()\n",
    "    model = model.to(\"cuda\")\n",
    "    batch = batch.to(\"cuda\")\n",
    "    with torch.inference_mode():\n",
    "        preds = [pred.to(\"cpu\") for pred in rollout(model, batch, steps=2)]\n",
    "\n",
    "    model = model.to(\"cpu\")\n",
    "    batch = batch.to(\"cpu\")\n",
    "    return preds"
   ]
  },
  {
   "cell_type": "markdown",
   "metadata": {},
   "source": [
    "# RMSEs World dataset"
   ]
  },
  {
   "cell_type": "code",
   "execution_count": 25,
   "metadata": {},
   "outputs": [],
   "source": [
    "def rmse_fn(model, actual_batch, var_name, var_type=\"surface\", atmos_level_idx=0):\n",
    "    predictions = predict_fn(model, batch=actual_batch)\n",
    "    two_steps_rmse = []\n",
    "    pred_dates = []\n",
    "    print(actual.shape, prediction.shape)\n",
    "    for i in range(len(predictions)):\n",
    "        pred = predictions[i]\n",
    "        if var_type==\"surface\":\n",
    "            prediction = pred.surf_vars[var_name][0, 0].numpy()\n",
    "            actual = actual_batch.surf_vars[var_name][0, 0].numpy()[:-1, :]\n",
    "            \n",
    "            rmse = root_mean_squared_error(actual.flatten(), prediction.flatten())\n",
    "            two_steps_rmse.append(rmse)\n",
    "            pred_dates.append(pred.metadata.time[0])\n",
    "        # Atmospherique variable\n",
    "        elif var_type==\"atmosphere\":\n",
    "            prediction = pred.atmos_vars[var_name].squeeze()[atmos_level_idx,:,:].numpy().squeeze()\n",
    "            actual = actual_batch.atmos_vars[var_name].squeeze()[i,atmos_level_idx,:,:].numpy()[:-1,:]\n",
    "            rmse = root_mean_squared_error(actual.flatten(), prediction.flatten())\n",
    "            two_steps_rmse.append(rmse)\n",
    "            pred_dates.append(pred.metadata.time[0])\n",
    "    return two_steps_rmse, pred_dates"
   ]
  },
  {
   "cell_type": "markdown",
   "metadata": {},
   "source": [
    "# RMSEs South Africa dataset"
   ]
  },
  {
   "cell_type": "code",
   "execution_count": 26,
   "metadata": {},
   "outputs": [],
   "source": [
    "def rmse_fn_sa(model, actual_batch, var_name, var_type=\"surface\",  atmos_level_idx=0):\n",
    "    predictions = predict_fn(model, batch=actual_batch)\n",
    "    two_steps_rmse = []\n",
    "    pred_dates = []\n",
    "    for i in range(len(predictions)):\n",
    "        pred = predictions[i]\n",
    "        if var_type==\"surface\":\n",
    "            prediction = pred.surf_vars[var_name][0, 0].numpy()\n",
    "            actual = actual_batch.surf_vars[var_name][0, 0].numpy()\n",
    "            rmse = root_mean_squared_error(actual.flatten(), prediction.flatten())\n",
    "            two_steps_rmse.append(rmse)\n",
    "            pred_dates.append(pred.metadata.time[0])\n",
    "        elif var_type==\"atmosphere\":\n",
    "            prediction = pred.atmos_vars[var_name].squeeze()[atmos_level_idx,:,:].numpy().squeeze()\n",
    "            actual = actual_batch.atmos_vars[var_name].squeeze()[i,atmos_level_idx,:,:].numpy()\n",
    "            rmse = root_mean_squared_error(actual.flatten(), prediction.flatten())\n",
    "            two_steps_rmse.append(rmse)\n",
    "            pred_dates.append(pred.metadata.time[0])\n",
    "    return two_steps_rmse, pred_dates"
   ]
  },
  {
   "cell_type": "markdown",
   "metadata": {},
   "source": [
    "# PLot RMSES"
   ]
  },
  {
   "cell_type": "code",
   "execution_count": 27,
   "metadata": {},
   "outputs": [],
   "source": [
    "# def plot_rmses(rmses_world, rmses_sa, \n",
    "#             figsize=(12, 8), fontsize=18,\n",
    "#             alpha=0.2, date_ranges=None, \n",
    "#             title=\"Two steps forward prediction: RMSES\"):\n",
    "\n",
    "#       fig, ax = plt.subplots(figsize=figsize, dpi=1000)\n",
    "\n",
    "#       ax.plot(np.array(rmses_world)[:,0], label=\"World first time step prediction\")\n",
    "#       ax.plot(np.array(rmses_sa)[:,0], label=\"South Africa first time step prediction\")\n",
    "#       ax.plot(np.array(rmses_world)[:,1], label=\"World second time step prediction\")\n",
    "#       ax.plot(np.array(rmses_sa)[:,1], label=\"Soth Africa second time step prediction\")\n",
    "      \n",
    "#       date_times = [dt for pair in date_ranges for dt in pair]\n",
    "\n",
    "#       formatted_dates = [\n",
    "#       f\"{dt.strftime('%Y-%m-%d')} ({dt.strftime('%H:%M')})\"\n",
    "#       for dt in date_times\n",
    "#       ]\n",
    "#       ax.set_xticks(formatted_dates, rotation=30, ha='right')\n",
    "\n",
    "#       ax.legend(\n",
    "#             title=\"RMSES\\n\", title_fontsize=fontsize, markerscale=20,\n",
    "#             bbox_to_anchor=(1.06, 0.8), loc=\"center left\" , frameon=False\n",
    "#                               )\n",
    "\n",
    "\n",
    "#       ax.set_xlabel(\"Dates\")\n",
    "#       ax.set_ylabel(\"RMSEs\")\n",
    "#       ax.set_title(title, fontsize=fontsize, pad=20)\n",
    "#       print('\\n\\n') ; plt.show()\n",
    "\n"
   ]
  },
  {
   "cell_type": "code",
   "execution_count": 27,
   "metadata": {},
   "outputs": [],
   "source": [
    "\n",
    "def plot_rmses(variable, rmses_world, rmses_sa, \n",
    "               figsize=(12, 8), fontsize=18,\n",
    "               alpha=0.2, date_ranges=None, \n",
    "               title=\"Two steps forward prediction: RMSEs\",\n",
    "               save_path=\"../report/rmses_world_SA\"):\n",
    "\n",
    "    fig, ax = plt.subplots(figsize=figsize, dpi=1000)\n",
    "\n",
    "    # Extract dates\n",
    "    date_times_6_hours = [date1 for date1, date2 in date_ranges]\n",
    "    date_times_12_hours = [date2 for date1, date2 in date_ranges]\n",
    "    formatted_dates_6_hours = [dt.strftime('%Y-%m-%d (%H:%M)') for dt in date_times_6_hours]\n",
    "    formatted_dates_12_hours = [dt.strftime('%Y-%m-%d (%H:%M)') for dt in date_times_12_hours]\n",
    "\n",
    "    # Convert x-axis to indices\n",
    "    x_indices = np.arange(len(formatted_dates_6_hours))\n",
    "\n",
    "    # Select a subset of dates for x-axis labels\n",
    "    num_ticks = min(6, len(formatted_dates_6_hours))  # Show max 6 ticks\n",
    "    tick_positions = np.linspace(0, len(formatted_dates_6_hours) - 1, num_ticks, dtype=int)\n",
    "\n",
    "    ax.plot(x_indices, np.array(rmses_world)[:,0], label=\"World 6 hours forward prediction\")\n",
    "    ax.plot(x_indices, np.array(rmses_sa)[:,0], label=\"South Africa 6 hours forward prediction\")\n",
    "    ax.plot(x_indices, np.array(rmses_world)[:,1], label=\"World 12 hours forward prediction\")\n",
    "    ax.plot(x_indices, np.array(rmses_sa)[:,1], label=\"South Africa 12 hours forward prediction\")\n",
    "\n",
    "    # Set selected x-ticks\n",
    "    ax.set_xticks(tick_positions)\n",
    "    ax.set_xticklabels([formatted_dates_6_hours[i] for i in tick_positions], rotation=30, ha='right')\n",
    "\n",
    "    ax.legend(\n",
    "    title=\"RMSEs\\n\", title_fontsize=fontsize, markerscale=1.5,\n",
    "    bbox_to_anchor=(0.98, 0.98), loc=\"upper left\", frameon=False\n",
    ")\n",
    "\n",
    "    ax.set_xlabel(\"Dates\")\n",
    "    ax.set_ylabel(\"RMSEs\")\n",
    "    ax.set_title(title, fontsize=fontsize, pad=20)\n",
    "    \n",
    "    plt.savefig(f\"{save_path}/rmse-{variable}.pdf\")\n",
    "    plt.savefig(f\"{save_path}/rmse-{variable}.png\")\n",
    "    plt.savefig(f\"{save_path}/rmse-{variable}.svg\")\n",
    "\n",
    "    plt.show()\n"
   ]
  },
  {
   "cell_type": "code",
   "execution_count": 28,
   "metadata": {},
   "outputs": [],
   "source": [
    "\n",
    "def plot_rmses(variable, rmses_world, rmses_sa, \n",
    "               figsize=(12, 8), fontsize=18,\n",
    "               date_ranges=None, \n",
    "               title=\"Two Steps Forward Prediction: RMSEs\",\n",
    "               save_path=\"../report/rmses_world_SA\"):\n",
    "\n",
    "    fig, ax = plt.subplots(figsize=figsize, dpi=300)\n",
    "\n",
    "    # Extract dates\n",
    "    date_times_6_hours = [date1 for date1, date2 in date_ranges]\n",
    "    date_times_12_hours = [date2 for date1, date2 in date_ranges]\n",
    "    formatted_dates_6_hours = [dt.strftime('%Y-%m-%d (%H:%M)') for dt in date_times_6_hours]\n",
    "    formatted_dates_12_hours = [dt.strftime('%Y-%m-%d (%H:%M)') for dt in date_times_12_hours]\n",
    "\n",
    "    # Convert x-axis to indices\n",
    "    x_indices = np.arange(len(formatted_dates_6_hours))\n",
    "\n",
    "    # Select a subset of dates for x-axis labels\n",
    "    num_ticks = min(6, len(formatted_dates_6_hours))\n",
    "    tick_positions = np.linspace(0, len(formatted_dates_6_hours) - 1, num_ticks, dtype=int)\n",
    "\n",
    "    # Plot RMSEs with improved colors and styles\n",
    "    ax.plot(x_indices, np.array(rmses_world)[:, 0], label=\"Global RMSE (6h Forecast)\", color=\"blue\", linestyle=\"-\", linewidth=2)\n",
    "    ax.plot(x_indices, np.array(rmses_sa)[:, 0], label=\"South Africa RMSE (6h Forecast)\", color=\"orange\", linestyle=\"-\", linewidth=2)\n",
    "    ax.plot(x_indices, np.array(rmses_world)[:, 1], label=\"Global RMSE (12h Forecast)\", color=\"blue\", linestyle=\"--\", linewidth=2)\n",
    "    ax.plot(x_indices, np.array(rmses_sa)[:, 1], label=\"South Africa RMSE (12h Forecast)\", color=\"orange\", linestyle=\"--\", linewidth=2)\n",
    "\n",
    "    # Set selected x-ticks\n",
    "    ax.set_xticks(tick_positions)\n",
    "    ax.set_xticklabels([formatted_dates_12_hours[i] for i in tick_positions], rotation=30, ha='right')\n",
    "\n",
    "    # Improve legend appearance\n",
    "    ax.legend(title=\"Forecast Horizon\", title_fontsize=fontsize-2, fontsize=fontsize-4,\n",
    "              bbox_to_anchor=(1.05, 1), loc=\"upper left\", frameon=False)\n",
    "\n",
    "    # Improve axis labels and title\n",
    "    ax.set_xlabel(\"Forecast Date\", fontsize=fontsize-2)\n",
    "    ax.set_ylabel(\"Root Mean Squared Error (RMSE)\", fontsize=fontsize-2)\n",
    "    ax.set_title(title, fontsize=fontsize, pad=20)\n",
    "\n",
    "    # Save the plots\n",
    "    plt.savefig(f\"{save_path}/rmse-{variable}.pdf\", bbox_inches=\"tight\")\n",
    "    plt.savefig(f\"{save_path}/rmse-{variable}.png\", bbox_inches=\"tight\", dpi=300)\n",
    "    plt.savefig(f\"{save_path}/rmse-{variable}.svg\", bbox_inches=\"tight\")\n",
    "\n",
    "    plt.show()\n"
   ]
  },
  {
   "cell_type": "code",
   "execution_count": 30,
   "metadata": {},
   "outputs": [],
   "source": [
    "# data = iter(world_batches)"
   ]
  },
  {
   "cell_type": "code",
   "execution_count": 31,
   "metadata": {},
   "outputs": [],
   "source": [
    "# data0 = next(data)"
   ]
  },
  {
   "cell_type": "code",
   "execution_count": 32,
   "metadata": {},
   "outputs": [],
   "source": [
    "# data0.atmos_vars[\"t\"].squeeze()[0,0,:,:].numpy()[:-1,:].shape"
   ]
  },
  {
   "cell_type": "code",
   "execution_count": 33,
   "metadata": {},
   "outputs": [],
   "source": [
    "# data0.static_vars[\"lsm\"].shape"
   ]
  },
  {
   "cell_type": "code",
   "execution_count": 34,
   "metadata": {},
   "outputs": [],
   "source": [
    "# data0.surf_vars[\"10v\"].shape"
   ]
  },
  {
   "cell_type": "code",
   "execution_count": 35,
   "metadata": {},
   "outputs": [],
   "source": [
    "# data0.surf_vars[\"2t\"].shape"
   ]
  },
  {
   "cell_type": "code",
   "execution_count": 21,
   "metadata": {},
   "outputs": [],
   "source": []
  },
  {
   "cell_type": "code",
   "execution_count": 36,
   "metadata": {},
   "outputs": [],
   "source": [
    "# preds = predict_fn(model, data0)"
   ]
  },
  {
   "cell_type": "code",
   "execution_count": 37,
   "metadata": {},
   "outputs": [],
   "source": [
    "# preds[0].surf_vars[\"2t\"].shape"
   ]
  },
  {
   "cell_type": "code",
   "execution_count": 38,
   "metadata": {},
   "outputs": [],
   "source": [
    "# preds.surf_vars[\"10v\"][1,:,:,:].shape"
   ]
  },
  {
   "cell_type": "code",
   "execution_count": 39,
   "metadata": {},
   "outputs": [],
   "source": [
    "# data0.metadata.time"
   ]
  },
  {
   "cell_type": "code",
   "execution_count": 19,
   "metadata": {},
   "outputs": [],
   "source": []
  },
  {
   "cell_type": "markdown",
   "metadata": {},
   "source": [
    "# Surface Variables"
   ]
  },
  {
   "cell_type": "markdown",
   "metadata": {},
   "source": [
    "## Two-meter temperature in K: 2t"
   ]
  },
  {
   "cell_type": "code",
   "execution_count": 40,
   "metadata": {},
   "outputs": [],
   "source": [
    "# data0.surf_vars[\"2t\"][1].shape"
   ]
  },
  {
   "cell_type": "code",
   "execution_count": 29,
   "metadata": {},
   "outputs": [
    {
     "ename": "",
     "evalue": "",
     "output_type": "error",
     "traceback": [
      "\u001b[1;31mThe Kernel crashed while executing code in the current cell or a previous cell. \n",
      "\u001b[1;31mPlease review the code in the cell(s) to identify a possible cause of the failure. \n",
      "\u001b[1;31mClick <a href='https://aka.ms/vscodeJupyterKernelCrash'>here</a> for more info. \n",
      "\u001b[1;31mView Jupyter <a href='command:jupyter.viewOutput'>log</a> for further details."
     ]
    }
   ],
   "source": [
    "rmses_world_2t = []\n",
    "dates_world_2t = []\n",
    "\n",
    "for batch in world_batches:\n",
    "    rmse, date = rmse_fn(model, batch, \"2t\", var_type=\"surface\")\n",
    "    rmses_world_2t.append(rmse)\n",
    "    dates_world_2t.append(date)"
   ]
  },
  {
   "cell_type": "code",
   "execution_count": 33,
   "metadata": {},
   "outputs": [],
   "source": [
    "# plt.plot(np.array(rmses)[:,0], label=\"1\")\n",
    "# plt.plot(np.array(rmses)[:,1], label=\"2\")\n",
    "# plt.legend()"
   ]
  },
  {
   "cell_type": "code",
   "execution_count": 34,
   "metadata": {},
   "outputs": [],
   "source": [
    "# rmse_fn(model, data0, \"2t\")"
   ]
  },
  {
   "cell_type": "code",
   "execution_count": 35,
   "metadata": {},
   "outputs": [],
   "source": [
    "# i=0\n",
    "# for batch in world_batches:\n",
    "#    i+=1\n",
    "# i "
   ]
  },
  {
   "cell_type": "code",
   "execution_count": 23,
   "metadata": {},
   "outputs": [],
   "source": [
    "# data = iter(sa_batches)\n",
    "# data0 = next(data)"
   ]
  },
  {
   "cell_type": "code",
   "execution_count": 24,
   "metadata": {},
   "outputs": [],
   "source": [
    "# data0.surf_vars[\"2t\"].shape"
   ]
  },
  {
   "cell_type": "code",
   "execution_count": 26,
   "metadata": {},
   "outputs": [],
   "source": [
    "rmses_SA_2t = []\n",
    "dates_SA_2t = []\n",
    "for batch in SA_batches:\n",
    "    rmse, date = rmse_fn_sa(model, batch, \"2t\", var_type=\"surface\")\n",
    "    rmses_SA_2t.append(rmse)\n",
    "    dates_SA_2t.append(date)"
   ]
  },
  {
   "cell_type": "code",
   "execution_count": null,
   "metadata": {},
   "outputs": [],
   "source": [
    "# plt.plot(np.array(rmses)[:,0], label=\"w1\")\n",
    "# plt.plot(np.array(rmses)[:,1], label=\"w2\")\n",
    "# plt.plot(np.array(rmses_sa)[:,0], label=\"sa1\")\n",
    "# plt.plot(np.array(rmses_sa)[:,1], label=\"sa2\")\n",
    "# plt.legend()"
   ]
  },
  {
   "cell_type": "code",
   "execution_count": null,
   "metadata": {},
   "outputs": [],
   "source": [
    "# print(sliced_era5.latitude.shape, sliced_era5.longitude.shape)\n"
   ]
  },
  {
   "cell_type": "code",
   "execution_count": null,
   "metadata": {},
   "outputs": [],
   "source": [
    "plot_rmses(\"2t\",rmses_world_2t, rmses_SA_2t, \n",
    "            figsize=(12, 8), fontsize=18,\n",
    "            alpha=0.2, date_ranges=dates_world_2t, title=\"Temperature two steps forward prediction: RMSES\")"
   ]
  },
  {
   "cell_type": "markdown",
   "metadata": {},
   "source": [
    "## Ten-meter eastward wind speed in m/s :U10"
   ]
  },
  {
   "cell_type": "code",
   "execution_count": 66,
   "metadata": {},
   "outputs": [],
   "source": [
    "rmses_world_u10 = []\n",
    "dates_world_u10 = []\n",
    "for batch in world_batches:\n",
    "    rmse, date = rmse_fn(model, batch, \"10u\", var_type=\"surface\")\n",
    "    rmses_world_u10.append(rmse)\n",
    "    dates_world_u10.append(date)"
   ]
  },
  {
   "cell_type": "code",
   "execution_count": 67,
   "metadata": {},
   "outputs": [],
   "source": [
    "rmses_SA_u10 = []\n",
    "dates_SA_u10 = []\n",
    "for batch in SA_batches:\n",
    "    rmse, date = rmse_fn_sa(model, batch, \"10u\", var_type=\"surface\")\n",
    "    rmses_SA_u10.append(rmse)\n",
    "    dates_SA_u10.append(date)"
   ]
  },
  {
   "cell_type": "code",
   "execution_count": null,
   "metadata": {},
   "outputs": [],
   "source": [
    "plot_rmses(\"u10\",rmses_world_u10, rmses_SA_u10, \n",
    "            figsize=(12, 8), fontsize=18,\n",
    "            alpha=0.2, date_ranges=dates_world_u10, title=\"Ten-meter eastward wind speed two steps forward prediction: RMSES\")"
   ]
  },
  {
   "cell_type": "markdown",
   "metadata": {},
   "source": [
    "## Ten-meter southward wind speed in m/s: V10"
   ]
  },
  {
   "cell_type": "code",
   "execution_count": null,
   "metadata": {},
   "outputs": [],
   "source": [
    "rmses_world_v10 = []\n",
    "dates_world_v10 = []\n",
    "for batch in world_batches:\n",
    "    rmse, date = rmse_fn(model, batch, \"10v\", var_type=\"surface\")\n",
    "    rmses_world_v10.append(rmse)\n",
    "    dates_world_v10.append(date)"
   ]
  },
  {
   "cell_type": "code",
   "execution_count": 70,
   "metadata": {},
   "outputs": [],
   "source": [
    "rmses_SA_v10 = []\n",
    "dates_SA_v10 = []\n",
    "for batch in SA_batches:\n",
    "    rmse, date = rmse_fn_sa(model, batch, \"10v\", var_type=\"surface\")\n",
    "    rmses_SA_v10.append(rmse)\n",
    "    dates_SA_v10.append(date)"
   ]
  },
  {
   "cell_type": "code",
   "execution_count": null,
   "metadata": {},
   "outputs": [],
   "source": [
    "plot_rmses(\"v10\",rmses_world_v10, rmses_SA_v10, \n",
    "            figsize=(12, 8), fontsize=18,\n",
    "            alpha=0.2, date_ranges=dates_world_v10, title=\"Ten-meter southward wind speed two steps forward prediction: RMSES\")"
   ]
  },
  {
   "cell_type": "markdown",
   "metadata": {},
   "source": [
    "## Mean sea-level pressure in Pa :msl"
   ]
  },
  {
   "cell_type": "code",
   "execution_count": null,
   "metadata": {},
   "outputs": [],
   "source": [
    "rmses_world_msl = []\n",
    "dates_world_msl = []\n",
    "for batch in world_batches:\n",
    "    rmse, date = rmse_fn(model, batch, \"msl\", var_type=\"surface\")\n",
    "    rmses_world_msl.append(rmse)\n",
    "    dates_world_msl.append(date)"
   ]
  },
  {
   "cell_type": "code",
   "execution_count": null,
   "metadata": {},
   "outputs": [],
   "source": [
    "rmses_SA_msl = []\n",
    "dates_SA_msl = []\n",
    "for batch in SA_batches:\n",
    "    rmse, date = rmse_fn_sa(model, batch, \"msl\", var_type=\"surface\")\n",
    "    rmses_SA_msl.append(rmse)\n",
    "    dates_SA_msl.append(date)"
   ]
  },
  {
   "cell_type": "code",
   "execution_count": null,
   "metadata": {},
   "outputs": [],
   "source": [
    "plot_rmses(\"msl\",rmses_world_msl, rmses_SA_msl, \n",
    "            figsize=(12, 8), fontsize=18,\n",
    "            alpha=0.2, date_ranges=dates_world_msl, title=\"Mean sea-level pressure two steps forward prediction: RMSES\")"
   ]
  },
  {
   "cell_type": "markdown",
   "metadata": {},
   "source": [
    "# Atmosphere"
   ]
  },
  {
   "cell_type": "markdown",
   "metadata": {},
   "source": [
    "## Temperature in K : t"
   ]
  },
  {
   "cell_type": "markdown",
   "metadata": {},
   "source": [
    "### 50 hPa"
   ]
  },
  {
   "cell_type": "code",
   "execution_count": null,
   "metadata": {},
   "outputs": [],
   "source": [
    "rmses_world_t = []\n",
    "dates_world_t = []\n",
    "for batch in world_batches:\n",
    "    rmse, date = rmse_fn(model, batch, \"t\", var_type=\"atmosphere\", atmos_level_idx=0)\n",
    "    rmses_world_t.append(rmse)\n",
    "    dates_world_t.append(date)"
   ]
  },
  {
   "cell_type": "code",
   "execution_count": null,
   "metadata": {},
   "outputs": [],
   "source": [
    "rmses_SA_t = []\n",
    "dates_SA_t = []\n",
    "for batch in SA_batches:\n",
    "    rmse, date = rmse_fn_sa(model, batch, \"t\", var_type=\"atmosphere\", atmos_level_idx=0)\n",
    "    rmses_SA_t.append(rmse)\n",
    "    dates_SA_t.append(date)"
   ]
  },
  {
   "cell_type": "code",
   "execution_count": null,
   "metadata": {},
   "outputs": [],
   "source": [
    "plot_rmses(\"t\",rmses_world_t, rmses_SA_t, \n",
    "            figsize=(12, 8), fontsize=18,\n",
    "            alpha=0.2, date_ranges=dates_world_t, title=\"Temperature in K  two steps forward prediction: RMSES\")"
   ]
  },
  {
   "cell_type": "markdown",
   "metadata": {},
   "source": [
    "### 100 hPa"
   ]
  },
  {
   "cell_type": "code",
   "execution_count": null,
   "metadata": {},
   "outputs": [],
   "source": []
  },
  {
   "cell_type": "code",
   "execution_count": null,
   "metadata": {},
   "outputs": [],
   "source": []
  },
  {
   "cell_type": "markdown",
   "metadata": {},
   "source": [
    "### 150 hPa"
   ]
  },
  {
   "cell_type": "code",
   "execution_count": null,
   "metadata": {},
   "outputs": [],
   "source": []
  },
  {
   "cell_type": "markdown",
   "metadata": {},
   "source": [
    "### 200 hPa"
   ]
  },
  {
   "cell_type": "code",
   "execution_count": null,
   "metadata": {},
   "outputs": [],
   "source": []
  },
  {
   "cell_type": "markdown",
   "metadata": {},
   "source": [
    "### 250 hPa"
   ]
  },
  {
   "cell_type": "code",
   "execution_count": null,
   "metadata": {},
   "outputs": [],
   "source": []
  },
  {
   "cell_type": "markdown",
   "metadata": {},
   "source": [
    "### 300 hPa"
   ]
  },
  {
   "cell_type": "code",
   "execution_count": null,
   "metadata": {},
   "outputs": [],
   "source": []
  },
  {
   "cell_type": "markdown",
   "metadata": {},
   "source": [
    "### 400 hPa"
   ]
  },
  {
   "cell_type": "code",
   "execution_count": null,
   "metadata": {},
   "outputs": [],
   "source": []
  },
  {
   "cell_type": "markdown",
   "metadata": {},
   "source": [
    "### 500 hPa"
   ]
  },
  {
   "cell_type": "code",
   "execution_count": null,
   "metadata": {},
   "outputs": [],
   "source": []
  },
  {
   "cell_type": "markdown",
   "metadata": {},
   "source": [
    "### 600hPa"
   ]
  },
  {
   "cell_type": "code",
   "execution_count": null,
   "metadata": {},
   "outputs": [],
   "source": []
  },
  {
   "cell_type": "markdown",
   "metadata": {},
   "source": [
    "### 700 hPa"
   ]
  },
  {
   "cell_type": "code",
   "execution_count": null,
   "metadata": {},
   "outputs": [],
   "source": []
  },
  {
   "cell_type": "markdown",
   "metadata": {},
   "source": [
    "### 850 hPa"
   ]
  },
  {
   "cell_type": "code",
   "execution_count": null,
   "metadata": {},
   "outputs": [],
   "source": []
  },
  {
   "cell_type": "markdown",
   "metadata": {},
   "source": [
    "### 925 hPa"
   ]
  },
  {
   "cell_type": "code",
   "execution_count": null,
   "metadata": {},
   "outputs": [],
   "source": []
  },
  {
   "cell_type": "markdown",
   "metadata": {},
   "source": [
    "### 1000 hPa"
   ]
  },
  {
   "cell_type": "code",
   "execution_count": null,
   "metadata": {},
   "outputs": [],
   "source": []
  },
  {
   "cell_type": "markdown",
   "metadata": {},
   "source": [
    "## Eastward wind speed in m/s u"
   ]
  },
  {
   "cell_type": "markdown",
   "metadata": {},
   "source": [
    "### 50 hPa"
   ]
  },
  {
   "cell_type": "code",
   "execution_count": null,
   "metadata": {},
   "outputs": [],
   "source": []
  },
  {
   "cell_type": "code",
   "execution_count": null,
   "metadata": {},
   "outputs": [],
   "source": []
  },
  {
   "cell_type": "markdown",
   "metadata": {},
   "source": [
    "### 100 hPa"
   ]
  },
  {
   "cell_type": "code",
   "execution_count": null,
   "metadata": {},
   "outputs": [],
   "source": []
  },
  {
   "cell_type": "code",
   "execution_count": null,
   "metadata": {},
   "outputs": [],
   "source": []
  },
  {
   "cell_type": "markdown",
   "metadata": {},
   "source": [
    "### 150 hPa"
   ]
  },
  {
   "cell_type": "code",
   "execution_count": null,
   "metadata": {},
   "outputs": [],
   "source": []
  },
  {
   "cell_type": "markdown",
   "metadata": {},
   "source": [
    "### 200 hPa"
   ]
  },
  {
   "cell_type": "code",
   "execution_count": null,
   "metadata": {},
   "outputs": [],
   "source": []
  },
  {
   "cell_type": "markdown",
   "metadata": {},
   "source": [
    "### 250 hPa"
   ]
  },
  {
   "cell_type": "code",
   "execution_count": null,
   "metadata": {},
   "outputs": [],
   "source": []
  },
  {
   "cell_type": "markdown",
   "metadata": {},
   "source": [
    "### 300 hPa"
   ]
  },
  {
   "cell_type": "code",
   "execution_count": null,
   "metadata": {},
   "outputs": [],
   "source": []
  },
  {
   "cell_type": "markdown",
   "metadata": {},
   "source": [
    "### 400 hPa"
   ]
  },
  {
   "cell_type": "code",
   "execution_count": null,
   "metadata": {},
   "outputs": [],
   "source": []
  },
  {
   "cell_type": "markdown",
   "metadata": {},
   "source": [
    "### 500 hPa"
   ]
  },
  {
   "cell_type": "code",
   "execution_count": null,
   "metadata": {},
   "outputs": [],
   "source": []
  },
  {
   "cell_type": "markdown",
   "metadata": {},
   "source": [
    "### 600hPa"
   ]
  },
  {
   "cell_type": "code",
   "execution_count": null,
   "metadata": {},
   "outputs": [],
   "source": []
  },
  {
   "cell_type": "markdown",
   "metadata": {},
   "source": [
    "### 700 hPa"
   ]
  },
  {
   "cell_type": "code",
   "execution_count": null,
   "metadata": {},
   "outputs": [],
   "source": []
  },
  {
   "cell_type": "markdown",
   "metadata": {},
   "source": [
    "### 850 hPa"
   ]
  },
  {
   "cell_type": "code",
   "execution_count": null,
   "metadata": {},
   "outputs": [],
   "source": []
  },
  {
   "cell_type": "markdown",
   "metadata": {},
   "source": [
    "### 925 hPa"
   ]
  },
  {
   "cell_type": "code",
   "execution_count": null,
   "metadata": {},
   "outputs": [],
   "source": []
  },
  {
   "cell_type": "markdown",
   "metadata": {},
   "source": [
    "### 1000 hPa"
   ]
  },
  {
   "cell_type": "code",
   "execution_count": null,
   "metadata": {},
   "outputs": [],
   "source": []
  },
  {
   "cell_type": "code",
   "execution_count": null,
   "metadata": {},
   "outputs": [],
   "source": []
  },
  {
   "cell_type": "markdown",
   "metadata": {},
   "source": [
    "### Southward wind speed in m/s :v"
   ]
  },
  {
   "cell_type": "markdown",
   "metadata": {},
   "source": [
    "### 50 hPa"
   ]
  },
  {
   "cell_type": "code",
   "execution_count": null,
   "metadata": {},
   "outputs": [],
   "source": []
  },
  {
   "cell_type": "code",
   "execution_count": null,
   "metadata": {},
   "outputs": [],
   "source": []
  },
  {
   "cell_type": "markdown",
   "metadata": {},
   "source": [
    "### 100 hPa"
   ]
  },
  {
   "cell_type": "code",
   "execution_count": null,
   "metadata": {},
   "outputs": [],
   "source": []
  },
  {
   "cell_type": "code",
   "execution_count": null,
   "metadata": {},
   "outputs": [],
   "source": []
  },
  {
   "cell_type": "markdown",
   "metadata": {},
   "source": [
    "### 150 hPa"
   ]
  },
  {
   "cell_type": "code",
   "execution_count": null,
   "metadata": {},
   "outputs": [],
   "source": []
  },
  {
   "cell_type": "markdown",
   "metadata": {},
   "source": [
    "### 200 hPa"
   ]
  },
  {
   "cell_type": "code",
   "execution_count": null,
   "metadata": {},
   "outputs": [],
   "source": []
  },
  {
   "cell_type": "markdown",
   "metadata": {},
   "source": [
    "### 250 hPa"
   ]
  },
  {
   "cell_type": "code",
   "execution_count": null,
   "metadata": {},
   "outputs": [],
   "source": []
  },
  {
   "cell_type": "markdown",
   "metadata": {},
   "source": [
    "### 300 hPa"
   ]
  },
  {
   "cell_type": "code",
   "execution_count": null,
   "metadata": {},
   "outputs": [],
   "source": []
  },
  {
   "cell_type": "markdown",
   "metadata": {},
   "source": [
    "### 400 hPa"
   ]
  },
  {
   "cell_type": "code",
   "execution_count": null,
   "metadata": {},
   "outputs": [],
   "source": []
  },
  {
   "cell_type": "markdown",
   "metadata": {},
   "source": [
    "### 500 hPa"
   ]
  },
  {
   "cell_type": "code",
   "execution_count": null,
   "metadata": {},
   "outputs": [],
   "source": []
  },
  {
   "cell_type": "markdown",
   "metadata": {},
   "source": [
    "### 600hPa"
   ]
  },
  {
   "cell_type": "code",
   "execution_count": null,
   "metadata": {},
   "outputs": [],
   "source": []
  },
  {
   "cell_type": "markdown",
   "metadata": {},
   "source": [
    "### 700 hPa"
   ]
  },
  {
   "cell_type": "code",
   "execution_count": null,
   "metadata": {},
   "outputs": [],
   "source": []
  },
  {
   "cell_type": "markdown",
   "metadata": {},
   "source": [
    "### 850 hPa"
   ]
  },
  {
   "cell_type": "code",
   "execution_count": null,
   "metadata": {},
   "outputs": [],
   "source": []
  },
  {
   "cell_type": "markdown",
   "metadata": {},
   "source": [
    "### 925 hPa"
   ]
  },
  {
   "cell_type": "code",
   "execution_count": null,
   "metadata": {},
   "outputs": [],
   "source": []
  },
  {
   "cell_type": "markdown",
   "metadata": {},
   "source": [
    "### 1000 hPa"
   ]
  },
  {
   "cell_type": "code",
   "execution_count": null,
   "metadata": {},
   "outputs": [],
   "source": []
  },
  {
   "cell_type": "code",
   "execution_count": null,
   "metadata": {},
   "outputs": [],
   "source": []
  },
  {
   "cell_type": "markdown",
   "metadata": {},
   "source": [
    "### 50 hPa"
   ]
  },
  {
   "cell_type": "code",
   "execution_count": null,
   "metadata": {},
   "outputs": [],
   "source": []
  },
  {
   "cell_type": "code",
   "execution_count": null,
   "metadata": {},
   "outputs": [],
   "source": []
  },
  {
   "cell_type": "markdown",
   "metadata": {},
   "source": [
    "### 100 hPa"
   ]
  },
  {
   "cell_type": "code",
   "execution_count": null,
   "metadata": {},
   "outputs": [],
   "source": []
  },
  {
   "cell_type": "code",
   "execution_count": null,
   "metadata": {},
   "outputs": [],
   "source": []
  },
  {
   "cell_type": "markdown",
   "metadata": {},
   "source": [
    "### 150 hPa"
   ]
  },
  {
   "cell_type": "code",
   "execution_count": null,
   "metadata": {},
   "outputs": [],
   "source": []
  },
  {
   "cell_type": "markdown",
   "metadata": {},
   "source": [
    "### 200 hPa"
   ]
  },
  {
   "cell_type": "code",
   "execution_count": null,
   "metadata": {},
   "outputs": [],
   "source": []
  },
  {
   "cell_type": "markdown",
   "metadata": {},
   "source": [
    "### 250 hPa"
   ]
  },
  {
   "cell_type": "code",
   "execution_count": null,
   "metadata": {},
   "outputs": [],
   "source": []
  },
  {
   "cell_type": "markdown",
   "metadata": {},
   "source": [
    "### 300 hPa"
   ]
  },
  {
   "cell_type": "code",
   "execution_count": null,
   "metadata": {},
   "outputs": [],
   "source": []
  },
  {
   "cell_type": "markdown",
   "metadata": {},
   "source": [
    "### 400 hPa"
   ]
  },
  {
   "cell_type": "code",
   "execution_count": null,
   "metadata": {},
   "outputs": [],
   "source": []
  },
  {
   "cell_type": "markdown",
   "metadata": {},
   "source": [
    "### 500 hPa"
   ]
  },
  {
   "cell_type": "code",
   "execution_count": null,
   "metadata": {},
   "outputs": [],
   "source": []
  },
  {
   "cell_type": "markdown",
   "metadata": {},
   "source": [
    "### 600hPa"
   ]
  },
  {
   "cell_type": "code",
   "execution_count": null,
   "metadata": {},
   "outputs": [],
   "source": []
  },
  {
   "cell_type": "markdown",
   "metadata": {},
   "source": [
    "### 700 hPa"
   ]
  },
  {
   "cell_type": "code",
   "execution_count": null,
   "metadata": {},
   "outputs": [],
   "source": []
  },
  {
   "cell_type": "markdown",
   "metadata": {},
   "source": [
    "### 850 hPa"
   ]
  },
  {
   "cell_type": "code",
   "execution_count": null,
   "metadata": {},
   "outputs": [],
   "source": []
  },
  {
   "cell_type": "markdown",
   "metadata": {},
   "source": [
    "### 925 hPa"
   ]
  },
  {
   "cell_type": "code",
   "execution_count": null,
   "metadata": {},
   "outputs": [],
   "source": []
  },
  {
   "cell_type": "markdown",
   "metadata": {},
   "source": [
    "### 1000 hPa"
   ]
  },
  {
   "cell_type": "code",
   "execution_count": null,
   "metadata": {},
   "outputs": [],
   "source": []
  },
  {
   "cell_type": "markdown",
   "metadata": {},
   "source": [
    "### Specific humidity in kg / kg: q"
   ]
  },
  {
   "cell_type": "markdown",
   "metadata": {},
   "source": [
    "### 50 hPa"
   ]
  },
  {
   "cell_type": "code",
   "execution_count": null,
   "metadata": {},
   "outputs": [],
   "source": []
  },
  {
   "cell_type": "code",
   "execution_count": null,
   "metadata": {},
   "outputs": [],
   "source": []
  },
  {
   "cell_type": "markdown",
   "metadata": {},
   "source": [
    "### 100 hPa"
   ]
  },
  {
   "cell_type": "code",
   "execution_count": null,
   "metadata": {},
   "outputs": [],
   "source": []
  },
  {
   "cell_type": "code",
   "execution_count": null,
   "metadata": {},
   "outputs": [],
   "source": []
  },
  {
   "cell_type": "markdown",
   "metadata": {},
   "source": [
    "### 150 hPa"
   ]
  },
  {
   "cell_type": "code",
   "execution_count": null,
   "metadata": {},
   "outputs": [],
   "source": []
  },
  {
   "cell_type": "markdown",
   "metadata": {},
   "source": [
    "### 200 hPa"
   ]
  },
  {
   "cell_type": "code",
   "execution_count": null,
   "metadata": {},
   "outputs": [],
   "source": []
  },
  {
   "cell_type": "markdown",
   "metadata": {},
   "source": [
    "### 250 hPa"
   ]
  },
  {
   "cell_type": "code",
   "execution_count": null,
   "metadata": {},
   "outputs": [],
   "source": []
  },
  {
   "cell_type": "markdown",
   "metadata": {},
   "source": [
    "### 300 hPa"
   ]
  },
  {
   "cell_type": "code",
   "execution_count": null,
   "metadata": {},
   "outputs": [],
   "source": []
  },
  {
   "cell_type": "markdown",
   "metadata": {},
   "source": [
    "### 400 hPa"
   ]
  },
  {
   "cell_type": "code",
   "execution_count": null,
   "metadata": {},
   "outputs": [],
   "source": []
  },
  {
   "cell_type": "markdown",
   "metadata": {},
   "source": [
    "### 500 hPa"
   ]
  },
  {
   "cell_type": "code",
   "execution_count": null,
   "metadata": {},
   "outputs": [],
   "source": []
  },
  {
   "cell_type": "markdown",
   "metadata": {},
   "source": [
    "### 600hPa"
   ]
  },
  {
   "cell_type": "code",
   "execution_count": null,
   "metadata": {},
   "outputs": [],
   "source": []
  },
  {
   "cell_type": "markdown",
   "metadata": {},
   "source": [
    "### 700 hPa"
   ]
  },
  {
   "cell_type": "code",
   "execution_count": null,
   "metadata": {},
   "outputs": [],
   "source": []
  },
  {
   "cell_type": "markdown",
   "metadata": {},
   "source": [
    "### 850 hPa"
   ]
  },
  {
   "cell_type": "code",
   "execution_count": null,
   "metadata": {},
   "outputs": [],
   "source": []
  },
  {
   "cell_type": "markdown",
   "metadata": {},
   "source": [
    "### 925 hPa"
   ]
  },
  {
   "cell_type": "code",
   "execution_count": null,
   "metadata": {},
   "outputs": [],
   "source": []
  },
  {
   "cell_type": "markdown",
   "metadata": {},
   "source": [
    "### 1000 hPa"
   ]
  },
  {
   "cell_type": "code",
   "execution_count": null,
   "metadata": {},
   "outputs": [],
   "source": []
  },
  {
   "cell_type": "code",
   "execution_count": null,
   "metadata": {},
   "outputs": [],
   "source": []
  },
  {
   "cell_type": "markdown",
   "metadata": {},
   "source": [
    "### Geopotential in m^2 / s^2 : z"
   ]
  },
  {
   "cell_type": "markdown",
   "metadata": {},
   "source": [
    "### 50 hPa"
   ]
  },
  {
   "cell_type": "code",
   "execution_count": null,
   "metadata": {},
   "outputs": [],
   "source": []
  },
  {
   "cell_type": "code",
   "execution_count": null,
   "metadata": {},
   "outputs": [],
   "source": []
  },
  {
   "cell_type": "markdown",
   "metadata": {},
   "source": [
    "### 100 hPa"
   ]
  },
  {
   "cell_type": "code",
   "execution_count": null,
   "metadata": {},
   "outputs": [],
   "source": []
  },
  {
   "cell_type": "code",
   "execution_count": null,
   "metadata": {},
   "outputs": [],
   "source": []
  },
  {
   "cell_type": "markdown",
   "metadata": {},
   "source": [
    "### 150 hPa"
   ]
  },
  {
   "cell_type": "code",
   "execution_count": null,
   "metadata": {},
   "outputs": [],
   "source": []
  },
  {
   "cell_type": "markdown",
   "metadata": {},
   "source": [
    "### 200 hPa"
   ]
  },
  {
   "cell_type": "code",
   "execution_count": null,
   "metadata": {},
   "outputs": [],
   "source": []
  },
  {
   "cell_type": "markdown",
   "metadata": {},
   "source": [
    "### 250 hPa"
   ]
  },
  {
   "cell_type": "code",
   "execution_count": null,
   "metadata": {},
   "outputs": [],
   "source": []
  },
  {
   "cell_type": "markdown",
   "metadata": {},
   "source": [
    "### 300 hPa"
   ]
  },
  {
   "cell_type": "code",
   "execution_count": null,
   "metadata": {},
   "outputs": [],
   "source": []
  },
  {
   "cell_type": "markdown",
   "metadata": {},
   "source": [
    "### 400 hPa"
   ]
  },
  {
   "cell_type": "code",
   "execution_count": null,
   "metadata": {},
   "outputs": [],
   "source": []
  },
  {
   "cell_type": "markdown",
   "metadata": {},
   "source": [
    "### 500 hPa"
   ]
  },
  {
   "cell_type": "code",
   "execution_count": null,
   "metadata": {},
   "outputs": [],
   "source": []
  },
  {
   "cell_type": "markdown",
   "metadata": {},
   "source": [
    "### 600hPa"
   ]
  },
  {
   "cell_type": "code",
   "execution_count": null,
   "metadata": {},
   "outputs": [],
   "source": []
  },
  {
   "cell_type": "markdown",
   "metadata": {},
   "source": [
    "### 700 hPa"
   ]
  },
  {
   "cell_type": "code",
   "execution_count": null,
   "metadata": {},
   "outputs": [],
   "source": []
  },
  {
   "cell_type": "markdown",
   "metadata": {},
   "source": [
    "### 850 hPa"
   ]
  },
  {
   "cell_type": "code",
   "execution_count": null,
   "metadata": {},
   "outputs": [],
   "source": []
  },
  {
   "cell_type": "markdown",
   "metadata": {},
   "source": [
    "### 925 hPa"
   ]
  },
  {
   "cell_type": "code",
   "execution_count": null,
   "metadata": {},
   "outputs": [],
   "source": []
  },
  {
   "cell_type": "markdown",
   "metadata": {},
   "source": [
    "### 1000 hPa"
   ]
  },
  {
   "cell_type": "code",
   "execution_count": null,
   "metadata": {},
   "outputs": [],
   "source": []
  },
  {
   "cell_type": "code",
   "execution_count": null,
   "metadata": {},
   "outputs": [],
   "source": []
  },
  {
   "cell_type": "code",
   "execution_count": null,
   "metadata": {},
   "outputs": [],
   "source": []
  }
 ],
 "metadata": {
  "kernelspec": {
   "display_name": "venv",
   "language": "python",
   "name": "python3"
  },
  "language_info": {
   "codemirror_mode": {
    "name": "ipython",
    "version": 3
   },
   "file_extension": ".py",
   "mimetype": "text/x-python",
   "name": "python",
   "nbconvert_exporter": "python",
   "pygments_lexer": "ipython3",
   "version": "3.10.15"
  }
 },
 "nbformat": 4,
 "nbformat_minor": 2
}
