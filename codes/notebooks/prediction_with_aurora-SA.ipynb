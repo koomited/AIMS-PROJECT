{
 "cells": [
  {
   "cell_type": "markdown",
   "metadata": {},
   "source": [
    "# Libraries"
   ]
  },
  {
   "cell_type": "code",
   "execution_count": 1,
   "metadata": {},
   "outputs": [
    {
     "name": "stderr",
     "output_type": "stream",
     "text": [
      "/home/koomi_aims_ac_za/koomi/research/venv/lib/python3.10/site-packages/tqdm/auto.py:21: TqdmWarning: IProgress not found. Please update jupyter and ipywidgets. See https://ipywidgets.readthedocs.io/en/stable/user_install.html\n",
      "  from .autonotebook import tqdm as notebook_tqdm\n"
     ]
    }
   ],
   "source": [
    "import xarray as xr\n",
    "from datetime import datetime\n",
    "\n",
    "import torch\n",
    "\n",
    "from aurora import AuroraSmall, Batch, Metadata, rollout\n",
    "import matplotlib.pyplot as plt\n",
    "\n",
    "from pathlib import Path\n",
    "\n",
    "import cdsapi\n",
    "import numpy as np\n",
    "from sklearn.metrics import root_mean_squared_error"
   ]
  },
  {
   "cell_type": "code",
   "execution_count": 10,
   "metadata": {},
   "outputs": [],
   "source": [
    "torch.cuda.empty_cache()\n",
    "import os\n",
    "os.environ[\"PYTORCH_CUDA_ALLOC_CONF\"] = \"max_split_size_mb:1024\"\n",
    "\n"
   ]
  },
  {
   "cell_type": "markdown",
   "metadata": {},
   "source": [
    "# Load the model"
   ]
  },
  {
   "cell_type": "code",
   "execution_count": 11,
   "metadata": {},
   "outputs": [
    {
     "data": {
      "text/plain": [
       "<All keys matched successfully>"
      ]
     },
     "execution_count": 11,
     "metadata": {},
     "output_type": "execute_result"
    }
   ],
   "source": [
    "model = AuroraSmall()\n",
    "\n",
    "model.load_state_dict(torch.load('model/aurora.pth'))"
   ]
  },
  {
   "cell_type": "markdown",
   "metadata": {},
   "source": [
    "# Download South Africa Data"
   ]
  },
  {
   "cell_type": "code",
   "execution_count": 4,
   "metadata": {},
   "outputs": [],
   "source": [
    "sa_area = [\n",
    "    -21.0,  # North latitude (adjusted slightly north of South Africa's northernmost point)\n",
    "    15.0,   # West longitude (adjusted slightly west of South Africa's westernmost point)\n",
    "    -36.0,  # South latitude (adjusted slightly south of South Africa's southernmost point)\n",
    "    34.0,   # East longitude (adjusted slightly east of South Africa's easternmost point)\n",
    "]\n"
   ]
  },
  {
   "cell_type": "code",
   "execution_count": 5,
   "metadata": {},
   "outputs": [],
   "source": [
    "sa_area = [\n",
    "    -22.125,  # North latitude\n",
    "    15.125,   # West longitude\n",
    "    -37.875,  # South latitude\n",
    "    34.875    # East longitude\n",
    "]"
   ]
  },
  {
   "cell_type": "code",
   "execution_count": 12,
   "metadata": {},
   "outputs": [],
   "source": [
    "# Data will be downloaded here.\n",
    "download_path = Path(\"data_sa\")"
   ]
  },
  {
   "cell_type": "code",
   "execution_count": null,
   "metadata": {},
   "outputs": [],
   "source": [
    "\n",
    "\n",
    "\n",
    "c = cdsapi.Client()\n",
    "\n",
    "download_path = download_path.expanduser()\n",
    "download_path.mkdir(parents=True, exist_ok=True)\n",
    "\n",
    "\n",
    "# Download the static variables for South Africa.\n",
    "if not (download_path / \"static.nc\").exists():\n",
    "    c.retrieve(\n",
    "        \"reanalysis-era5-single-levels\",\n",
    "        {\n",
    "            \"product_type\": \"reanalysis\",\n",
    "            \"variable\": [\n",
    "                \"geopotential\",\n",
    "                \"land_sea_mask\",\n",
    "                \"soil_type\",\n",
    "            ],\n",
    "            \"year\": \"2023\",\n",
    "            \"month\": \"01\",\n",
    "            \"day\": \"01\",\n",
    "            \"time\": \"00:00\",\n",
    "            \"format\": \"netcdf\",\n",
    "            \"area\": sa_area\n",
    "        },\n",
    "        str(download_path / \"static.nc\"),\n",
    "    )\n",
    "print(\"Static variables for South Africa downloaded!\")\n"
   ]
  },
  {
   "cell_type": "code",
   "execution_count": 47,
   "metadata": {},
   "outputs": [
    {
     "name": "stderr",
     "output_type": "stream",
     "text": [
      "2025-02-11 11:09:26,774 INFO Request ID is e9b503c7-63c5-46b8-9979-b2ba68c819b0\n"
     ]
    },
    {
     "name": "stderr",
     "output_type": "stream",
     "text": [
      "2025-02-11 11:09:28,618 INFO status has been updated to accepted\n",
      "2025-02-11 11:09:37,375 INFO status has been updated to running\n",
      "2025-02-11 11:09:50,530 INFO status has been updated to successful\n",
      "                                                                                       \r"
     ]
    },
    {
     "name": "stdout",
     "output_type": "stream",
     "text": [
      "Surface-level variables downloaded!\n"
     ]
    },
    {
     "name": "stderr",
     "output_type": "stream",
     "text": [
      "2025-02-11 11:09:51,257 INFO Request ID is c33238d8-32ce-4616-86c8-0503f4edac47\n",
      "2025-02-11 11:09:51,292 INFO status has been updated to accepted\n",
      "2025-02-11 11:09:59,721 INFO status has been updated to running\n",
      "2025-02-11 11:10:23,945 INFO status has been updated to successful\n",
      "                                                                                         "
     ]
    },
    {
     "name": "stdout",
     "output_type": "stream",
     "text": [
      "Atmospheric variables downloaded!\n"
     ]
    },
    {
     "name": "stderr",
     "output_type": "stream",
     "text": [
      "\r"
     ]
    }
   ],
   "source": [
    "\n",
    "# Download the surface-level variables.\n",
    "if not (download_path / \"2023-01-01-surface-level.nc\").exists():\n",
    "    c.retrieve(\n",
    "        \"reanalysis-era5-single-levels\",\n",
    "        {\n",
    "            \"product_type\": \"reanalysis\",\n",
    "            \"variable\": [\n",
    "                \"2m_temperature\",\n",
    "                \"10m_u_component_of_wind\",\n",
    "                \"10m_v_component_of_wind\",\n",
    "                \"mean_sea_level_pressure\",\n",
    "            ],\n",
    "            \"year\": \"2023\",\n",
    "            \"month\": \"01\",\n",
    "            \"day\": \"01\",\n",
    "            \"time\": [\"00:00\", \"06:00\", \"12:00\", \"18:00\"],\n",
    "            \"format\": \"netcdf\",\n",
    "             \"area\": sa_area\n",
    "        },\n",
    "        str(download_path / \"2023-01-01-surface-level.nc\"),\n",
    "    )\n",
    "print(\"Surface-level variables downloaded!\")\n",
    "\n",
    "# Download the atmospheric variables.\n",
    "if not (download_path / \"2023-01-01-atmospheric.nc\").exists():\n",
    "    c.retrieve(\n",
    "        \"reanalysis-era5-pressure-levels\",\n",
    "        {\n",
    "            \"product_type\": \"reanalysis\",\n",
    "            \"variable\": [\n",
    "                \"temperature\",\n",
    "                \"u_component_of_wind\",\n",
    "                \"v_component_of_wind\",\n",
    "                \"specific_humidity\",\n",
    "                \"geopotential\",\n",
    "            ],\n",
    "            \"pressure_level\": [\n",
    "                \"50\",\n",
    "                \"100\",\n",
    "                \"150\",\n",
    "                \"200\",\n",
    "                \"250\",\n",
    "                \"300\",\n",
    "                \"400\",\n",
    "                \"500\",\n",
    "                \"600\",\n",
    "                \"700\",\n",
    "                \"850\",\n",
    "                \"925\",\n",
    "                \"1000\",\n",
    "            ],\n",
    "            \"year\": \"2023\",\n",
    "            \"month\": \"01\",\n",
    "            \"day\": \"01\",\n",
    "            \"time\": [\"00:00\", \"06:00\", \"12:00\", \"18:00\"],\n",
    "            \"format\": \"netcdf\",\n",
    "             \"area\": sa_area\n",
    "        },\n",
    "        str(download_path / \"2023-01-01-atmospheric.nc\"),\n",
    "    )\n",
    "print(\"Atmospheric variables downloaded!\")"
   ]
  },
  {
   "cell_type": "markdown",
   "metadata": {},
   "source": [
    "# Preparing a batch"
   ]
  },
  {
   "cell_type": "code",
   "execution_count": 7,
   "metadata": {},
   "outputs": [],
   "source": []
  },
  {
   "cell_type": "code",
   "execution_count": 13,
   "metadata": {},
   "outputs": [],
   "source": [
    "static_vars_ds = xr.open_dataset(download_path / \"static.nc\", engine=\"netcdf4\")\n",
    "surf_vars_ds = xr.open_dataset(download_path / \"2023-01-01-surface-level.nc\", engine=\"netcdf4\")\n",
    "atmos_vars_ds = xr.open_dataset(download_path / \"2023-01-01-atmospheric.nc\", engine=\"netcdf4\")"
   ]
  },
  {
   "cell_type": "code",
   "execution_count": 49,
   "metadata": {},
   "outputs": [
    {
     "data": {
      "text/plain": [
       "torch.Size([2, 13, 64, 80])"
      ]
     },
     "execution_count": 49,
     "metadata": {},
     "output_type": "execute_result"
    }
   ],
   "source": [
    "# torch.from_numpy(surf_vars_ds[\"t2m\"].values[[1 - 1, 1]]).shape\n",
    "# torch.from_numpy(static_vars_ds[\"z\"].values[0]).shape\n",
    "# torch.from_numpy(atmos_vars_ds[\"t\"].values[[1 - 1, 1]]).shape\n"
   ]
  },
  {
   "cell_type": "code",
   "execution_count": 7,
   "metadata": {},
   "outputs": [],
   "source": [
    "# static_vars_ds.size()"
   ]
  },
  {
   "cell_type": "code",
   "execution_count": 6,
   "metadata": {},
   "outputs": [],
   "source": [
    "# torch.from_numpy(surf_vars_ds[\"t2m\"].values[[i - 1, i]][None]).size()"
   ]
  },
  {
   "cell_type": "code",
   "execution_count": 7,
   "metadata": {},
   "outputs": [],
   "source": [
    "# static_vars_ds.size()"
   ]
  },
  {
   "cell_type": "code",
   "execution_count": 11,
   "metadata": {},
   "outputs": [],
   "source": [
    "# p2d = (1,2, 1, 2)\n",
    "# # static_vars_ds = torch.nn.functional.pad(torch.from_numpy(surf_vars_ds[\"t2m\"].values[[i - 1, i]][None]), p2d, \"constant\", 0)\n",
    "\n",
    "# i = 1  # Select this time index in the downloaded data.\n",
    "\n",
    "# batch = Batch(\n",
    "#     surf_vars={\n",
    "#         # First select time points `i` and `i - 1`. Afterwards, `[None]` inserts a\n",
    "#         # batch dimension of size one.\n",
    "#         \"2t\": torch.nn.functional.pad(torch.from_numpy(surf_vars_ds[\"t2m\"].values[[i - 1, i]][None]), p2d, \"constant\", 0),\n",
    "#         \"10u\": torch.nn.functional.pad(torch.from_numpy(surf_vars_ds[\"u10\"].values[[i - 1, i]][None]), p2d, \"constant\", 0),\n",
    "#         \"10v\": torch.nn.functional.pad(torch.from_numpy(surf_vars_ds[\"v10\"].values[[i - 1, i]][None]), p2d, \"constant\", 0),\n",
    "#         \"msl\": torch.nn.functional.pad(torch.from_numpy(surf_vars_ds[\"msl\"].values[[i - 1, i]][None]), p2d, \"constant\", 0),\n",
    "#     },\n",
    "#     static_vars={\n",
    "#         # The static variables are constant, so we just get them for the first time.\n",
    "#         \"z\": torch.nn.functional.pad(torch.from_numpy(static_vars_ds[\"z\"].values[0]), p2d, \"constant\", 0),\n",
    "#         \"slt\": torch.nn.functional.pad(torch.from_numpy(static_vars_ds[\"slt\"].values[0]), p2d, \"constant\", 0),\n",
    "#         \"lsm\": torch.nn.functional.pad(torch.from_numpy(static_vars_ds[\"lsm\"].values[0]), p2d, \"constant\", 0),\n",
    "#     },\n",
    "#     atmos_vars={\n",
    "#         \"t\": torch.nn.functional.pad(torch.from_numpy(atmos_vars_ds[\"t\"].values[[i - 1, i]][None]), p2d, \"constant\", 0),\n",
    "#         \"u\": torch.nn.functional.pad(torch.from_numpy(atmos_vars_ds[\"u\"].values[[i - 1, i]][None]), p2d, \"constant\", 0),\n",
    "#         \"v\": torch.nn.functional.pad(torch.from_numpy(atmos_vars_ds[\"v\"].values[[i - 1, i]][None]), p2d, \"constant\", 0),\n",
    "#         \"q\": torch.nn.functional.pad(torch.from_numpy(atmos_vars_ds[\"q\"].values[[i - 1, i]][None]), p2d, \"constant\", 0),\n",
    "#         \"z\": torch.nn.functional.pad(torch.from_numpy(atmos_vars_ds[\"z\"].values[[i - 1, i]][None]), p2d, \"constant\", 0),\n",
    "#     },\n",
    "#     metadata=Metadata(\n",
    "#         lat=torch.from_numpy(np.append(surf_vars_ds.latitude.values, np.array([-36.25, -36.5, -36.75]))),\n",
    "#         lon=torch.from_numpy(np.append(surf_vars_ds.longitude.values, np.array([34.25, 34.5, 34.75]))),\n",
    "#         # Converting to `datetime64[s]` ensures that the output of `tolist()` gives\n",
    "#         # `datetime.datetime`s. Note that this needs to be a tuple of length one:\n",
    "#         # one value for every batch element.\n",
    "#         time=(surf_vars_ds.valid_time.values.astype(\"datetime64[s]\").tolist()[i],),\n",
    "#         atmos_levels=tuple(int(level) for level in atmos_vars_ds.pressure_level.values),\n",
    "#     ),\n",
    "# )"
   ]
  },
  {
   "cell_type": "code",
   "execution_count": 14,
   "metadata": {},
   "outputs": [],
   "source": [
    "\n",
    "i = 1  # Select this time index in the downloaded data.\n",
    "\n",
    "batch = Batch(\n",
    "    surf_vars={\n",
    "        # First select time points `i` and `i - 1`. Afterwards, `[None]` inserts a\n",
    "        # batch dimension of size one.\n",
    "        \"2t\": torch.from_numpy(surf_vars_ds[\"t2m\"].values[[i - 1, i]][None]),\n",
    "        \"10u\": torch.from_numpy(surf_vars_ds[\"u10\"].values[[i - 1, i]][None]),\n",
    "        \"10v\": torch.from_numpy(surf_vars_ds[\"v10\"].values[[i - 1, i]][None]),\n",
    "        \"msl\": torch.from_numpy(surf_vars_ds[\"msl\"].values[[i - 1, i]][None]),\n",
    "    },\n",
    "    static_vars={\n",
    "        # The static variables are constant, so we just get them for the first time.\n",
    "        \"z\": torch.from_numpy(static_vars_ds[\"z\"].values[0]),\n",
    "        \"slt\": torch.from_numpy(static_vars_ds[\"slt\"].values[0]),\n",
    "        \"lsm\": torch.from_numpy(static_vars_ds[\"lsm\"].values[0]),\n",
    "    },\n",
    "    atmos_vars={\n",
    "        \"t\": torch.from_numpy(atmos_vars_ds[\"t\"].values[[i - 1, i]][None]),\n",
    "        \"u\": torch.from_numpy(atmos_vars_ds[\"u\"].values[[i - 1, i]][None]),\n",
    "        \"v\": torch.from_numpy(atmos_vars_ds[\"v\"].values[[i - 1, i]][None]),\n",
    "        \"q\": torch.from_numpy(atmos_vars_ds[\"q\"].values[[i - 1, i]][None]),\n",
    "        \"z\": torch.from_numpy(atmos_vars_ds[\"z\"].values[[i - 1, i]][None]),\n",
    "    },\n",
    "    metadata=Metadata(\n",
    "        lat=torch.from_numpy(surf_vars_ds.latitude.values),\n",
    "        lon=torch.from_numpy(surf_vars_ds.longitude.values),\n",
    "        # Converting to `datetime64[s]` ensures that the output of `tolist()` gives\n",
    "        # `datetime.datetime`s. Note that this needs to be a tuple of length one:\n",
    "        # one value for every batch element.\n",
    "        time=(surf_vars_ds.valid_time.values.astype(\"datetime64[s]\").tolist()[i],),\n",
    "        atmos_levels=tuple(int(level) for level in atmos_vars_ds.pressure_level.values)\n",
    "    )\n",
    ")"
   ]
  },
  {
   "cell_type": "code",
   "execution_count": 9,
   "metadata": {},
   "outputs": [],
   "source": [
    "# torch.nn.functional.pad(torch.from_numpy(atmos_vars_ds[\"t\"].values[[i - 1, i]][None]), p2d, \"constant\", 0).shape"
   ]
  },
  {
   "cell_type": "code",
   "execution_count": 10,
   "metadata": {},
   "outputs": [],
   "source": [
    "# len(surf_vars_ds.latitude.values)"
   ]
  },
  {
   "cell_type": "code",
   "execution_count": 11,
   "metadata": {},
   "outputs": [],
   "source": [
    "# surf_vars_ds.longitude.values"
   ]
  },
  {
   "cell_type": "code",
   "execution_count": 12,
   "metadata": {},
   "outputs": [],
   "source": [
    "# np.append(surf_vars_ds.longitude.values, np.array([34.25, 34.5, 34.75]))"
   ]
  },
  {
   "cell_type": "code",
   "execution_count": 13,
   "metadata": {},
   "outputs": [],
   "source": [
    "# np.append(surf_vars_ds.latitude.values, np.array([-36.25, -36.5, -36.75]))"
   ]
  },
  {
   "cell_type": "code",
   "execution_count": 14,
   "metadata": {},
   "outputs": [],
   "source": [
    "# surf_vars_ds.latitude.values"
   ]
  },
  {
   "cell_type": "code",
   "execution_count": 15,
   "metadata": {},
   "outputs": [],
   "source": [
    "# batch.atmos_vars['t'].shape"
   ]
  },
  {
   "cell_type": "code",
   "execution_count": 16,
   "metadata": {},
   "outputs": [],
   "source": [
    "# 49%(49)"
   ]
  },
  {
   "cell_type": "markdown",
   "metadata": {},
   "source": [
    "# Running the model"
   ]
  },
  {
   "cell_type": "code",
   "execution_count": 14,
   "metadata": {},
   "outputs": [],
   "source": [
    "# batch.surf_vars[\"2t\"][:, 2, :, :]"
   ]
  },
  {
   "cell_type": "code",
   "execution_count": 15,
   "metadata": {},
   "outputs": [],
   "source": [
    "model.eval()\n",
    "model = model.to(\"cuda\")\n",
    "# model.patch_size = 5\n",
    "with torch.inference_mode():\n",
    "    preds = [pred.to(\"cpu\") for pred in rollout(model, batch, steps=2)]\n",
    "\n",
    "model = model.to(\"cpu\")"
   ]
  },
  {
   "cell_type": "code",
   "execution_count": 8,
   "metadata": {},
   "outputs": [
    {
     "data": {
      "text/plain": [
       "torch.Size([1, 2, 64, 80])"
      ]
     },
     "execution_count": 8,
     "metadata": {},
     "output_type": "execute_result"
    }
   ],
   "source": [
    "batch.surf_vars[\"2t\"].shape"
   ]
  },
  {
   "cell_type": "code",
   "execution_count": 9,
   "metadata": {},
   "outputs": [
    {
     "data": {
      "text/plain": [
       "torch.Size([64, 80])"
      ]
     },
     "execution_count": 9,
     "metadata": {},
     "output_type": "execute_result"
    }
   ],
   "source": [
    "preds[1].surf_vars[\"2t\"].squeeze().shape"
   ]
  },
  {
   "cell_type": "code",
   "execution_count": 18,
   "metadata": {},
   "outputs": [],
   "source": [
    "# batch.metadata.time"
   ]
  },
  {
   "cell_type": "markdown",
   "metadata": {},
   "source": [
    "# Functions"
   ]
  },
  {
   "cell_type": "code",
   "execution_count": 20,
   "metadata": {},
   "outputs": [],
   "source": [
    "def compute_rmse(predict_data, actual_data, var_type:str,\n",
    "                     pred_var_name:str, actual_var_name:str\n",
    "                     , atmos_level_idx=0):\n",
    "\n",
    "\n",
    "    for i in range(2):\n",
    "        pred = predict_data[i]\n",
    "        if var_type==\"surface\":\n",
    "            prediction = pred.surf_vars[pred_var_name][0, 0].numpy()\n",
    "            actual = actual_data[actual_var_name][1 + i].values\n",
    "            rmse = root_mean_squared_error(actual.squeeze(), prediction.squeeze() )\n",
    "            print(f\"RMSE: {rmse}\")\n",
    "        elif var_type==\"atmosphere\":\n",
    "            prediction = pred.atmos_vars[actual_var_name].squeeze()[atmos_level_idx,:,:].numpy().squeeze()\n",
    "            actual = actual_data[actual_var_name][i,atmos_level_idx,:,:].values\n",
    "            # print(prediction.shape, actual.shape)\n",
    "            rmse = root_mean_squared_error(actual.squeeze(), prediction.squeeze() )\n",
    "            print(f\"RMSE: {rmse}\")\n",
    "        "
   ]
  },
  {
   "cell_type": "code",
   "execution_count": 19,
   "metadata": {},
   "outputs": [],
   "source": [
    "# model.patch_size"
   ]
  },
  {
   "cell_type": "markdown",
   "metadata": {},
   "source": [
    "# Plot prediction"
   ]
  },
  {
   "cell_type": "markdown",
   "metadata": {},
   "source": [
    "## Surface variables"
   ]
  },
  {
   "cell_type": "markdown",
   "metadata": {},
   "source": [
    "### Two-meter temperature in K: 2t"
   ]
  },
  {
   "cell_type": "code",
   "execution_count": 11,
   "metadata": {},
   "outputs": [],
   "source": [
    "fig, ax = plt.subplots(2, 2, figsize=(10, 6.5), dpi=500)\n",
    "\n",
    "for i in range(ax.shape[0]):\n",
    "    pred = preds[i]\n",
    "    prediction = pred.surf_vars[\"2t\"][0, 0].numpy()\n",
    "    actual = surf_vars_ds[\"t2m\"][1 + i].values\n",
    "    rmse = root_mean_squared_error(actual.squeeze(), prediction.squeeze() )\n",
    "    print(f\"RMSE: {rmse}\")\n",
    "\n",
    "    ax[i, 0].imshow(pred.surf_vars[\"2t\"][0, 0].numpy() - 273.15, vmin=-50, vmax=50)\n",
    "    ax[i, 0].set_ylabel(str(pred.metadata.time[0]))\n",
    "    if i == 0:\n",
    "        ax[i, 0].set_title(\"Aurora Prediction\")\n",
    "    ax[i, 0].set_xticks([])\n",
    "    ax[i, 0].set_yticks([])\n",
    "\n",
    "    ax[i, 1].imshow(surf_vars_ds[\"t2m\"][1 + i].values - 273.15, vmin=-50, vmax=50)\n",
    "    if i == 0:\n",
    "        ax[i, 1].set_title(\"ERA5\")\n",
    "    ax[i, 1].set_xticks([])\n",
    "    ax[i, 1].set_yticks([])\n",
    "plt.tight_layout()\n",
    "plt.savefig(\"aurora-prediction-sa/aurora-prediction-t2m-sa.pdf\")\n",
    "plt.savefig(\"aurora-prediction-sa/aurora-prediction-t2m-sa.png\")"
   ]
  },
  {
   "cell_type": "markdown",
   "metadata": {},
   "source": [
    "### Ten-meter eastward wind speed in m/s :U10"
   ]
  },
  {
   "cell_type": "code",
   "execution_count": 33,
   "metadata": {},
   "outputs": [],
   "source": [
    "def plot_predictions(predict_data, actual_data, var_type:str,\n",
    "                     pred_var_name:str, actual_var_name:str, \n",
    "                     nrows:int=2, ncols:int=2,\n",
    "                     figsize=(10, 6.5), atmos_level_idx=0, \n",
    "                     save_path=\"aurora-prediction-sa\"):\n",
    "\n",
    "\n",
    "    fig, ax = plt.subplots(nrows, ncols, figsize=figsize, dpi=500)\n",
    "\n",
    "    for i in range(ax.shape[0]):\n",
    "        pred = predict_data[i]\n",
    "        if var_type==\"surface\":\n",
    "            ax[i, 0].imshow(pred.surf_vars[pred_var_name][0, 0].numpy())\n",
    "            actual = actual_data[actual_var_name][1 + i].values\n",
    "            prediction = pred.surf_vars[pred_var_name][0, 0].numpy()\n",
    "            print(f\"RMSE: {root_mean_squared_error(actual.flatten(), prediction.flatten()) }\")\n",
    "            \n",
    "        elif var_type==\"atmosphere\":\n",
    "            ax[i, 0].imshow(pred.atmos_vars[actual_var_name].squeeze()[atmos_level_idx,:,:].numpy())\n",
    "            actual = actual_data[actual_var_name][i,atmos_level_idx,:,:].values\n",
    "            prediction = pred.atmos_vars[actual_var_name].squeeze()[atmos_level_idx,:,:]\n",
    "            # print(actual.shape, prediction.shape)\n",
    "            print(f\"RMSE: {root_mean_squared_error(actual.flatten(), prediction.flatten()) }\")\n",
    "        elif var_type==\"static\":\n",
    "            ax[i, 0].imshow(pred.static_vars[pred_var_name].numpy())\n",
    "            \n",
    "        ax[i, 0].set_ylabel(str(pred.metadata.time[0]))\n",
    "        if i == 0:\n",
    "            ax[i, 0].set_title(\"Aurora Prediction\")\n",
    "        ax[i, 0].set_xticks([])\n",
    "        ax[i, 0].set_yticks([])\n",
    "        if var_type==\"atmosphere\":\n",
    "            ax[i, 1].imshow(actual_data[actual_var_name][i,atmos_level_idx,:,:].values)\n",
    "        elif var_type==\"static\":\n",
    "            ax[i, 1].imshow(actual_data[actual_var_name].squeeze().values)\n",
    "        else:\n",
    "            ax[i, 1].imshow(actual_data[actual_var_name][1 + i].values)\n",
    "        if i == 0:\n",
    "            ax[i, 1].set_title(\"ERA5\")\n",
    "        ax[i, 1].set_xticks([])\n",
    "        ax[i, 1].set_yticks([])\n",
    "\n",
    "    plt.tight_layout()#### 925 hPa\n",
    "    plt.savefig(f\"{save_path}/aurora-prediction-{actual_var_name}-sa.pdf\")\n",
    "    plt.savefig(f\"{save_path}/aurora-prediction-{actual_var_name}-sa.png\")\n",
    "    plt.show()"
   ]
  },
  {
   "cell_type": "code",
   "execution_count": null,
   "metadata": {},
   "outputs": [],
   "source": [
    "plot_predictions(predict_data=preds, actual_data=surf_vars_ds,\n",
    "                 var_type=\"surface\",pred_var_name=\"10u\",\n",
    "                 actual_var_name=\"u10\")"
   ]
  },
  {
   "cell_type": "markdown",
   "metadata": {},
   "source": [
    "###  Ten-meter southward wind speed in m/s: V10"
   ]
  },
  {
   "cell_type": "code",
   "execution_count": null,
   "metadata": {},
   "outputs": [],
   "source": [
    "plot_predictions(predict_data=preds, actual_data=surf_vars_ds,\n",
    "                 var_type=\"surface\",pred_var_name=\"10v\",\n",
    "                 actual_var_name=\"v10\")"
   ]
  },
  {
   "cell_type": "markdown",
   "metadata": {},
   "source": [
    "### Mean sea-level pressure in Pa :msl"
   ]
  },
  {
   "cell_type": "code",
   "execution_count": 36,
   "metadata": {},
   "outputs": [],
   "source": [
    "plot_predictions(predict_data=preds, actual_data=surf_vars_ds,\n",
    "                 var_type=\"surface\",pred_var_name=\"msl\",\n",
    "                 actual_var_name=\"msl\")"
   ]
  },
  {
   "cell_type": "markdown",
   "metadata": {},
   "source": [
    "## Atmosphere"
   ]
  },
  {
   "cell_type": "markdown",
   "metadata": {},
   "source": [
    "### Temperature in K : t"
   ]
  },
  {
   "cell_type": "code",
   "execution_count": 37,
   "metadata": {},
   "outputs": [],
   "source": [
    "# atmos_vars_ds[\"t\"][0, 0,:,:].shape"
   ]
  },
  {
   "cell_type": "markdown",
   "metadata": {},
   "source": [
    "#### 50 hPa"
   ]
  },
  {
   "cell_type": "code",
   "execution_count": null,
   "metadata": {},
   "outputs": [],
   "source": [
    "plot_predictions(predict_data=preds, actual_data=atmos_vars_ds,\n",
    "                 var_type=\"atmosphere\",pred_var_name=\"t\",\n",
    "                 actual_var_name=\"t\", atmos_level_idx=0)"
   ]
  },
  {
   "cell_type": "code",
   "execution_count": 21,
   "metadata": {},
   "outputs": [
    {
     "name": "stdout",
     "output_type": "stream",
     "text": [
      "RMSE: 4.578186988830566\n",
      "RMSE: 3.858746290206909\n"
     ]
    }
   ],
   "source": [
    "compute_rmse(predict_data=preds, actual_data=atmos_vars_ds,\n",
    "                 var_type=\"atmosphere\",pred_var_name=\"t\",\n",
    "                 actual_var_name=\"t\",  atmos_level_idx=0)"
   ]
  },
  {
   "cell_type": "markdown",
   "metadata": {},
   "source": [
    "#### 100 hPa"
   ]
  },
  {
   "cell_type": "code",
   "execution_count": null,
   "metadata": {},
   "outputs": [],
   "source": [
    "plot_predictions(predict_data=preds, actual_data=atmos_vars_ds,\n",
    "                 var_type=\"atmosphere\",pred_var_name=\"t\",\n",
    "                 actual_var_name=\"t\", atmos_level_idx=1)"
   ]
  },
  {
   "cell_type": "code",
   "execution_count": 22,
   "metadata": {},
   "outputs": [
    {
     "name": "stdout",
     "output_type": "stream",
     "text": [
      "RMSE: 4.224157810211182\n",
      "RMSE: 3.837404251098633\n"
     ]
    }
   ],
   "source": [
    "compute_rmse(predict_data=preds, actual_data=atmos_vars_ds,\n",
    "                 var_type=\"atmosphere\",pred_var_name=\"t\",\n",
    "                 actual_var_name=\"t\",  atmos_level_idx=1)"
   ]
  },
  {
   "cell_type": "markdown",
   "metadata": {},
   "source": [
    "#### 150 hPa"
   ]
  },
  {
   "cell_type": "code",
   "execution_count": 35,
   "metadata": {},
   "outputs": [
    {
     "name": "stdout",
     "output_type": "stream",
     "text": [
      "RMSE: 3.513018846511841\n",
      "RMSE: 3.897298812866211\n"
     ]
    }
   ],
   "source": [
    "compute_rmse(predict_data=preds, actual_data=atmos_vars_ds,\n",
    "                 var_type=\"atmosphere\",pred_var_name=\"t\",\n",
    "                 actual_var_name=\"t\",  atmos_level_idx=2)"
   ]
  },
  {
   "cell_type": "markdown",
   "metadata": {},
   "source": [
    "#### 200 hPa"
   ]
  },
  {
   "cell_type": "code",
   "execution_count": 36,
   "metadata": {},
   "outputs": [
    {
     "name": "stdout",
     "output_type": "stream",
     "text": [
      "RMSE: 0.8073528409004211\n",
      "RMSE: 1.0384626388549805\n"
     ]
    }
   ],
   "source": [
    "compute_rmse(predict_data=preds, actual_data=atmos_vars_ds,\n",
    "                 var_type=\"atmosphere\",pred_var_name=\"t\",\n",
    "                 actual_var_name=\"t\",  atmos_level_idx=3)"
   ]
  },
  {
   "cell_type": "markdown",
   "metadata": {},
   "source": [
    "#### 250 hPa"
   ]
  },
  {
   "cell_type": "code",
   "execution_count": 37,
   "metadata": {},
   "outputs": [
    {
     "name": "stdout",
     "output_type": "stream",
     "text": [
      "RMSE: 0.6138967275619507\n",
      "RMSE: 1.0199878215789795\n"
     ]
    }
   ],
   "source": [
    "compute_rmse(predict_data=preds, actual_data=atmos_vars_ds,\n",
    "                 var_type=\"atmosphere\",pred_var_name=\"t\",\n",
    "                 actual_var_name=\"t\",  atmos_level_idx=4)"
   ]
  },
  {
   "cell_type": "markdown",
   "metadata": {},
   "source": [
    "#### 300 hPa"
   ]
  },
  {
   "cell_type": "code",
   "execution_count": 38,
   "metadata": {},
   "outputs": [
    {
     "name": "stdout",
     "output_type": "stream",
     "text": [
      "RMSE: 0.970721423625946\n",
      "RMSE: 1.0191086530685425\n"
     ]
    }
   ],
   "source": [
    "compute_rmse(predict_data=preds, actual_data=atmos_vars_ds,\n",
    "                 var_type=\"atmosphere\",pred_var_name=\"t\",\n",
    "                 actual_var_name=\"t\",  atmos_level_idx=5)"
   ]
  },
  {
   "cell_type": "markdown",
   "metadata": {},
   "source": [
    "#### 400 hPa"
   ]
  },
  {
   "cell_type": "code",
   "execution_count": 39,
   "metadata": {},
   "outputs": [
    {
     "name": "stdout",
     "output_type": "stream",
     "text": [
      "RMSE: 1.0418033599853516\n",
      "RMSE: 0.6263337135314941\n"
     ]
    }
   ],
   "source": [
    "compute_rmse(predict_data=preds, actual_data=atmos_vars_ds,\n",
    "                 var_type=\"atmosphere\",pred_var_name=\"t\",\n",
    "                 actual_var_name=\"t\",  atmos_level_idx=6)"
   ]
  },
  {
   "cell_type": "markdown",
   "metadata": {},
   "source": [
    "#### 500 hPa"
   ]
  },
  {
   "cell_type": "code",
   "execution_count": 40,
   "metadata": {},
   "outputs": [
    {
     "name": "stdout",
     "output_type": "stream",
     "text": [
      "RMSE: 1.070984125137329\n",
      "RMSE: 0.7618333101272583\n"
     ]
    }
   ],
   "source": [
    "compute_rmse(predict_data=preds, actual_data=atmos_vars_ds,\n",
    "                 var_type=\"atmosphere\",pred_var_name=\"t\",\n",
    "                 actual_var_name=\"t\",  atmos_level_idx=7)"
   ]
  },
  {
   "cell_type": "markdown",
   "metadata": {},
   "source": [
    "#### 600hPa"
   ]
  },
  {
   "cell_type": "code",
   "execution_count": 41,
   "metadata": {},
   "outputs": [
    {
     "name": "stdout",
     "output_type": "stream",
     "text": [
      "RMSE: 0.8289688229560852\n",
      "RMSE: 0.844855785369873\n"
     ]
    }
   ],
   "source": [
    "compute_rmse(predict_data=preds, actual_data=atmos_vars_ds,\n",
    "                 var_type=\"atmosphere\",pred_var_name=\"t\",\n",
    "                 actual_var_name=\"t\",  atmos_level_idx=8)"
   ]
  },
  {
   "cell_type": "markdown",
   "metadata": {},
   "source": [
    "#### 700 hPa"
   ]
  },
  {
   "cell_type": "code",
   "execution_count": 42,
   "metadata": {},
   "outputs": [
    {
     "name": "stdout",
     "output_type": "stream",
     "text": [
      "RMSE: 0.5736856460571289\n",
      "RMSE: 0.8279510736465454\n"
     ]
    }
   ],
   "source": [
    "compute_rmse(predict_data=preds, actual_data=atmos_vars_ds,\n",
    "                 var_type=\"atmosphere\",pred_var_name=\"t\",\n",
    "                 actual_var_name=\"t\",  atmos_level_idx=9)"
   ]
  },
  {
   "cell_type": "markdown",
   "metadata": {},
   "source": [
    "#### 850 hPa"
   ]
  },
  {
   "cell_type": "code",
   "execution_count": 43,
   "metadata": {},
   "outputs": [
    {
     "name": "stdout",
     "output_type": "stream",
     "text": [
      "RMSE: 1.3679838180541992\n",
      "RMSE: 1.0744160413742065\n"
     ]
    }
   ],
   "source": [
    "compute_rmse(predict_data=preds, actual_data=atmos_vars_ds,\n",
    "                 var_type=\"atmosphere\",pred_var_name=\"t\",\n",
    "                 actual_var_name=\"t\",  atmos_level_idx=10)"
   ]
  },
  {
   "cell_type": "markdown",
   "metadata": {},
   "source": [
    "#### 925 hPa"
   ]
  },
  {
   "cell_type": "code",
   "execution_count": 44,
   "metadata": {},
   "outputs": [
    {
     "name": "stdout",
     "output_type": "stream",
     "text": [
      "RMSE: 1.2360966205596924\n",
      "RMSE: 1.0463292598724365\n"
     ]
    }
   ],
   "source": [
    "compute_rmse(predict_data=preds, actual_data=atmos_vars_ds,\n",
    "                 var_type=\"atmosphere\",pred_var_name=\"t\",\n",
    "                 actual_var_name=\"t\",  atmos_level_idx=11)"
   ]
  },
  {
   "cell_type": "markdown",
   "metadata": {},
   "source": [
    "#### 1000 hPa"
   ]
  },
  {
   "cell_type": "code",
   "execution_count": 45,
   "metadata": {},
   "outputs": [
    {
     "name": "stdout",
     "output_type": "stream",
     "text": [
      "RMSE: 0.7319607734680176\n",
      "RMSE: 0.9294496774673462\n"
     ]
    }
   ],
   "source": [
    "compute_rmse(predict_data=preds, actual_data=atmos_vars_ds,\n",
    "                 var_type=\"atmosphere\",pred_var_name=\"t\",\n",
    "                 actual_var_name=\"t\",  atmos_level_idx=12)"
   ]
  },
  {
   "cell_type": "markdown",
   "metadata": {},
   "source": [
    "### Eastward wind speed in m/s u"
   ]
  },
  {
   "cell_type": "code",
   "execution_count": null,
   "metadata": {},
   "outputs": [],
   "source": [
    "plot_predictions(predict_data=preds, actual_data=atmos_vars_ds,\n",
    "                 var_type=\"atmosphere\",pred_var_name=\"u\",\n",
    "                 actual_var_name=\"u\")"
   ]
  },
  {
   "cell_type": "markdown",
   "metadata": {},
   "source": [
    "#### level 50 hPa"
   ]
  },
  {
   "cell_type": "code",
   "execution_count": 47,
   "metadata": {},
   "outputs": [
    {
     "name": "stdout",
     "output_type": "stream",
     "text": [
      "RMSE: 2.026820421218872\n",
      "RMSE: 2.3301734924316406\n"
     ]
    }
   ],
   "source": [
    "compute_rmse(predict_data=preds, actual_data=atmos_vars_ds,\n",
    "                 var_type=\"atmosphere\",pred_var_name=\"u\",\n",
    "                 actual_var_name=\"u\",  atmos_level_idx=0)"
   ]
  },
  {
   "cell_type": "markdown",
   "metadata": {},
   "source": [
    "#### level 100 hPa"
   ]
  },
  {
   "cell_type": "code",
   "execution_count": 48,
   "metadata": {},
   "outputs": [
    {
     "name": "stdout",
     "output_type": "stream",
     "text": [
      "RMSE: 2.6880998611450195\n",
      "RMSE: 2.7293221950531006\n"
     ]
    }
   ],
   "source": [
    "compute_rmse(predict_data=preds, actual_data=atmos_vars_ds,\n",
    "                 var_type=\"atmosphere\",pred_var_name=\"u\",\n",
    "                 actual_var_name=\"u\",  atmos_level_idx=1)"
   ]
  },
  {
   "cell_type": "markdown",
   "metadata": {},
   "source": [
    "#### level 150 hPa"
   ]
  },
  {
   "cell_type": "code",
   "execution_count": 49,
   "metadata": {},
   "outputs": [
    {
     "name": "stdout",
     "output_type": "stream",
     "text": [
      "RMSE: 4.278347969055176\n",
      "RMSE: 3.268280506134033\n"
     ]
    }
   ],
   "source": [
    "compute_rmse(predict_data=preds, actual_data=atmos_vars_ds,\n",
    "                 var_type=\"atmosphere\",pred_var_name=\"u\",\n",
    "                 actual_var_name=\"u\",  atmos_level_idx=2)"
   ]
  },
  {
   "cell_type": "markdown",
   "metadata": {},
   "source": [
    "#### level 200 hPa"
   ]
  },
  {
   "cell_type": "code",
   "execution_count": 50,
   "metadata": {},
   "outputs": [
    {
     "name": "stdout",
     "output_type": "stream",
     "text": [
      "RMSE: 2.7386679649353027\n",
      "RMSE: 3.1816513538360596\n"
     ]
    }
   ],
   "source": [
    "compute_rmse(predict_data=preds, actual_data=atmos_vars_ds,\n",
    "                 var_type=\"atmosphere\",pred_var_name=\"u\",\n",
    "                 actual_var_name=\"u\",  atmos_level_idx=3)"
   ]
  },
  {
   "cell_type": "markdown",
   "metadata": {},
   "source": [
    "#### level 250 hPa"
   ]
  },
  {
   "cell_type": "code",
   "execution_count": 51,
   "metadata": {},
   "outputs": [
    {
     "name": "stdout",
     "output_type": "stream",
     "text": [
      "RMSE: 2.2701919078826904\n",
      "RMSE: 3.1286909580230713\n"
     ]
    }
   ],
   "source": [
    "compute_rmse(predict_data=preds, actual_data=atmos_vars_ds,\n",
    "                 var_type=\"atmosphere\",pred_var_name=\"u\",\n",
    "                 actual_var_name=\"u\",  atmos_level_idx=4)"
   ]
  },
  {
   "cell_type": "markdown",
   "metadata": {},
   "source": [
    "#### level 300 hPa"
   ]
  },
  {
   "cell_type": "code",
   "execution_count": 52,
   "metadata": {},
   "outputs": [
    {
     "name": "stdout",
     "output_type": "stream",
     "text": [
      "RMSE: 3.122309923171997\n",
      "RMSE: 2.145679473876953\n"
     ]
    }
   ],
   "source": [
    "compute_rmse(predict_data=preds, actual_data=atmos_vars_ds,\n",
    "                 var_type=\"atmosphere\",pred_var_name=\"u\",\n",
    "                 actual_var_name=\"u\",  atmos_level_idx=5)"
   ]
  },
  {
   "cell_type": "markdown",
   "metadata": {},
   "source": [
    "#### level 400 hPa"
   ]
  },
  {
   "cell_type": "code",
   "execution_count": 53,
   "metadata": {},
   "outputs": [
    {
     "name": "stdout",
     "output_type": "stream",
     "text": [
      "RMSE: 3.3605270385742188\n",
      "RMSE: 2.5124969482421875\n"
     ]
    }
   ],
   "source": [
    "compute_rmse(predict_data=preds, actual_data=atmos_vars_ds,\n",
    "                 var_type=\"atmosphere\",pred_var_name=\"u\",\n",
    "                 actual_var_name=\"u\",  atmos_level_idx=6)"
   ]
  },
  {
   "cell_type": "markdown",
   "metadata": {},
   "source": [
    "#### level 500 hPa"
   ]
  },
  {
   "cell_type": "code",
   "execution_count": 54,
   "metadata": {},
   "outputs": [
    {
     "name": "stdout",
     "output_type": "stream",
     "text": [
      "RMSE: 6.871110439300537\n",
      "RMSE: 5.696530342102051\n"
     ]
    }
   ],
   "source": [
    "compute_rmse(predict_data=preds, actual_data=atmos_vars_ds,\n",
    "                 var_type=\"atmosphere\",pred_var_name=\"u\",\n",
    "                 actual_var_name=\"u\",  atmos_level_idx=7)"
   ]
  },
  {
   "cell_type": "markdown",
   "metadata": {},
   "source": [
    "#### level 600 hPa"
   ]
  },
  {
   "cell_type": "code",
   "execution_count": 55,
   "metadata": {},
   "outputs": [
    {
     "name": "stdout",
     "output_type": "stream",
     "text": [
      "RMSE: 9.259191513061523\n",
      "RMSE: 7.717942714691162\n"
     ]
    }
   ],
   "source": [
    "compute_rmse(predict_data=preds, actual_data=atmos_vars_ds,\n",
    "                 var_type=\"atmosphere\",pred_var_name=\"u\",\n",
    "                 actual_var_name=\"u\",  atmos_level_idx=8)"
   ]
  },
  {
   "cell_type": "markdown",
   "metadata": {},
   "source": [
    "#### level 700 hPa"
   ]
  },
  {
   "cell_type": "code",
   "execution_count": 56,
   "metadata": {},
   "outputs": [
    {
     "name": "stdout",
     "output_type": "stream",
     "text": [
      "RMSE: 10.849495887756348\n",
      "RMSE: 7.0191168785095215\n"
     ]
    }
   ],
   "source": [
    "compute_rmse(predict_data=preds, actual_data=atmos_vars_ds,\n",
    "                 var_type=\"atmosphere\",pred_var_name=\"u\",\n",
    "                 actual_var_name=\"u\",  atmos_level_idx=9)"
   ]
  },
  {
   "cell_type": "markdown",
   "metadata": {},
   "source": [
    "#### level 850 hPa"
   ]
  },
  {
   "cell_type": "code",
   "execution_count": 57,
   "metadata": {},
   "outputs": [
    {
     "name": "stdout",
     "output_type": "stream",
     "text": [
      "RMSE: 7.683502197265625\n",
      "RMSE: 7.577439785003662\n"
     ]
    }
   ],
   "source": [
    "compute_rmse(predict_data=preds, actual_data=atmos_vars_ds,\n",
    "                 var_type=\"atmosphere\",pred_var_name=\"u\",\n",
    "                 actual_var_name=\"u\",  atmos_level_idx=10)"
   ]
  },
  {
   "cell_type": "markdown",
   "metadata": {},
   "source": [
    "#### level 925 hPa"
   ]
  },
  {
   "cell_type": "code",
   "execution_count": 58,
   "metadata": {},
   "outputs": [
    {
     "name": "stdout",
     "output_type": "stream",
     "text": [
      "RMSE: 4.688336372375488\n",
      "RMSE: 3.153499126434326\n"
     ]
    }
   ],
   "source": [
    "compute_rmse(predict_data=preds, actual_data=atmos_vars_ds,\n",
    "                 var_type=\"atmosphere\",pred_var_name=\"u\",\n",
    "                 actual_var_name=\"u\",  atmos_level_idx=11)"
   ]
  },
  {
   "cell_type": "markdown",
   "metadata": {},
   "source": [
    "#### level 1000 hPa"
   ]
  },
  {
   "cell_type": "code",
   "execution_count": 59,
   "metadata": {},
   "outputs": [
    {
     "name": "stdout",
     "output_type": "stream",
     "text": [
      "RMSE: 2.4588820934295654\n",
      "RMSE: 3.00223970413208\n"
     ]
    }
   ],
   "source": [
    "compute_rmse(predict_data=preds, actual_data=atmos_vars_ds,\n",
    "                 var_type=\"atmosphere\",pred_var_name=\"u\",\n",
    "                 actual_var_name=\"u\",  atmos_level_idx=12)"
   ]
  },
  {
   "cell_type": "markdown",
   "metadata": {},
   "source": [
    "### Southward wind speed in m/s :v"
   ]
  },
  {
   "cell_type": "code",
   "execution_count": null,
   "metadata": {},
   "outputs": [],
   "source": [
    "plot_predictions(predict_data=preds, actual_data=atmos_vars_ds,\n",
    "                 var_type=\"atmosphere\",pred_var_name=\"v\",\n",
    "                 actual_var_name=\"v\")"
   ]
  },
  {
   "cell_type": "markdown",
   "metadata": {},
   "source": [
    "#### level 50 hPa"
   ]
  },
  {
   "cell_type": "code",
   "execution_count": 61,
   "metadata": {},
   "outputs": [
    {
     "name": "stdout",
     "output_type": "stream",
     "text": [
      "RMSE: 2.2030136585235596\n",
      "RMSE: 3.0530760288238525\n"
     ]
    }
   ],
   "source": [
    "compute_rmse(predict_data=preds, actual_data=atmos_vars_ds,\n",
    "                 var_type=\"atmosphere\",pred_var_name=\"v\",\n",
    "                 actual_var_name=\"v\",  atmos_level_idx=0)"
   ]
  },
  {
   "cell_type": "markdown",
   "metadata": {},
   "source": [
    "#### level 100 hPa"
   ]
  },
  {
   "cell_type": "code",
   "execution_count": 62,
   "metadata": {},
   "outputs": [
    {
     "name": "stdout",
     "output_type": "stream",
     "text": [
      "RMSE: 2.530858278274536\n",
      "RMSE: 3.167807102203369\n"
     ]
    }
   ],
   "source": [
    "compute_rmse(predict_data=preds, actual_data=atmos_vars_ds,\n",
    "                 var_type=\"atmosphere\",pred_var_name=\"v\",\n",
    "                 actual_var_name=\"v\",  atmos_level_idx=1)"
   ]
  },
  {
   "cell_type": "markdown",
   "metadata": {},
   "source": [
    "#### level 150 hPa"
   ]
  },
  {
   "cell_type": "code",
   "execution_count": 63,
   "metadata": {},
   "outputs": [
    {
     "name": "stdout",
     "output_type": "stream",
     "text": [
      "RMSE: 3.695732831954956\n",
      "RMSE: 4.1963629722595215\n"
     ]
    }
   ],
   "source": [
    "compute_rmse(predict_data=preds, actual_data=atmos_vars_ds,\n",
    "                 var_type=\"atmosphere\",pred_var_name=\"v\",\n",
    "                 actual_var_name=\"v\",  atmos_level_idx=2)"
   ]
  },
  {
   "cell_type": "markdown",
   "metadata": {},
   "source": [
    "#### level 200 hPa"
   ]
  },
  {
   "cell_type": "code",
   "execution_count": 64,
   "metadata": {},
   "outputs": [
    {
     "name": "stdout",
     "output_type": "stream",
     "text": [
      "RMSE: 2.9125165939331055\n",
      "RMSE: 1.9408111572265625\n"
     ]
    }
   ],
   "source": [
    "compute_rmse(predict_data=preds, actual_data=atmos_vars_ds,\n",
    "                 var_type=\"atmosphere\",pred_var_name=\"v\",\n",
    "                 actual_var_name=\"v\",  atmos_level_idx=3)"
   ]
  },
  {
   "cell_type": "markdown",
   "metadata": {},
   "source": [
    "#### level 250 hPa"
   ]
  },
  {
   "cell_type": "code",
   "execution_count": 65,
   "metadata": {},
   "outputs": [
    {
     "name": "stdout",
     "output_type": "stream",
     "text": [
      "RMSE: 3.3813419342041016\n",
      "RMSE: 2.9111289978027344\n"
     ]
    }
   ],
   "source": [
    "compute_rmse(predict_data=preds, actual_data=atmos_vars_ds,\n",
    "                 var_type=\"atmosphere\",pred_var_name=\"v\",\n",
    "                 actual_var_name=\"v\",  atmos_level_idx=4)"
   ]
  },
  {
   "cell_type": "markdown",
   "metadata": {},
   "source": [
    "#### level 300 hPa"
   ]
  },
  {
   "cell_type": "code",
   "execution_count": 66,
   "metadata": {},
   "outputs": [
    {
     "name": "stdout",
     "output_type": "stream",
     "text": [
      "RMSE: 2.3951327800750732\n",
      "RMSE: 3.9143214225769043\n"
     ]
    }
   ],
   "source": [
    "compute_rmse(predict_data=preds, actual_data=atmos_vars_ds,\n",
    "                 var_type=\"atmosphere\",pred_var_name=\"v\",\n",
    "                 actual_var_name=\"v\",  atmos_level_idx=5)"
   ]
  },
  {
   "cell_type": "markdown",
   "metadata": {},
   "source": [
    "#### level 400 hPa"
   ]
  },
  {
   "cell_type": "code",
   "execution_count": 67,
   "metadata": {},
   "outputs": [
    {
     "name": "stdout",
     "output_type": "stream",
     "text": [
      "RMSE: 3.322324275970459\n",
      "RMSE: 4.003962516784668\n"
     ]
    }
   ],
   "source": [
    "compute_rmse(predict_data=preds, actual_data=atmos_vars_ds,\n",
    "                 var_type=\"atmosphere\",pred_var_name=\"v\",\n",
    "                 actual_var_name=\"v\",  atmos_level_idx=6)"
   ]
  },
  {
   "cell_type": "markdown",
   "metadata": {},
   "source": [
    "#### level 500 hPa"
   ]
  },
  {
   "cell_type": "code",
   "execution_count": 68,
   "metadata": {},
   "outputs": [
    {
     "name": "stdout",
     "output_type": "stream",
     "text": [
      "RMSE: 5.899149417877197\n",
      "RMSE: 5.367013454437256\n"
     ]
    }
   ],
   "source": [
    "compute_rmse(predict_data=preds, actual_data=atmos_vars_ds,\n",
    "                 var_type=\"atmosphere\",pred_var_name=\"v\",\n",
    "                 actual_var_name=\"v\",  atmos_level_idx=7)"
   ]
  },
  {
   "cell_type": "markdown",
   "metadata": {},
   "source": [
    "#### level 600 hPa"
   ]
  },
  {
   "cell_type": "code",
   "execution_count": 69,
   "metadata": {},
   "outputs": [
    {
     "name": "stdout",
     "output_type": "stream",
     "text": [
      "RMSE: 6.873134613037109\n",
      "RMSE: 6.3164191246032715\n"
     ]
    }
   ],
   "source": [
    "compute_rmse(predict_data=preds, actual_data=atmos_vars_ds,\n",
    "                 var_type=\"atmosphere\",pred_var_name=\"v\",\n",
    "                 actual_var_name=\"v\",  atmos_level_idx=8)"
   ]
  },
  {
   "cell_type": "markdown",
   "metadata": {},
   "source": [
    "#### level 700 hPa"
   ]
  },
  {
   "cell_type": "code",
   "execution_count": 70,
   "metadata": {},
   "outputs": [
    {
     "name": "stdout",
     "output_type": "stream",
     "text": [
      "RMSE: 5.314736366271973\n",
      "RMSE: 5.466500282287598\n"
     ]
    }
   ],
   "source": [
    "compute_rmse(predict_data=preds, actual_data=atmos_vars_ds,\n",
    "                 var_type=\"atmosphere\",pred_var_name=\"v\",\n",
    "                 actual_var_name=\"v\",  atmos_level_idx=9)"
   ]
  },
  {
   "cell_type": "markdown",
   "metadata": {},
   "source": [
    "#### level 850 hPa"
   ]
  },
  {
   "cell_type": "code",
   "execution_count": 71,
   "metadata": {},
   "outputs": [
    {
     "name": "stdout",
     "output_type": "stream",
     "text": [
      "RMSE: 6.778872013092041\n",
      "RMSE: 6.178730010986328\n"
     ]
    }
   ],
   "source": [
    "compute_rmse(predict_data=preds, actual_data=atmos_vars_ds,\n",
    "                 var_type=\"atmosphere\",pred_var_name=\"v\",\n",
    "                 actual_var_name=\"v\",  atmos_level_idx=10)"
   ]
  },
  {
   "cell_type": "markdown",
   "metadata": {},
   "source": [
    "#### level 925 hPa"
   ]
  },
  {
   "cell_type": "code",
   "execution_count": 72,
   "metadata": {},
   "outputs": [
    {
     "name": "stdout",
     "output_type": "stream",
     "text": [
      "RMSE: 3.4188194274902344\n",
      "RMSE: 6.639578342437744\n"
     ]
    }
   ],
   "source": [
    "compute_rmse(predict_data=preds, actual_data=atmos_vars_ds,\n",
    "                 var_type=\"atmosphere\",pred_var_name=\"v\",\n",
    "                 actual_var_name=\"v\",  atmos_level_idx=11)"
   ]
  },
  {
   "cell_type": "markdown",
   "metadata": {},
   "source": [
    "#### level 1000 hPa"
   ]
  },
  {
   "cell_type": "code",
   "execution_count": 73,
   "metadata": {},
   "outputs": [
    {
     "name": "stdout",
     "output_type": "stream",
     "text": [
      "RMSE: 4.417582035064697\n",
      "RMSE: 3.7341277599334717\n"
     ]
    }
   ],
   "source": [
    "compute_rmse(predict_data=preds, actual_data=atmos_vars_ds,\n",
    "                 var_type=\"atmosphere\",pred_var_name=\"v\",\n",
    "                 actual_var_name=\"v\",  atmos_level_idx=12)"
   ]
  },
  {
   "cell_type": "markdown",
   "metadata": {},
   "source": [
    "### Specific humidity in kg / kg: q"
   ]
  },
  {
   "cell_type": "code",
   "execution_count": null,
   "metadata": {},
   "outputs": [],
   "source": [
    "plot_predictions(predict_data=preds, actual_data=atmos_vars_ds,\n",
    "                 var_type=\"atmosphere\",pred_var_name=\"q\",\n",
    "                 actual_var_name=\"q\")"
   ]
  },
  {
   "cell_type": "markdown",
   "metadata": {},
   "source": [
    "#### level 50 hPa"
   ]
  },
  {
   "cell_type": "code",
   "execution_count": 75,
   "metadata": {},
   "outputs": [
    {
     "name": "stdout",
     "output_type": "stream",
     "text": [
      "RMSE: 0.00132470834068954\n",
      "RMSE: 0.0018503069877624512\n"
     ]
    }
   ],
   "source": [
    "compute_rmse(predict_data=preds, actual_data=atmos_vars_ds,\n",
    "                 var_type=\"atmosphere\",pred_var_name=\"q\",\n",
    "                 actual_var_name=\"q\",  atmos_level_idx=0)"
   ]
  },
  {
   "cell_type": "markdown",
   "metadata": {},
   "source": [
    "#### level 100 hPa"
   ]
  },
  {
   "cell_type": "code",
   "execution_count": 76,
   "metadata": {},
   "outputs": [
    {
     "name": "stdout",
     "output_type": "stream",
     "text": [
      "RMSE: 0.001391159021295607\n",
      "RMSE: 0.0018242687219753861\n"
     ]
    }
   ],
   "source": [
    "compute_rmse(predict_data=preds, actual_data=atmos_vars_ds,\n",
    "                 var_type=\"atmosphere\",pred_var_name=\"q\",\n",
    "                 actual_var_name=\"q\",  atmos_level_idx=1)"
   ]
  },
  {
   "cell_type": "markdown",
   "metadata": {},
   "source": [
    "#### level 150 hPa"
   ]
  },
  {
   "cell_type": "code",
   "execution_count": 77,
   "metadata": {},
   "outputs": [
    {
     "name": "stdout",
     "output_type": "stream",
     "text": [
      "RMSE: 0.0018014039378613234\n",
      "RMSE: 0.0018360201502218843\n"
     ]
    }
   ],
   "source": [
    "compute_rmse(predict_data=preds, actual_data=atmos_vars_ds,\n",
    "                 var_type=\"atmosphere\",pred_var_name=\"q\",\n",
    "                 actual_var_name=\"q\",  atmos_level_idx=2)"
   ]
  },
  {
   "cell_type": "markdown",
   "metadata": {},
   "source": [
    "#### level 200 hPa"
   ]
  },
  {
   "cell_type": "code",
   "execution_count": 78,
   "metadata": {},
   "outputs": [
    {
     "name": "stdout",
     "output_type": "stream",
     "text": [
      "RMSE: 0.0012217375915497541\n",
      "RMSE: 0.0015226168325170875\n"
     ]
    }
   ],
   "source": [
    "compute_rmse(predict_data=preds, actual_data=atmos_vars_ds,\n",
    "                 var_type=\"atmosphere\",pred_var_name=\"q\",\n",
    "                 actual_var_name=\"q\",  atmos_level_idx=3)"
   ]
  },
  {
   "cell_type": "markdown",
   "metadata": {},
   "source": [
    "#### level 250 hPa"
   ]
  },
  {
   "cell_type": "code",
   "execution_count": 79,
   "metadata": {},
   "outputs": [
    {
     "name": "stdout",
     "output_type": "stream",
     "text": [
      "RMSE: 0.0008543329313397408\n",
      "RMSE: 0.0010457830503582954\n"
     ]
    }
   ],
   "source": [
    "compute_rmse(predict_data=preds, actual_data=atmos_vars_ds,\n",
    "                 var_type=\"atmosphere\",pred_var_name=\"q\",\n",
    "                 actual_var_name=\"q\",  atmos_level_idx=4)"
   ]
  },
  {
   "cell_type": "markdown",
   "metadata": {},
   "source": [
    "#### level 300 hPa"
   ]
  },
  {
   "cell_type": "code",
   "execution_count": 80,
   "metadata": {},
   "outputs": [
    {
     "name": "stdout",
     "output_type": "stream",
     "text": [
      "RMSE: 0.0007092472515068948\n",
      "RMSE: 0.0007938714697957039\n"
     ]
    }
   ],
   "source": [
    "compute_rmse(predict_data=preds, actual_data=atmos_vars_ds,\n",
    "                 var_type=\"atmosphere\",pred_var_name=\"q\",\n",
    "                 actual_var_name=\"q\",  atmos_level_idx=5)"
   ]
  },
  {
   "cell_type": "markdown",
   "metadata": {},
   "source": [
    "#### level 400 hPa"
   ]
  },
  {
   "cell_type": "code",
   "execution_count": 81,
   "metadata": {},
   "outputs": [
    {
     "name": "stdout",
     "output_type": "stream",
     "text": [
      "RMSE: 0.0003647203557193279\n",
      "RMSE: 0.00033323420211672783\n"
     ]
    }
   ],
   "source": [
    "compute_rmse(predict_data=preds, actual_data=atmos_vars_ds,\n",
    "                 var_type=\"atmosphere\",pred_var_name=\"q\",\n",
    "                 actual_var_name=\"q\",  atmos_level_idx=6)"
   ]
  },
  {
   "cell_type": "markdown",
   "metadata": {},
   "source": [
    "#### level 500 hPa"
   ]
  },
  {
   "cell_type": "code",
   "execution_count": 82,
   "metadata": {},
   "outputs": [
    {
     "name": "stdout",
     "output_type": "stream",
     "text": [
      "RMSE: 7.754356192890555e-05\n",
      "RMSE: 8.30535645945929e-05\n"
     ]
    }
   ],
   "source": [
    "compute_rmse(predict_data=preds, actual_data=atmos_vars_ds,\n",
    "                 var_type=\"atmosphere\",pred_var_name=\"q\",\n",
    "                 actual_var_name=\"q\",  atmos_level_idx=7)"
   ]
  },
  {
   "cell_type": "markdown",
   "metadata": {},
   "source": [
    "#### level 600 hPa"
   ]
  },
  {
   "cell_type": "code",
   "execution_count": 83,
   "metadata": {},
   "outputs": [
    {
     "name": "stdout",
     "output_type": "stream",
     "text": [
      "RMSE: 2.7524869437911548e-05\n",
      "RMSE: 3.936170833185315e-05\n"
     ]
    }
   ],
   "source": [
    "compute_rmse(predict_data=preds, actual_data=atmos_vars_ds,\n",
    "                 var_type=\"atmosphere\",pred_var_name=\"q\",\n",
    "                 actual_var_name=\"q\",  atmos_level_idx=8)"
   ]
  },
  {
   "cell_type": "markdown",
   "metadata": {},
   "source": [
    "#### level 700 hPa"
   ]
  },
  {
   "cell_type": "code",
   "execution_count": 84,
   "metadata": {},
   "outputs": [
    {
     "name": "stdout",
     "output_type": "stream",
     "text": [
      "RMSE: 6.695508091070224e-06\n",
      "RMSE: 9.438476809009444e-06\n"
     ]
    }
   ],
   "source": [
    "compute_rmse(predict_data=preds, actual_data=atmos_vars_ds,\n",
    "                 var_type=\"atmosphere\",pred_var_name=\"q\",\n",
    "                 actual_var_name=\"q\",  atmos_level_idx=9)"
   ]
  },
  {
   "cell_type": "markdown",
   "metadata": {},
   "source": [
    "#### level 850 hPa"
   ]
  },
  {
   "cell_type": "code",
   "execution_count": 85,
   "metadata": {},
   "outputs": [
    {
     "name": "stdout",
     "output_type": "stream",
     "text": [
      "RMSE: 1.4007107438374078e-06\n",
      "RMSE: 9.343611964141019e-07\n"
     ]
    }
   ],
   "source": [
    "compute_rmse(predict_data=preds, actual_data=atmos_vars_ds,\n",
    "                 var_type=\"atmosphere\",pred_var_name=\"q\",\n",
    "                 actual_var_name=\"q\",  atmos_level_idx=10)"
   ]
  },
  {
   "cell_type": "markdown",
   "metadata": {},
   "source": [
    "#### level 925 hPa"
   ]
  },
  {
   "cell_type": "code",
   "execution_count": 86,
   "metadata": {},
   "outputs": [
    {
     "name": "stdout",
     "output_type": "stream",
     "text": [
      "RMSE: 8.862902234341163e-08\n",
      "RMSE: 7.743758345668539e-08\n"
     ]
    }
   ],
   "source": [
    "compute_rmse(predict_data=preds, actual_data=atmos_vars_ds,\n",
    "                 var_type=\"atmosphere\",pred_var_name=\"q\",\n",
    "                 actual_var_name=\"q\",  atmos_level_idx=11)"
   ]
  },
  {
   "cell_type": "markdown",
   "metadata": {},
   "source": [
    "#### level 1000 hPa"
   ]
  },
  {
   "cell_type": "code",
   "execution_count": 87,
   "metadata": {},
   "outputs": [
    {
     "name": "stdout",
     "output_type": "stream",
     "text": [
      "RMSE: 4.560165578482156e-08\n",
      "RMSE: 2.137005949975901e-08\n"
     ]
    }
   ],
   "source": [
    "compute_rmse(predict_data=preds, actual_data=atmos_vars_ds,\n",
    "                 var_type=\"atmosphere\",pred_var_name=\"q\",\n",
    "                 actual_var_name=\"q\",  atmos_level_idx=12)"
   ]
  },
  {
   "cell_type": "markdown",
   "metadata": {},
   "source": [
    "### Geopotential in m^2 / s^2 : z"
   ]
  },
  {
   "cell_type": "code",
   "execution_count": 42,
   "metadata": {},
   "outputs": [],
   "source": [
    "plot_predictions(predict_data=preds, actual_data=atmos_vars_ds,\n",
    "                 var_type=\"atmosphere\",pred_var_name=\"z\",\n",
    "                 actual_var_name=\"z\")"
   ]
  },
  {
   "cell_type": "markdown",
   "metadata": {},
   "source": [
    "#### level 50 hPa"
   ]
  },
  {
   "cell_type": "code",
   "execution_count": 88,
   "metadata": {},
   "outputs": [
    {
     "name": "stdout",
     "output_type": "stream",
     "text": [
      "RMSE: 181.72238159179688\n",
      "RMSE: 227.6491241455078\n"
     ]
    }
   ],
   "source": [
    "compute_rmse(predict_data=preds, actual_data=atmos_vars_ds,\n",
    "                 var_type=\"atmosphere\",pred_var_name=\"z\",\n",
    "                 actual_var_name=\"z\",  atmos_level_idx=0)"
   ]
  },
  {
   "cell_type": "markdown",
   "metadata": {},
   "source": [
    "#### level 100 hPa"
   ]
  },
  {
   "cell_type": "code",
   "execution_count": 89,
   "metadata": {},
   "outputs": [
    {
     "name": "stdout",
     "output_type": "stream",
     "text": [
      "RMSE: 136.6709747314453\n",
      "RMSE: 187.3612060546875\n"
     ]
    }
   ],
   "source": [
    "compute_rmse(predict_data=preds, actual_data=atmos_vars_ds,\n",
    "                 var_type=\"atmosphere\",pred_var_name=\"z\",\n",
    "                 actual_var_name=\"z\",  atmos_level_idx=1)"
   ]
  },
  {
   "cell_type": "markdown",
   "metadata": {},
   "source": [
    "#### level 150 hPa"
   ]
  },
  {
   "cell_type": "code",
   "execution_count": 90,
   "metadata": {},
   "outputs": [
    {
     "name": "stdout",
     "output_type": "stream",
     "text": [
      "RMSE: 74.1631851196289\n",
      "RMSE: 112.76835632324219\n"
     ]
    }
   ],
   "source": [
    "compute_rmse(predict_data=preds, actual_data=atmos_vars_ds,\n",
    "                 var_type=\"atmosphere\",pred_var_name=\"z\",\n",
    "                 actual_var_name=\"z\",  atmos_level_idx=2)"
   ]
  },
  {
   "cell_type": "markdown",
   "metadata": {},
   "source": [
    "#### level 200 hPa"
   ]
  },
  {
   "cell_type": "code",
   "execution_count": 91,
   "metadata": {},
   "outputs": [
    {
     "name": "stdout",
     "output_type": "stream",
     "text": [
      "RMSE: 54.5391960144043\n",
      "RMSE: 49.204734802246094\n"
     ]
    }
   ],
   "source": [
    "compute_rmse(predict_data=preds, actual_data=atmos_vars_ds,\n",
    "                 var_type=\"atmosphere\",pred_var_name=\"z\",\n",
    "                 actual_var_name=\"z\",  atmos_level_idx=3)"
   ]
  },
  {
   "cell_type": "markdown",
   "metadata": {},
   "source": [
    "#### level 250 hPa"
   ]
  },
  {
   "cell_type": "code",
   "execution_count": 92,
   "metadata": {},
   "outputs": [
    {
     "name": "stdout",
     "output_type": "stream",
     "text": [
      "RMSE: 61.86578369140625\n",
      "RMSE: 50.085777282714844\n"
     ]
    }
   ],
   "source": [
    "compute_rmse(predict_data=preds, actual_data=atmos_vars_ds,\n",
    "                 var_type=\"atmosphere\",pred_var_name=\"z\",\n",
    "                 actual_var_name=\"z\",  atmos_level_idx=4)"
   ]
  },
  {
   "cell_type": "markdown",
   "metadata": {},
   "source": [
    "#### level 300 hPa"
   ]
  },
  {
   "cell_type": "code",
   "execution_count": 93,
   "metadata": {},
   "outputs": [
    {
     "name": "stdout",
     "output_type": "stream",
     "text": [
      "RMSE: 83.88148498535156\n",
      "RMSE: 74.79078674316406\n"
     ]
    }
   ],
   "source": [
    "compute_rmse(predict_data=preds, actual_data=atmos_vars_ds,\n",
    "                 var_type=\"atmosphere\",pred_var_name=\"z\",\n",
    "                 actual_var_name=\"z\",  atmos_level_idx=5)"
   ]
  },
  {
   "cell_type": "markdown",
   "metadata": {},
   "source": [
    "#### level 400 hPa"
   ]
  },
  {
   "cell_type": "code",
   "execution_count": 94,
   "metadata": {},
   "outputs": [
    {
     "name": "stdout",
     "output_type": "stream",
     "text": [
      "RMSE: 121.8720932006836\n",
      "RMSE: 105.0750503540039\n"
     ]
    }
   ],
   "source": [
    "compute_rmse(predict_data=preds, actual_data=atmos_vars_ds,\n",
    "                 var_type=\"atmosphere\",pred_var_name=\"z\",\n",
    "                 actual_var_name=\"z\",  atmos_level_idx=6)"
   ]
  },
  {
   "cell_type": "markdown",
   "metadata": {},
   "source": [
    "#### level 500 hPa"
   ]
  },
  {
   "cell_type": "code",
   "execution_count": 95,
   "metadata": {},
   "outputs": [
    {
     "name": "stdout",
     "output_type": "stream",
     "text": [
      "RMSE: 180.86172485351562\n",
      "RMSE: 128.46400451660156\n"
     ]
    }
   ],
   "source": [
    "compute_rmse(predict_data=preds, actual_data=atmos_vars_ds,\n",
    "                 var_type=\"atmosphere\",pred_var_name=\"z\",\n",
    "                 actual_var_name=\"z\",  atmos_level_idx=7)"
   ]
  },
  {
   "cell_type": "markdown",
   "metadata": {},
   "source": [
    "#### level 600 hPa"
   ]
  },
  {
   "cell_type": "code",
   "execution_count": 96,
   "metadata": {},
   "outputs": [
    {
     "name": "stdout",
     "output_type": "stream",
     "text": [
      "RMSE: 216.04013061523438\n",
      "RMSE: 143.4396514892578\n"
     ]
    }
   ],
   "source": [
    "compute_rmse(predict_data=preds, actual_data=atmos_vars_ds,\n",
    "                 var_type=\"atmosphere\",pred_var_name=\"z\",\n",
    "                 actual_var_name=\"z\",  atmos_level_idx=8)"
   ]
  },
  {
   "cell_type": "markdown",
   "metadata": {},
   "source": [
    "#### level 700 hPa"
   ]
  },
  {
   "cell_type": "code",
   "execution_count": 97,
   "metadata": {},
   "outputs": [
    {
     "name": "stdout",
     "output_type": "stream",
     "text": [
      "RMSE: 236.67269897460938\n",
      "RMSE: 165.9544219970703\n"
     ]
    }
   ],
   "source": [
    "compute_rmse(predict_data=preds, actual_data=atmos_vars_ds,\n",
    "                 var_type=\"atmosphere\",pred_var_name=\"z\",\n",
    "                 actual_var_name=\"z\",  atmos_level_idx=9)"
   ]
  },
  {
   "cell_type": "markdown",
   "metadata": {},
   "source": [
    "#### level 850 hPa"
   ]
  },
  {
   "cell_type": "code",
   "execution_count": 98,
   "metadata": {},
   "outputs": [
    {
     "name": "stdout",
     "output_type": "stream",
     "text": [
      "RMSE: 182.22210693359375\n",
      "RMSE: 136.3874053955078\n"
     ]
    }
   ],
   "source": [
    "compute_rmse(predict_data=preds, actual_data=atmos_vars_ds,\n",
    "                 var_type=\"atmosphere\",pred_var_name=\"z\",\n",
    "                 actual_var_name=\"z\",  atmos_level_idx=10)"
   ]
  },
  {
   "cell_type": "markdown",
   "metadata": {},
   "source": [
    "#### level 925 hPa"
   ]
  },
  {
   "cell_type": "code",
   "execution_count": 99,
   "metadata": {},
   "outputs": [
    {
     "name": "stdout",
     "output_type": "stream",
     "text": [
      "RMSE: 77.35247802734375\n",
      "RMSE: 65.18022155761719\n"
     ]
    }
   ],
   "source": [
    "compute_rmse(predict_data=preds, actual_data=atmos_vars_ds,\n",
    "                 var_type=\"atmosphere\",pred_var_name=\"z\",\n",
    "                 actual_var_name=\"z\",  atmos_level_idx=11)"
   ]
  },
  {
   "cell_type": "markdown",
   "metadata": {},
   "source": [
    "#### level 1000 hPa"
   ]
  },
  {
   "cell_type": "code",
   "execution_count": 100,
   "metadata": {},
   "outputs": [
    {
     "name": "stdout",
     "output_type": "stream",
     "text": [
      "RMSE: 96.03746795654297\n",
      "RMSE: 73.2583999633789\n"
     ]
    },
    {
     "ename": "",
     "evalue": "",
     "output_type": "error",
     "traceback": [
      "\u001b[1;31mThe Kernel crashed while executing code in the current cell or a previous cell. \n",
      "\u001b[1;31mPlease review the code in the cell(s) to identify a possible cause of the failure. \n",
      "\u001b[1;31mClick <a href='https://aka.ms/vscodeJupyterKernelCrash'>here</a> for more info. \n",
      "\u001b[1;31mView Jupyter <a href='command:jupyter.viewOutput'>log</a> for further details."
     ]
    }
   ],
   "source": [
    "compute_rmse(predict_data=preds, actual_data=atmos_vars_ds,\n",
    "                 var_type=\"atmosphere\",pred_var_name=\"z\",\n",
    "                 actual_var_name=\"z\",  atmos_level_idx=12)"
   ]
  },
  {
   "cell_type": "code",
   "execution_count": 43,
   "metadata": {},
   "outputs": [],
   "source": [
    "# preds[0].atmos_vars[\"t\"].shape"
   ]
  },
  {
   "cell_type": "code",
   "execution_count": null,
   "metadata": {},
   "outputs": [],
   "source": [
    "# preds[0].atmos_vars[\"t\"].squeeze()[0,:,:].shape"
   ]
  },
  {
   "cell_type": "code",
   "execution_count": 47,
   "metadata": {},
   "outputs": [],
   "source": [
    "# preds[0].static_vars[\"z\"].shape"
   ]
  },
  {
   "cell_type": "code",
   "execution_count": null,
   "metadata": {},
   "outputs": [],
   "source": [
    "# static_vars_ds[\"z\"].shape"
   ]
  },
  {
   "cell_type": "markdown",
   "metadata": {},
   "source": [
    "###  Land-sea mask: lsm"
   ]
  },
  {
   "cell_type": "code",
   "execution_count": null,
   "metadata": {},
   "outputs": [],
   "source": [
    "plot_predictions(predict_data=preds, actual_data=static_vars_ds,\n",
    "                 var_type=\"static\",pred_var_name=\"lsm\",\n",
    "                 actual_var_name=\"lsm\")"
   ]
  },
  {
   "cell_type": "markdown",
   "metadata": {},
   "source": [
    "### Surface-level geopotential in m^2 / s^2:  z"
   ]
  },
  {
   "cell_type": "code",
   "execution_count": 50,
   "metadata": {},
   "outputs": [],
   "source": [
    "plot_predictions(predict_data=preds, actual_data=static_vars_ds,\n",
    "                 var_type=\"static\",pred_var_name=\"z\",\n",
    "                 actual_var_name=\"z\")"
   ]
  },
  {
   "cell_type": "markdown",
   "metadata": {},
   "source": [
    "### Soil type: slt"
   ]
  },
  {
   "cell_type": "code",
   "execution_count": 51,
   "metadata": {},
   "outputs": [],
   "source": [
    "plot_predictions(predict_data=preds, actual_data=static_vars_ds,\n",
    "                 var_type=\"static\",pred_var_name=\"slt\",\n",
    "                 actual_var_name=\"slt\")"
   ]
  },
  {
   "cell_type": "code",
   "execution_count": 52,
   "metadata": {},
   "outputs": [
    {
     "data": {
      "text/plain": [
       "Aurora(\n",
       "  (encoder): Perceiver3DEncoder(\n",
       "    (surf_mlp): MLP(\n",
       "      (net): Sequential(\n",
       "        (0): Linear(in_features=256, out_features=1024, bias=True)\n",
       "        (1): GELU(approximate='none')\n",
       "        (2): Linear(in_features=1024, out_features=256, bias=True)\n",
       "        (3): Dropout(p=0.0, inplace=False)\n",
       "      )\n",
       "    )\n",
       "    (surf_norm): LayerNorm((256,), eps=1e-05, elementwise_affine=True)\n",
       "    (pos_embed): Linear(in_features=256, out_features=256, bias=True)\n",
       "    (scale_embed): Linear(in_features=256, out_features=256, bias=True)\n",
       "    (lead_time_embed): Linear(in_features=256, out_features=256, bias=True)\n",
       "    (absolute_time_embed): Linear(in_features=256, out_features=256, bias=True)\n",
       "    (atmos_levels_embed): Linear(in_features=256, out_features=256, bias=True)\n",
       "    (surf_token_embeds): LevelPatchEmbed(\n",
       "      (weights): ParameterDict(\n",
       "          (10u): Parameter containing: [torch.FloatTensor of size 256x1x2x4x4]\n",
       "          (10v): Parameter containing: [torch.FloatTensor of size 256x1x2x4x4]\n",
       "          (2t): Parameter containing: [torch.FloatTensor of size 256x1x2x4x4]\n",
       "          (lsm): Parameter containing: [torch.FloatTensor of size 256x1x2x4x4]\n",
       "          (msl): Parameter containing: [torch.FloatTensor of size 256x1x2x4x4]\n",
       "          (slt): Parameter containing: [torch.FloatTensor of size 256x1x2x4x4]\n",
       "          (z): Parameter containing: [torch.FloatTensor of size 256x1x2x4x4]\n",
       "      )\n",
       "      (norm): Identity()\n",
       "    )\n",
       "    (atmos_token_embeds): LevelPatchEmbed(\n",
       "      (weights): ParameterDict(\n",
       "          (q): Parameter containing: [torch.FloatTensor of size 256x1x2x4x4]\n",
       "          (t): Parameter containing: [torch.FloatTensor of size 256x1x2x4x4]\n",
       "          (u): Parameter containing: [torch.FloatTensor of size 256x1x2x4x4]\n",
       "          (v): Parameter containing: [torch.FloatTensor of size 256x1x2x4x4]\n",
       "          (z): Parameter containing: [torch.FloatTensor of size 256x1x2x4x4]\n",
       "      )\n",
       "      (norm): Identity()\n",
       "    )\n",
       "    (level_agg): PerceiverResampler(\n",
       "      (layers): ModuleList(\n",
       "        (0): ModuleList(\n",
       "          (0): PerceiverAttention(\n",
       "            (to_q): Linear(in_features=256, out_features=256, bias=False)\n",
       "            (to_kv): Linear(in_features=256, out_features=512, bias=False)\n",
       "            (to_out): Linear(in_features=256, out_features=256, bias=False)\n",
       "          )\n",
       "          (1): MLP(\n",
       "            (net): Sequential(\n",
       "              (0): Linear(in_features=256, out_features=1024, bias=True)\n",
       "              (1): GELU(approximate='none')\n",
       "              (2): Linear(in_features=1024, out_features=256, bias=True)\n",
       "              (3): Dropout(p=0.0, inplace=False)\n",
       "            )\n",
       "          )\n",
       "          (2-3): 2 x LayerNorm((256,), eps=1e-05, elementwise_affine=True)\n",
       "        )\n",
       "      )\n",
       "    )\n",
       "    (pos_drop): Dropout(p=0.0, inplace=False)\n",
       "  )\n",
       "  (backbone): Swin3DTransformerBackbone(\n",
       "    (time_mlp): Sequential(\n",
       "      (0): Linear(in_features=256, out_features=256, bias=True)\n",
       "      (1): SiLU()\n",
       "      (2): Linear(in_features=256, out_features=256, bias=True)\n",
       "    )\n",
       "    (encoder_layers): ModuleList(\n",
       "      (0): Basic3DEncoderLayer(\n",
       "        (blocks): ModuleList(\n",
       "          (0-1): 2 x Swin3DTransformerBlock(\n",
       "            (norm1): AdaptiveLayerNorm(\n",
       "              (ln): LayerNorm((256,), eps=1e-05, elementwise_affine=False)\n",
       "              (ln_modulation): Sequential(\n",
       "                (0): SiLU()\n",
       "                (1): Linear(in_features=256, out_features=512, bias=True)\n",
       "              )\n",
       "            )\n",
       "            (attn): WindowAttention(\n",
       "              dim=256, window_size=(2, 6, 12), num_heads=4\n",
       "              (qkv): Linear(in_features=256, out_features=768, bias=True)\n",
       "              (proj): Linear(in_features=256, out_features=256, bias=True)\n",
       "              (proj_drop): Dropout(p=0.0, inplace=False)\n",
       "            )\n",
       "            (drop_path): Identity()\n",
       "            (norm2): AdaptiveLayerNorm(\n",
       "              (ln): LayerNorm((256,), eps=1e-05, elementwise_affine=False)\n",
       "              (ln_modulation): Sequential(\n",
       "                (0): SiLU()\n",
       "                (1): Linear(in_features=256, out_features=512, bias=True)\n",
       "              )\n",
       "            )\n",
       "            (mlp): MLP(\n",
       "              (fc1): Linear(in_features=256, out_features=1024, bias=True)\n",
       "              (act): GELU(approximate='none')\n",
       "              (fc2): Linear(in_features=1024, out_features=256, bias=True)\n",
       "              (drop): Dropout(p=0.0, inplace=False)\n",
       "            )\n",
       "          )\n",
       "        )\n",
       "        (downsample): PatchMerging3D(\n",
       "          (reduction): Linear(in_features=1024, out_features=512, bias=False)\n",
       "          (norm): LayerNorm((1024,), eps=1e-05, elementwise_affine=True)\n",
       "        )\n",
       "      )\n",
       "      (1): Basic3DEncoderLayer(\n",
       "        (blocks): ModuleList(\n",
       "          (0-5): 6 x Swin3DTransformerBlock(\n",
       "            (norm1): AdaptiveLayerNorm(\n",
       "              (ln): LayerNorm((512,), eps=1e-05, elementwise_affine=False)\n",
       "              (ln_modulation): Sequential(\n",
       "                (0): SiLU()\n",
       "                (1): Linear(in_features=256, out_features=1024, bias=True)\n",
       "              )\n",
       "            )\n",
       "            (attn): WindowAttention(\n",
       "              dim=512, window_size=(2, 6, 12), num_heads=8\n",
       "              (qkv): Linear(in_features=512, out_features=1536, bias=True)\n",
       "              (proj): Linear(in_features=512, out_features=512, bias=True)\n",
       "              (proj_drop): Dropout(p=0.0, inplace=False)\n",
       "            )\n",
       "            (drop_path): Identity()\n",
       "            (norm2): AdaptiveLayerNorm(\n",
       "              (ln): LayerNorm((512,), eps=1e-05, elementwise_affine=False)\n",
       "              (ln_modulation): Sequential(\n",
       "                (0): SiLU()\n",
       "                (1): Linear(in_features=256, out_features=1024, bias=True)\n",
       "              )\n",
       "            )\n",
       "            (mlp): MLP(\n",
       "              (fc1): Linear(in_features=512, out_features=2048, bias=True)\n",
       "              (act): GELU(approximate='none')\n",
       "              (fc2): Linear(in_features=2048, out_features=512, bias=True)\n",
       "              (drop): Dropout(p=0.0, inplace=False)\n",
       "            )\n",
       "          )\n",
       "        )\n",
       "        (downsample): PatchMerging3D(\n",
       "          (reduction): Linear(in_features=2048, out_features=1024, bias=False)\n",
       "          (norm): LayerNorm((2048,), eps=1e-05, elementwise_affine=True)\n",
       "        )\n",
       "      )\n",
       "      (2): Basic3DEncoderLayer(\n",
       "        (blocks): ModuleList(\n",
       "          (0-1): 2 x Swin3DTransformerBlock(\n",
       "            (norm1): AdaptiveLayerNorm(\n",
       "              (ln): LayerNorm((1024,), eps=1e-05, elementwise_affine=False)\n",
       "              (ln_modulation): Sequential(\n",
       "                (0): SiLU()\n",
       "                (1): Linear(in_features=256, out_features=2048, bias=True)\n",
       "              )\n",
       "            )\n",
       "            (attn): WindowAttention(\n",
       "              dim=1024, window_size=(2, 6, 12), num_heads=16\n",
       "              (qkv): Linear(in_features=1024, out_features=3072, bias=True)\n",
       "              (proj): Linear(in_features=1024, out_features=1024, bias=True)\n",
       "              (proj_drop): Dropout(p=0.0, inplace=False)\n",
       "            )\n",
       "            (drop_path): Identity()\n",
       "            (norm2): AdaptiveLayerNorm(\n",
       "              (ln): LayerNorm((1024,), eps=1e-05, elementwise_affine=False)\n",
       "              (ln_modulation): Sequential(\n",
       "                (0): SiLU()\n",
       "                (1): Linear(in_features=256, out_features=2048, bias=True)\n",
       "              )\n",
       "            )\n",
       "            (mlp): MLP(\n",
       "              (fc1): Linear(in_features=1024, out_features=4096, bias=True)\n",
       "              (act): GELU(approximate='none')\n",
       "              (fc2): Linear(in_features=4096, out_features=1024, bias=True)\n",
       "              (drop): Dropout(p=0.0, inplace=False)\n",
       "            )\n",
       "          )\n",
       "        )\n",
       "      )\n",
       "    )\n",
       "    (decoder_layers): ModuleList(\n",
       "      (0): Basic3DDecoderLayer(\n",
       "        (blocks): ModuleList(\n",
       "          (0-1): 2 x Swin3DTransformerBlock(\n",
       "            (norm1): AdaptiveLayerNorm(\n",
       "              (ln): LayerNorm((1024,), eps=1e-05, elementwise_affine=False)\n",
       "              (ln_modulation): Sequential(\n",
       "                (0): SiLU()\n",
       "                (1): Linear(in_features=256, out_features=2048, bias=True)\n",
       "              )\n",
       "            )\n",
       "            (attn): WindowAttention(\n",
       "              dim=1024, window_size=(2, 6, 12), num_heads=16\n",
       "              (qkv): Linear(in_features=1024, out_features=3072, bias=True)\n",
       "              (proj): Linear(in_features=1024, out_features=1024, bias=True)\n",
       "              (proj_drop): Dropout(p=0.0, inplace=False)\n",
       "            )\n",
       "            (drop_path): Identity()\n",
       "            (norm2): AdaptiveLayerNorm(\n",
       "              (ln): LayerNorm((1024,), eps=1e-05, elementwise_affine=False)\n",
       "              (ln_modulation): Sequential(\n",
       "                (0): SiLU()\n",
       "                (1): Linear(in_features=256, out_features=2048, bias=True)\n",
       "              )\n",
       "            )\n",
       "            (mlp): MLP(\n",
       "              (fc1): Linear(in_features=1024, out_features=4096, bias=True)\n",
       "              (act): GELU(approximate='none')\n",
       "              (fc2): Linear(in_features=4096, out_features=1024, bias=True)\n",
       "              (drop): Dropout(p=0.0, inplace=False)\n",
       "            )\n",
       "          )\n",
       "        )\n",
       "        (upsample): PatchSplitting3D(\n",
       "          (lin1): Linear(in_features=1024, out_features=2048, bias=False)\n",
       "          (lin2): Linear(in_features=512, out_features=512, bias=False)\n",
       "          (norm): LayerNorm((512,), eps=1e-05, elementwise_affine=True)\n",
       "        )\n",
       "      )\n",
       "      (1): Basic3DDecoderLayer(\n",
       "        (blocks): ModuleList(\n",
       "          (0-5): 6 x Swin3DTransformerBlock(\n",
       "            (norm1): AdaptiveLayerNorm(\n",
       "              (ln): LayerNorm((512,), eps=1e-05, elementwise_affine=False)\n",
       "              (ln_modulation): Sequential(\n",
       "                (0): SiLU()\n",
       "                (1): Linear(in_features=256, out_features=1024, bias=True)\n",
       "              )\n",
       "            )\n",
       "            (attn): WindowAttention(\n",
       "              dim=512, window_size=(2, 6, 12), num_heads=8\n",
       "              (qkv): Linear(in_features=512, out_features=1536, bias=True)\n",
       "              (proj): Linear(in_features=512, out_features=512, bias=True)\n",
       "              (proj_drop): Dropout(p=0.0, inplace=False)\n",
       "            )\n",
       "            (drop_path): Identity()\n",
       "            (norm2): AdaptiveLayerNorm(\n",
       "              (ln): LayerNorm((512,), eps=1e-05, elementwise_affine=False)\n",
       "              (ln_modulation): Sequential(\n",
       "                (0): SiLU()\n",
       "                (1): Linear(in_features=256, out_features=1024, bias=True)\n",
       "              )\n",
       "            )\n",
       "            (mlp): MLP(\n",
       "              (fc1): Linear(in_features=512, out_features=2048, bias=True)\n",
       "              (act): GELU(approximate='none')\n",
       "              (fc2): Linear(in_features=2048, out_features=512, bias=True)\n",
       "              (drop): Dropout(p=0.0, inplace=False)\n",
       "            )\n",
       "          )\n",
       "        )\n",
       "        (upsample): PatchSplitting3D(\n",
       "          (lin1): Linear(in_features=512, out_features=1024, bias=False)\n",
       "          (lin2): Linear(in_features=256, out_features=256, bias=False)\n",
       "          (norm): LayerNorm((256,), eps=1e-05, elementwise_affine=True)\n",
       "        )\n",
       "      )\n",
       "      (2): Basic3DDecoderLayer(\n",
       "        (blocks): ModuleList(\n",
       "          (0-1): 2 x Swin3DTransformerBlock(\n",
       "            (norm1): AdaptiveLayerNorm(\n",
       "              (ln): LayerNorm((256,), eps=1e-05, elementwise_affine=False)\n",
       "              (ln_modulation): Sequential(\n",
       "                (0): SiLU()\n",
       "                (1): Linear(in_features=256, out_features=512, bias=True)\n",
       "              )\n",
       "            )\n",
       "            (attn): WindowAttention(\n",
       "              dim=256, window_size=(2, 6, 12), num_heads=4\n",
       "              (qkv): Linear(in_features=256, out_features=768, bias=True)\n",
       "              (proj): Linear(in_features=256, out_features=256, bias=True)\n",
       "              (proj_drop): Dropout(p=0.0, inplace=False)\n",
       "            )\n",
       "            (drop_path): Identity()\n",
       "            (norm2): AdaptiveLayerNorm(\n",
       "              (ln): LayerNorm((256,), eps=1e-05, elementwise_affine=False)\n",
       "              (ln_modulation): Sequential(\n",
       "                (0): SiLU()\n",
       "                (1): Linear(in_features=256, out_features=512, bias=True)\n",
       "              )\n",
       "            )\n",
       "            (mlp): MLP(\n",
       "              (fc1): Linear(in_features=256, out_features=1024, bias=True)\n",
       "              (act): GELU(approximate='none')\n",
       "              (fc2): Linear(in_features=1024, out_features=256, bias=True)\n",
       "              (drop): Dropout(p=0.0, inplace=False)\n",
       "            )\n",
       "          )\n",
       "        )\n",
       "      )\n",
       "    )\n",
       "  )\n",
       "  (decoder): Perceiver3DDecoder(\n",
       "    (level_decoder): PerceiverResampler(\n",
       "      (layers): ModuleList(\n",
       "        (0): ModuleList(\n",
       "          (0): PerceiverAttention(\n",
       "            (to_q): Linear(in_features=512, out_features=512, bias=False)\n",
       "            (to_kv): Linear(in_features=512, out_features=1024, bias=False)\n",
       "            (to_out): Linear(in_features=512, out_features=512, bias=False)\n",
       "          )\n",
       "          (1): MLP(\n",
       "            (net): Sequential(\n",
       "              (0): Linear(in_features=512, out_features=1024, bias=True)\n",
       "              (1): GELU(approximate='none')\n",
       "              (2): Linear(in_features=1024, out_features=512, bias=True)\n",
       "              (3): Dropout(p=0.0, inplace=False)\n",
       "            )\n",
       "          )\n",
       "          (2-3): 2 x LayerNorm((512,), eps=1e-05, elementwise_affine=True)\n",
       "        )\n",
       "      )\n",
       "    )\n",
       "    (surf_heads): ParameterDict(\n",
       "        (10u): Object of type: Linear\n",
       "        (10v): Object of type: Linear\n",
       "        (2t): Object of type: Linear\n",
       "        (msl): Object of type: Linear\n",
       "      (10u): Linear(in_features=512, out_features=16, bias=True)\n",
       "      (10v): Linear(in_features=512, out_features=16, bias=True)\n",
       "      (2t): Linear(in_features=512, out_features=16, bias=True)\n",
       "      (msl): Linear(in_features=512, out_features=16, bias=True)\n",
       "    )\n",
       "    (atmos_heads): ParameterDict(\n",
       "        (q): Object of type: Linear\n",
       "        (t): Object of type: Linear\n",
       "        (u): Object of type: Linear\n",
       "        (v): Object of type: Linear\n",
       "        (z): Object of type: Linear\n",
       "      (q): Linear(in_features=512, out_features=16, bias=True)\n",
       "      (t): Linear(in_features=512, out_features=16, bias=True)\n",
       "      (u): Linear(in_features=512, out_features=16, bias=True)\n",
       "      (v): Linear(in_features=512, out_features=16, bias=True)\n",
       "      (z): Linear(in_features=512, out_features=16, bias=True)\n",
       "    )\n",
       "    (atmos_levels_embed): Linear(in_features=512, out_features=512, bias=True)\n",
       "  )\n",
       ")"
      ]
     },
     "execution_count": 52,
     "metadata": {},
     "output_type": "execute_result"
    }
   ],
   "source": [
    "model"
   ]
  },
  {
   "cell_type": "markdown",
   "metadata": {},
   "source": []
  },
  {
   "cell_type": "markdown",
   "metadata": {},
   "source": []
  }
 ],
 "metadata": {
  "kernelspec": {
   "display_name": "venv",
   "language": "python",
   "name": "python3"
  },
  "language_info": {
   "codemirror_mode": {
    "name": "ipython",
    "version": 3
   },
   "file_extension": ".py",
   "mimetype": "text/x-python",
   "name": "python",
   "nbconvert_exporter": "python",
   "pygments_lexer": "ipython3",
   "version": "3.10.15"
  }
 },
 "nbformat": 4,
 "nbformat_minor": 2
}
